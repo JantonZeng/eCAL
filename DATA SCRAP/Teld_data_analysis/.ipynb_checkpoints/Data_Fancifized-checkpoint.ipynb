{
 "cells": [
  {
   "cell_type": "code",
   "execution_count": 1,
   "metadata": {
    "collapsed": false
   },
   "outputs": [
    {
     "name": "stdout",
     "output_type": "stream",
     "text": [
      "Importing Jupyter notebook from Init_database.ipynb\n"
     ]
    }
   ],
   "source": [
    "import psycopg2\n",
    "import requests\n",
    "import nbimporter\n",
    "import Init_database as indb"
   ]
  },
  {
   "cell_type": "code",
   "execution_count": 70,
   "metadata": {
    "collapsed": true
   },
   "outputs": [],
   "source": [
    "db_name=\"db_teld\"\n",
    "user_name=\"postgres\"\n",
    "password = \"postgres\"\n",
    "host=\"169.229.157.40\"\n",
    "port=\"5432\"\n",
    "conn = indb.init_db(db_name, user_name, password, host, port)"
   ]
  },
  {
   "cell_type": "code",
   "execution_count": 68,
   "metadata": {
    "collapsed": false
   },
   "outputs": [
    {
     "name": "stdout",
     "output_type": "stream",
     "text": [
      "('POINT(116.26327 39.863907)',)\n",
      "(116.26327, 39.863907)\n"
     ]
    }
   ],
   "source": [
    "try:\n",
    "    cur = conn.cursor()\n",
    "    stmt1 = \"select ST_AsText(location) from tbl_app_eachstations\"\n",
    "    cur.execute(stmt1)\n",
    "    station_loc1 = cur.fetchall()\n",
    "    stmt2 = \"select ST_X(location), ST_Y(location) from tbl_app_eachstations\"\n",
    "    cur.execute(stmt2)\n",
    "    station_loc2 = cur.fetchall()\n",
    "    cur.close()\n",
    "except psycopg2.Error as e:\n",
    "    print(e)\n",
    "print(station_loc1[0])\n",
    "print(station_loc2[0])"
   ]
  },
  {
   "cell_type": "code",
   "execution_count": 14,
   "metadata": {
    "collapsed": false
   },
   "outputs": [
    {
     "name": "stdout",
     "output_type": "stream",
     "text": [
      "('Number of stations with user activites: ', 3899)\n",
      "('Nubmer of pills: ', 86)\n"
     ]
    }
   ],
   "source": [
    "# #------- Request stationid which has user activities from db -------#\n",
    "try:\n",
    "    cur = conn.cursor()\n",
    "    cur.execute(\"select distinct stationid from tbl_app_useractivity;\")\n",
    "    stationWithAct_list = cur.fetchall()\n",
    "    cur.close()\n",
    "except psycopg2.Error as e:\n",
    "    print(e)\n",
    "print(\"Number of stations with user activites: \", len(stationWithAct_list))\n",
    "# #------- Request pilecode from db for states -------#\n",
    "staid_list = []\n",
    "for staid in stationWithAct_list:\n",
    "    staid_list.append(staid[0])\n",
    "try:\n",
    "    cur = conn.cursor()\n",
    "    sta_list = ['2b3a35d4-cb94-4b8f-a47a-bbb054754066', '1d02640a-7f14-4fc3-baaf-60754a38fff7',\n",
    "                'ac6cb946-5fff-491b-859e-55cc5f701657', 'dd4a3ddc-e1b0-4e2e-b7ca-faef627f4e66',\n",
    "                'b134a159-16bd-4f5d-af1b-cd42599a3bab', '33a3c031-0a3a-417d-ba1b-53549bb08dc2', \n",
    "                'e4758edb-1183-4c51-887b-a52ca7abef3d', '13bdab71-110b-4448-a3c4-5c3113183546']\n",
    "    #1. beijing hangkong jingmi jixie yanjiusuo chongdianzhan --'2b3a35d4-cb94-4b8f-a47a-bbb054754066',\n",
    "    #2. beijing xijiao bingguan chongdianzhan -- '1d02640a-7f14-4fc3-baaf-60754a38fff7\n",
    "    #3. beijing yangguanglicheng jiudian chongdianzhan --'ac6cb946-5fff-491b-859e-55cc5f701657',\n",
    "    #4. beijing rongtao gongsi chongdianzhan -- '32d317a9-3d0c-4458-8357-89a2b3b1cf94'\n",
    "    #5. beijing huairou qu yanshui lu -- 'dd4a3ddc-e1b0-4e2e-b7ca-faef627f4e66'\n",
    "    \n",
    "    #6. shenzhen hengjiang dasha chongdianzhan -- 'b134a159-16bd-4f5d-af1b-cd42599a3bab'\n",
    "    #7. shenzhen yinxing gongyeyuan chongdianzhan -- '33a3c031-0a3a-417d-ba1b-53549bb08dc2'\n",
    "    #8. shenzhe wanke jiulongshan chongdianzhan -- 'e4758edb-1183-4c51-887b-a52ca7abef3d'\n",
    "    #9. shenzhen jingyuan dasha chongdianzhan -- '13bdab71-110b-4448-a3c4-5c3113183546'\n",
    "    stmt = \"select pilecode from tbl_APP_pilecode where staid in %s\"\n",
    "    cur.execute(stmt, (tuple(sta_list),))\n",
    "    \n",
    "#     stmt = \"select pilecode from tbl_APP_pilecode where staid = 'dd4a3ddc-e1b0-4e2e-b7ca-faef627f4e66'\"\n",
    "#     cur.execute(stmt)\n",
    "#     cur.execute(\"select pilecode from tbl_APP_pilecode\")\n",
    "    pillcode_list = cur.fetchall()\n",
    "    cur.close()\n",
    "except psycopg2.Error as e:\n",
    "    print(e)\n",
    "print(\"Nubmer of pills: \", len(pillcode_list))"
   ]
  },
  {
   "cell_type": "code",
   "execution_count": 28,
   "metadata": {
    "collapsed": false
   },
   "outputs": [
    {
     "data": {
      "text/plain": [
       "'1101080330203'"
      ]
     },
     "execution_count": 28,
     "metadata": {},
     "output_type": "execute_result"
    }
   ],
   "source": [
    "pillcode_list[0][0]"
   ]
  },
  {
   "cell_type": "code",
   "execution_count": 50,
   "metadata": {
    "collapsed": false
   },
   "outputs": [],
   "source": [
    "# #------- Print attributes of charging piles -------#\n",
    "try:\n",
    "    cur = conn.cursor()\n",
    "    stmt = \"select column_name from INFORMATION_SCHEMA.COLUMNS where table_name = '{}'\".format('tbl_app_piles')\n",
    "    cur.execute(stmt)\n",
    "    pill_attr = cur.fetchall()\n",
    "    cur.close()\n",
    "except psycopg2.Error as e:\n",
    "    print(e)\n",
    "# for _ in pill_attr:\n",
    "#     print(_[0])"
   ]
  },
  {
   "cell_type": "markdown",
   "metadata": {},
   "source": [
    "# Create a charing station object"
   ]
  },
  {
   "cell_type": "code",
   "execution_count": 82,
   "metadata": {
    "collapsed": true
   },
   "outputs": [],
   "source": [
    "class station(object):\n",
    "    def __init__(self, stationid, score, pricescore, servicescore, \n",
    "                 stationname, stationaddress, location, num_pills):\n",
    "        self.id = stationid\n",
    "        self.score = score\n",
    "        self.pricescore = pricescore\n",
    "        self.servicescore = servicescore\n",
    "        self.name = stationname\n",
    "        self.addr = stationaddress\n",
    "        self.GPS = location\n",
    "        self.pills = num_pills\n",
    "    def update_numPills():\n",
    "        self.pills += 1\n",
    "    def delete_numPills():\n",
    "        if self.pills >= 1:\n",
    "            self.pills -= 1"
   ]
  },
  {
   "cell_type": "code",
   "execution_count": null,
   "metadata": {
    "collapsed": true
   },
   "outputs": [],
   "source": [
    "class pill(station):\n",
    "    def __init__(self, pillcode, voltage, description, isfast, chargingport, power, pricedesc, prices, pricesize):\n",
    "        self.pillcdoe = pillcode\n",
    "        self.voltage = voltage\n",
    "        self.description = description\n",
    "        self.isfast = isfast\n",
    "        self.chargingport = chargingport\n",
    "        self.power = power\n",
    "        self.pricedesc = pricedesc\n",
    "        sefl.prices = prices\n",
    "        sefl.pricesize = pricesize\n",
    "    "
   ]
  },
  {
   "cell_type": "markdown",
   "metadata": {},
   "source": [
    "# Create a charging pill object"
   ]
  },
  {
   "cell_type": "code",
   "execution_count": null,
   "metadata": {
    "collapsed": true
   },
   "outputs": [],
   "source": []
  },
  {
   "cell_type": "markdown",
   "metadata": {},
   "source": [
    "# One pill daily utilization data from db"
   ]
  },
  {
   "cell_type": "code",
   "execution_count": 77,
   "metadata": {
    "collapsed": false
   },
   "outputs": [],
   "source": [
    "# #------- Request one pill daily utilization data from db -------#\n",
    "try:\n",
    "    cur = conn.cursor()\n",
    "    stmt = \"select pillcode, statecode, statename, time from tbl_APP_state where pillcode='{}'\".format(pillcode_list[0][0])\n",
    "    cur.execute(stmt)\n",
    "    ult_data = cur.fetchall()\n",
    "    cur.close()\n",
    "except psycopg2.Error as e:\n",
    "    print(e)\n",
    "# #------- Request the pill details from db -------#\n",
    "try:\n",
    "    cur = conn.cursor()\n",
    "    stmt = \"select voltage, description, isfast, chargingport, power, pricedesc, prices, pricesize from tbl_app_piles where pillcode='{}'\".format(pillcode_list[0][0])\n",
    "    cur.execute(stmt)\n",
    "    pill_details = cur.fetchall()\n",
    "    cur.close()\n",
    "except psycopg2.Error as e:\n",
    "    print(e)\n",
    "\n",
    "    # #------- Request the station details from db -------#\n",
    "try:\n",
    "    cur = conn.cursor()\n",
    "    stmt = \"select servicescore, score, pricescore, stationname, stationaddress, ST_X(location), ST_Y(location) from tbl_app_eachstations where stationid='{}'\".format(sta_list[0])\n",
    "    cur.execute(stmt)\n",
    "    sta_details = cur.fetchall()\n",
    "    cur.close()\n",
    "except psycopg2.Error as e:\n",
    "    print(e)"
   ]
  },
  {
   "cell_type": "code",
   "execution_count": 80,
   "metadata": {
    "collapsed": false
   },
   "outputs": [
    {
     "name": "stdout",
     "output_type": "stream",
     "text": [
      "200V-500V\n",
      "00:00~24:00:0.800000:00~24:00:1.1000\n",
      "Y\n",
      "国标2011 国标2015 \n",
      "15kW-90kW\n",
      "电费:00:00~24:00:1.1000;服务费:00:00~24:00:0.8000\n",
      "[{u'servicePrice': u'0.8000', u'timeRange': u'00:00-24:00', u'electricPrice': u'1.1000', u'startTime': u'00:00'}]\n",
      "1\n"
     ]
    }
   ],
   "source": [
    "for _ in pill_details[0]:\n",
    "    print(_)"
   ]
  },
  {
   "cell_type": "code",
   "execution_count": 79,
   "metadata": {
    "collapsed": false
   },
   "outputs": [
    {
     "name": "stdout",
     "output_type": "stream",
     "text": [
      "--\n",
      "--\n",
      "--\n",
      "北京航空精密机械研究所充电站\n",
      "北京市市辖区丰台区南苑东路5号\n",
      "116.407528\n",
      "39.806932\n"
     ]
    }
   ],
   "source": [
    "for _ in sta_details[0]:\n",
    "    print(_)"
   ]
  },
  {
   "cell_type": "code",
   "execution_count": null,
   "metadata": {
    "collapsed": true
   },
   "outputs": [],
   "source": []
  },
  {
   "cell_type": "code",
   "execution_count": null,
   "metadata": {
    "collapsed": true
   },
   "outputs": [],
   "source": []
  },
  {
   "cell_type": "code",
   "execution_count": null,
   "metadata": {
    "collapsed": true
   },
   "outputs": [],
   "source": []
  },
  {
   "cell_type": "code",
   "execution_count": null,
   "metadata": {
    "collapsed": true
   },
   "outputs": [],
   "source": []
  },
  {
   "cell_type": "code",
   "execution_count": null,
   "metadata": {
    "collapsed": true
   },
   "outputs": [],
   "source": []
  },
  {
   "cell_type": "code",
   "execution_count": null,
   "metadata": {
    "collapsed": true
   },
   "outputs": [],
   "source": []
  },
  {
   "cell_type": "code",
   "execution_count": null,
   "metadata": {
    "collapsed": true
   },
   "outputs": [],
   "source": []
  },
  {
   "cell_type": "code",
   "execution_count": null,
   "metadata": {
    "collapsed": true
   },
   "outputs": [],
   "source": []
  },
  {
   "cell_type": "code",
   "execution_count": null,
   "metadata": {
    "collapsed": true
   },
   "outputs": [],
   "source": []
  }
 ],
 "metadata": {
  "kernelspec": {
   "display_name": "Python 2",
   "language": "python",
   "name": "python2"
  },
  "language_info": {
   "codemirror_mode": {
    "name": "ipython",
    "version": 2
   },
   "file_extension": ".py",
   "mimetype": "text/x-python",
   "name": "python",
   "nbconvert_exporter": "python",
   "pygments_lexer": "ipython2",
   "version": "2.7.13"
  }
 },
 "nbformat": 4,
 "nbformat_minor": 2
}
