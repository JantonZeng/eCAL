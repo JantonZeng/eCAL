{
 "cells": [
  {
   "cell_type": "code",
   "execution_count": 1,
   "metadata": {
    "collapsed": false
   },
   "outputs": [
    {
     "name": "stdout",
     "output_type": "stream",
     "text": [
      "Importing Jupyter notebook from Init_database.ipynb\n"
     ]
    }
   ],
   "source": [
    "import psycopg2\n",
    "import requests\n",
    "import nbimporter\n",
    "import Init_database as indb"
   ]
  },
  {
   "cell_type": "code",
   "execution_count": 4,
   "metadata": {
    "collapsed": false
   },
   "outputs": [],
   "source": [
    "db_name=\"db_teld\"\n",
    "user_name=\"postgres\"\n",
    "password = \"ecalscraping\"\n",
    "host=\"169.229.157.40\"\n",
    "port=\"5432\"\n",
    "conn = indb.init_db(db_name, user_name, password, host, port)"
   ]
  },
  {
   "cell_type": "code",
   "execution_count": 5,
   "metadata": {
    "collapsed": false
   },
   "outputs": [
    {
     "name": "stdout",
     "output_type": "stream",
     "text": [
      "8866\n",
      "(116.26327, 39.863907)\n"
     ]
    }
   ],
   "source": [
    "try:\n",
    "    cur = conn.cursor()\n",
    "    stmt1 = \"select ST_AsText(location) from tbl_app_eachstations\"\n",
    "    cur.execute(stmt1)\n",
    "    station_loc1 = cur.fetchall()\n",
    "    stmt2 = \"select ST_X(location), ST_Y(location) from tbl_app_eachstations\"\n",
    "    cur.execute(stmt2)\n",
    "    station_loc2 = cur.fetchall()\n",
    "    cur.close()\n",
    "except psycopg2.Error as e:\n",
    "    print(e)\n",
    "print(len(station_loc1))\n",
    "print(station_loc2[0])"
   ]
  },
  {
   "cell_type": "code",
   "execution_count": 6,
   "metadata": {
    "collapsed": false
   },
   "outputs": [
    {
     "name": "stdout",
     "output_type": "stream",
     "text": [
      "8866\n"
     ]
    }
   ],
   "source": [
    "try:\n",
    "    cur = conn.cursor()\n",
    "    stm3 = \"select stationid from tbl_app_eachstations\"\n",
    "    cur.execute(stm3)\n",
    "    station_list_all = cur.fetchall()\n",
    "    cur.close()\n",
    "    print(len(station_list_all))\n",
    "except psycopg2.Error as e:\n",
    "    print(e)"
   ]
  },
  {
   "cell_type": "code",
   "execution_count": 7,
   "metadata": {
    "collapsed": false
   },
   "outputs": [
    {
     "name": "stdout",
     "output_type": "stream",
     "text": [
      "5\n"
     ]
    }
   ],
   "source": [
    "try:\n",
    "    count_list = []\n",
    "    for i, stationid in enumerate(stationId[:5]):\n",
    "        conn = indb.init_db(db_name, user_name, password, host, port)\n",
    "        cur = conn.cursor()\n",
    "        stm4 = \"select count(*) from tbl_app_state where pillcode in (select pillcode from tbl_app_piles where staid = %s)\"\n",
    "        cur.execute(stm4, (stationid[0],))\n",
    "        count = cur.fetchall()\n",
    "        count_list.append(count)\n",
    "        cur.close()\n",
    "except psycopg2.Error as e:\n",
    "    print(e)\n",
    "print(len(count_list))"
   ]
  },
  {
   "cell_type": "code",
   "execution_count": 7,
   "metadata": {
    "collapsed": false
   },
   "outputs": [
    {
     "name": "stdout",
     "output_type": "stream",
     "text": [
      "46\n"
     ]
    }
   ],
   "source": [
    "# #------- Request pilecode from db for states -------#\n",
    "try:\n",
    "    cur = conn.cursor()\n",
    "    sta_list = ['b134a159-16bd-4f5d-af1b-cd42599a3bab', '33a3c031-0a3a-417d-ba1b-53549bb08dc2', \n",
    "                'e4758edb-1183-4c51-887b-a52ca7abef3d', '13bdab71-110b-4448-a3c4-5c3113183546']\n",
    "    #1. beijing hangkong jingmi jixie yanjiusuo chongdianzhan --'2b3a35d4-cb94-4b8f-a47a-bbb054754066',\n",
    "    #2. beijing xijiao bingguan chongdianzhan -- '1d02640a-7f14-4fc3-baaf-60754a38fff7\n",
    "    #3. beijing yangguanglicheng jiudian chongdianzhan --'ac6cb946-5fff-491b-859e-55cc5f701657',\n",
    "    #4. beijing rongtao gongsi chongdianzhan -- '32d317a9-3d0c-4458-8357-89a2b3b1cf94'\n",
    "    #5. beijing huairou qu yanshui lu -- 'dd4a3ddc-e1b0-4e2e-b7ca-faef627f4e66'\n",
    "    \n",
    "    #6. shenzhen hengjiang dasha chongdianzhan -- 'b134a159-16bd-4f5d-af1b-cd42599a3bab'\n",
    "    #7. shenzhen yinxing gongyeyuan chongdianzhan -- '33a3c031-0a3a-417d-ba1b-53549bb08dc2'\n",
    "    #8. shenzhe wanke jiulongshan chongdianzhan -- 'e4758edb-1183-4c51-887b-a52ca7abef3d'\n",
    "    #9. shenzhen jingyuan dasha chongdianzhan -- '13bdab71-110b-4448-a3c4-5c3113183546'\n",
    "    stmt = \"select pilecode from tbl_APP_pilecode where staid in %s\"\n",
    "    cur.execute(stmt, (tuple(sta_list),))\n",
    "    pillcode_list = cur.fetchall()\n",
    "    cur.close()\n",
    "except psycopg2.Error as e:\n",
    "    print(e)\n",
    "print(len(pillcode_list))"
   ]
  },
  {
   "cell_type": "code",
   "execution_count": 8,
   "metadata": {
    "collapsed": false
   },
   "outputs": [
    {
     "name": "stdout",
     "output_type": "stream",
     "text": [
      "Beijing piles: 6749\n"
     ]
    }
   ],
   "source": [
    "# #------- Request Beijing charging pilecode from db for states -------#\n",
    "try:\n",
    "    cur = conn.cursor()\n",
    "#     stmt1 = \"select stationid from tbl_app_eachstations where tbl_app_eachstations.location && ST_MakeEnvelope(115.37916, 39.47148, 117.15623, 40.81726, 4326);\"    \n",
    "    stmt1 = \"select stationid from tbl_app_eachstations where tbl_app_eachstations.location && ST_MakeEnvelope(115.37916, 39.47148, 117.15623, 40.81726, 4326) intersect select distinct stationid from tbl_app_useractivity;\"\n",
    "    cur.execute(stmt1)\n",
    "    sta_list = cur.fetchall()\n",
    "    sta_list_clean = []\n",
    "    for sta in sta_list:\n",
    "        sta_list_clean.append(sta[0])\n",
    "    stmt2 = \"select pilecode from tbl_APP_pilecode where staid in %s\"\n",
    "    cur.execute(stmt2, (tuple(sta_list_clean),))\n",
    "    pillcode_list = cur.fetchall()\n",
    "    cur.close()\n",
    "except psycopg2.Error as e:\n",
    "    print(e)\n",
    "print(\"Beijing piles: \" + str(len(pillcode_list)))"
   ]
  },
  {
   "cell_type": "code",
   "execution_count": 16,
   "metadata": {
    "collapsed": false
   },
   "outputs": [
    {
     "name": "stdout",
     "output_type": "stream",
     "text": [
      "pile code: ('4403060063105',)\n",
      "Shenzhen piles: 926\n",
      "Pile activities in total: 1781\n"
     ]
    }
   ],
   "source": [
    "# #------- Request Shenzhen charging pilecode from db for states -------#\n",
    "try:\n",
    "    cur = conn.cursor()\n",
    "#     stmt1 = \"select stationid from tbl_app_eachstations where tbl_app_eachstations.location && ST_MakeEnvelope(115.37916, 39.47148, 117.15623, 40.81726, 4326);\"    \n",
    "    stmt1 = \"select stationid from tbl_app_eachstations where tbl_app_eachstations.location && ST_MakeEnvelope(113.85955, 22.50563, 114.17335, 22.69960, 4326) intersect select distinct stationid from tbl_app_useractivity;\"\n",
    "    cur.execute(stmt1)\n",
    "    sta_list = cur.fetchall()\n",
    "    sta_list_clean = []\n",
    "    for sta in sta_list:\n",
    "        sta_list_clean.append(sta[0])\n",
    "    stmt2 = \"select pilecode from tbl_APP_pilecode where staid in %s\"\n",
    "    cur.execute(stmt2, (tuple(sta_list_clean),))\n",
    "    pillcode_list = cur.fetchall()\n",
    "    stmt3 = \"select count(*) from tbl_app_state where pillcode= %s\"\n",
    "    print(\"pile code: \"+ str(pillcode_list[0]))\n",
    "    cur.execute(stmt3, (pillcode_list[0]))\n",
    "    rowcount = cur.fetchall()\n",
    "    cur.close()\n",
    "except psycopg2.Error as e:\n",
    "    print(e)\n",
    "print(\"Shenzhen piles: \" + str(len(pillcode_list)))\n",
    "print(\"Pile activities in total: \" + str(int(rowcount[0][0])))"
   ]
  },
  {
   "cell_type": "code",
   "execution_count": 15,
   "metadata": {
    "collapsed": false
   },
   "outputs": [
    {
     "data": {
      "text/plain": [
       "1776"
      ]
     },
     "execution_count": 15,
     "metadata": {},
     "output_type": "execute_result"
    }
   ],
   "source": []
  },
  {
   "cell_type": "code",
   "execution_count": null,
   "metadata": {
    "collapsed": true
   },
   "outputs": [],
   "source": []
  }
 ],
 "metadata": {
  "kernelspec": {
   "display_name": "Python 2",
   "language": "python",
   "name": "python2"
  },
  "language_info": {
   "codemirror_mode": {
    "name": "ipython",
    "version": 2
   },
   "file_extension": ".py",
   "mimetype": "text/x-python",
   "name": "python",
   "nbconvert_exporter": "python",
   "pygments_lexer": "ipython2",
   "version": "2.7.13"
  }
 },
 "nbformat": 4,
 "nbformat_minor": 2
}
