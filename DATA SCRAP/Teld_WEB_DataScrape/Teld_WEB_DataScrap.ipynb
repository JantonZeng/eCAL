{
 "cells": [
  {
   "cell_type": "code",
   "execution_count": 1,
   "metadata": {},
   "outputs": [
    {
     "name": "stdout",
     "output_type": "stream",
     "text": [
      "Importing Jupyter notebook from Proxy_Gatherer.ipynb\n",
      "Importing Jupyter notebook from Init_database.ipynb\n",
      "Importing Jupyter notebook from Insert_py.ipynb\n",
      "Importing Jupyter notebook from Get_py.ipynb\n"
     ]
    }
   ],
   "source": [
    "import json\n",
    "import datetime\n",
    "import time\n",
    "import requests\n",
    "import nbimporter\n",
    "import random\n",
    "import Proxy_Gatherer as pg\n",
    "import Init_database as indb\n",
    "import Insert_py\n",
    "import Get_py"
   ]
  },
  {
   "cell_type": "code",
   "execution_count": 2,
   "metadata": {},
   "outputs": [
    {
     "name": "stdout",
     "output_type": "stream",
     "text": [
      "Importing Jupyter notebook from Create_Teld_Database.ipynb\n"
     ]
    }
   ],
   "source": [
    "#--------THIS ONLY RUNS ONE TIME TO CREATE A DATABASE FRAMEWORK--------#\n",
    "import Create_Teld_Database as ctd\n",
    "db_init = ctd.create_teld_database()"
   ]
  },
  {
   "cell_type": "code",
   "execution_count": 3,
   "metadata": {},
   "outputs": [],
   "source": [
    "#--------INITIALIZING CONNECTION TO DATABASE--------#\n",
    "db_name=\"db_teld\"\n",
    "user_name=\"janton\"\n",
    "host=\"127.0.0.1\"\n",
    "port=\"5432\"\n",
    "conn = indb.init_db(db_name, user_name, host, port)"
   ]
  },
  {
   "cell_type": "code",
   "execution_count": 4,
   "metadata": {},
   "outputs": [],
   "source": [
    "##------- Gathering proxies for visiting teld.cn -------##\n",
    "hdr = {'User-Agent':'Mozilla/5.0 (Macintosh; Intel Mac OS X 10_12_5) AppleWebKit/537.36 (KHTML, like Gecko) Chrome/\\\n",
    "59.0.3071.115 Safari/537.36', \n",
    "        'Accept':'text/html,application/xhtml+xml,application/xml;q=0.9,image/webp,image/apng,*/*;q=0.8'}\n",
    "#--------\n",
    "# gatherproxy = pg.ProxyGatherer(hdr)\n",
    "# proxies = gatherproxy.getproxies()\n",
    "# # t = time.time()\n",
    "# proxies_pool = gatherproxy.proxies_cleanup(proxies) # Could also specify timeout limit you prefer, \n",
    "#                                                                 #format--(connect time, read time)\n",
    "# print(time.time()-t)  ## usually this checking process takes a minute or so and usable proxies are around 80+."
   ]
  },
  {
   "cell_type": "code",
   "execution_count": 5,
   "metadata": {},
   "outputs": [],
   "source": [
    "proxies_pool=[{'http': '124.239.177.85:8080'}]"
   ]
  },
  {
   "cell_type": "code",
   "execution_count": 6,
   "metadata": {},
   "outputs": [],
   "source": [
    "#specify request header\n",
    "# hdr = {'User-Agent':'Mozilla/5.0 (Macintosh; Intel Mac OS X 10_12_5) AppleWebKit/537.36 (KHTML, like Gecko) Chrome/\\\n",
    "# 59.0.3071.115 Safari/537.36', \n",
    "#         'Accept':'text/html,application/xhtml+xml,application/xml;q=0.9,image/webp,image/apng,*/*;q=0.8'} "
   ]
  },
  {
   "cell_type": "code",
   "execution_count": 7,
   "metadata": {},
   "outputs": [],
   "source": [
    "# print(len(proxies_pool))"
   ]
  },
  {
   "cell_type": "code",
   "execution_count": 8,
   "metadata": {},
   "outputs": [
    {
     "name": "stdout",
     "output_type": "stream",
     "text": [
      "time for a sleep zz..\n",
      "time for a sleep zz..\n"
     ]
    }
   ],
   "source": [
    "endTime = datetime.datetime.now() + datetime.timedelta(minutes=1)\n",
    "\n",
    "while True:\n",
    "    if datetime.datetime.now() >= endTime:\n",
    "        break\n",
    "    #--------GATHERING STATIONS DATA FROM WEBSITE--------#\n",
    "    station_info = Get_py.get_station(hdr,7,7,10)\n",
    "    #--------INSERTING STATIONS DATA--------#\n",
    "    conn = Insert_py.insert_station_info(conn, station_info)\n",
    "    #--------GATHERING PILE DATA FROM WEBSITE--------#\n",
    "    for station in station_info:\n",
    "        piles_info = Get_py.get_piles(station['code'], proxies_pool, hdr)\n",
    "        conn = Insert_py.insert_pile_info(conn, str(station['code']), piles_info)\n",
    "    print(\"time for a sleep zz..\")\n",
    "    time.sleep(30)\n",
    "    "
   ]
  },
  {
   "cell_type": "code",
   "execution_count": null,
   "metadata": {
    "collapsed": true
   },
   "outputs": [],
   "source": []
  },
  {
   "cell_type": "code",
   "execution_count": 9,
   "metadata": {},
   "outputs": [],
   "source": [
    "# print((station_info[19]['operateTypeName'].encode('utf-8')))\n",
    "# print(type(str(station_info[19]['latitude'])))"
   ]
  },
  {
   "cell_type": "code",
   "execution_count": 10,
   "metadata": {},
   "outputs": [],
   "source": [
    "# REQUEST_URL = 'https://www.teld.cn/StationNetwork/GetStationNetword?ProvinceName=&CityName=&KeyWords=&RegionName=& \\\n",
    "#                             type=&page=1&rows=10'\n",
    "# # req = urllib.request.Request(REQUEST_URL) \n",
    "# hdr = {'User-Agent':'Mozilla/5.0 (Macintosh; Intel Mac OS X 10_12_5) AppleWebKit/537.36 (KHTML, like Gecko) Chrome/ \\\n",
    "#                        59.0.3071.115 Safari/537.36', \n",
    "#        'Accept':'text/html,application/xhtml+xml,application/xml;q=0.9,image/webp,image/apng,*/*;q=0.8'}\n",
    "# response = urllib2.Request(REQUEST_URL, headers=hdr)\n",
    "\n",
    "# try:\n",
    "#     page = urllib2.urlopen(response)\n",
    "# except urllib2.HTTPError, e:\n",
    "#     print e.fp.read()\n",
    "    \n",
    "# content = json.load(page)\n",
    "# print(content['rows'][0])\n",
    "# response_data = urllib.request.urlopen(REQUEST_URL)\n",
    "# d = json.load(response_data)\n",
    "# print('number of results %d' % (len(d)))\n",
    "# type(response_data)"
   ]
  },
  {
   "cell_type": "code",
   "execution_count": 11,
   "metadata": {},
   "outputs": [],
   "source": [
    "# conn = Insert_py.insert_station_info(conn, station_info)"
   ]
  },
  {
   "cell_type": "code",
   "execution_count": 12,
   "metadata": {},
   "outputs": [],
   "source": [
    "#conn = Insert_py.insert_pile_info(conn, str(station_info[1]['code']), piles_info)"
   ]
  },
  {
   "cell_type": "code",
   "execution_count": null,
   "metadata": {},
   "outputs": [],
   "source": []
  },
  {
   "cell_type": "code",
   "execution_count": null,
   "metadata": {},
   "outputs": [],
   "source": []
  }
 ],
 "metadata": {
  "kernelspec": {
   "display_name": "Python 2",
   "language": "python",
   "name": "python2"
  },
  "language_info": {
   "codemirror_mode": {
    "name": "ipython",
    "version": 2
   },
   "file_extension": ".py",
   "mimetype": "text/x-python",
   "name": "python",
   "nbconvert_exporter": "python",
   "pygments_lexer": "ipython2",
   "version": "2.7.12"
  }
 },
 "nbformat": 4,
 "nbformat_minor": 1
}
