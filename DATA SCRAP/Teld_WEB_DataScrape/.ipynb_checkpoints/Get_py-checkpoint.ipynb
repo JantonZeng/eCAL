{
 "cells": [
  {
   "cell_type": "code",
   "execution_count": 1,
   "metadata": {
    "collapsed": true
   },
   "outputs": [],
   "source": [
    "import requests\n",
    "import random"
   ]
  },
  {
   "cell_type": "code",
   "execution_count": 2,
   "metadata": {
    "collapsed": false
   },
   "outputs": [],
   "source": [
    "def get_station(header, start_page=1, end_page=2, row_nmb=10):\n",
    "    \"\"\"\n",
    "    return a list of dictionaries that contains charging station info\n",
    "    \"\"\"\n",
    "    curr_page = start_page #specify starting page to scrape, usually it is page 1.\n",
    "    page_end = end_page  #specify the page wanted to end scraping. Don't worry if number is too large, \n",
    "                                                                                        #we ends when page is empty.\n",
    "    row_nmb = row_nmb  #specify how many rows per request returns.\n",
    "    station_info = []  #summarizing all the station location data.\n",
    "    \n",
    "    #Starting iteration going over website to scrape station locations\n",
    "    while curr_page <= page_end:\n",
    "        REQUEST_URL = 'https://www.teld.cn/StationNetwork/GetStationNetword?ProvinceName=&CityName=&KeyWords=&\\\n",
    "RegionName=&type=&page={}'.format(curr_page) + '&rows={}'.format(row_nmb)\n",
    "        resp = requests.get(REQUEST_URL, headers=header)\n",
    "        curr_page += 1\n",
    "        json_requestData = resp.json()\n",
    "        station_info = station_info + json_requestData['rows']\n",
    "    return station_info"
   ]
  },
  {
   "cell_type": "code",
   "execution_count": 3,
   "metadata": {
    "collapsed": false
   },
   "outputs": [],
   "source": [
    "def get_piles(station_code, proxies_pool, header, time_out=20):\n",
    "    \"\"\"\n",
    "    return json object containing piles information\n",
    "    \"pile code\" format - string, station_info[0]['code']\n",
    "    \"\"\"\n",
    "    STATION_URL = 'https://www.teld.cn/StationNetwork/GetChargingStationByCodeList?StationNo='+ station_code\n",
    "    proxy_idx = random.randint(0,len(proxies_pool)-1)\n",
    "#     print(proxy_idx)\n",
    "#     try:\n",
    "    resp = requests.get(STATION_URL, proxies=proxies_pool[proxy_idx], headers=header, timeout=time_out)\n",
    "#     except Exception, e:\n",
    "      \n",
    "    pile_info = resp.json()\n",
    "    return pile_info"
   ]
  },
  {
   "cell_type": "code",
   "execution_count": 116,
   "metadata": {
    "collapsed": false
   },
   "outputs": [],
   "source": [
    "#-----GET ALL THE STATONS IN ONE LIST-----#\n",
    "hdr = {'User-Agent':'Mozilla/5.0 (Macintosh; Intel Mac OS X 10_12_5) AppleWebKit/537.36 (KHTML, like Gecko) Chrome/\\\n",
    "59.0.3071.115 Safari/537.36', \n",
    "       'Accept':'text/html,application/xhtml+xml,application/xml;q=0.9,image/webp,image/apng,*/*;q=0.8'}\n",
    "REQUEST_URL = 'http://baseapi.teld.cn/api/GetAllStations/StaV3?coordinateType=gaode'\n",
    "# files = {'file': open('teld_app_test.txt', 'rb')}\n",
    "stations_resp = requests.get(REQUEST_URL, headers=hdr)\n",
    "json_requestData = stations_resp.json()"
   ]
  },
  {
   "cell_type": "code",
   "execution_count": 118,
   "metadata": {
    "collapsed": false
   },
   "outputs": [
    {
     "name": "stdout",
     "output_type": "stream",
     "text": [
      "北京市市辖区怀柔区北大街49号\n"
     ]
    }
   ],
   "source": [
    "print(json_requestData['data']['stations'][2]['address'])"
   ]
  },
  {
   "cell_type": "code",
   "execution_count": 40,
   "metadata": {
    "collapsed": false
   },
   "outputs": [
    {
     "name": "stdout",
     "output_type": "stream",
     "text": [
      "广东省惠州市惠城区仲恺区陈江镇甲子路100号\n"
     ]
    }
   ],
   "source": [
    "print(json_requestData['data']['stations'][7000]['address'])"
   ]
  },
  {
   "cell_type": "code",
   "execution_count": 117,
   "metadata": {
    "collapsed": false
   },
   "outputs": [
    {
     "data": {
      "text/plain": [
       "{u'address': u'\\u5317\\u4eac\\u5e02\\u5e02\\u8f96\\u533a\\u6000\\u67d4\\u533a\\u5317\\u5927\\u885749\\u53f7',\n",
       " u'id': u'045725c3-1b23-4108-837d-77dfb6b53e7d',\n",
       " u'isFast': u'Y',\n",
       " u'isInterconnection': u'N',\n",
       " u'lat': u'40.336079',\n",
       " u'lng': u'116.636150',\n",
       " u'name': u'\\u5317\\u4eac\\u6000\\u67d4\\u73af\\u4fdd\\u5c40\\u5145\\u7535\\u7ad9',\n",
       " u'stationType': u'\\u4e13\\u7528\\u7ad9'}"
      ]
     },
     "execution_count": 117,
     "metadata": {},
     "output_type": "execute_result"
    }
   ],
   "source": [
    "json_requestData['data']['stations'][2]"
   ]
  },
  {
   "cell_type": "code",
   "execution_count": 62,
   "metadata": {
    "collapsed": false
   },
   "outputs": [],
   "source": [
    "#-----GET ONE STATION DETAILS-----#\n",
    "hdr = {'User-Agent':'Mozilla/5.0 (Macintosh; Intel Mac OS X 10_12_5) AppleWebKit/537.36 (KHTML, like Gecko) Chrome/\\\n",
    "59.0.3071.115 Safari/537.36', \n",
    "       'Accept':'text/html,application/xhtml+xml,application/xml;q=0.9,image/webp,image/apng,*/*;q=0.8'}\n",
    "REQUEST_URL = 'http://baseapi.teld.cn/api/GetStationDetails/StaV3?\\\n",
    "coordinateType=gaode&lat=0.000000&lng=0.000000&\\\n",
    "stationId=4ec4b48e-bf4a-4c82-8af9-1de973722cb8'\n",
    "terminal_resp = requests.get(REQUEST_URL, headers=hdr)\n",
    "json_requestData = terminal_resp.json()"
   ]
  },
  {
   "cell_type": "code",
   "execution_count": 68,
   "metadata": {
    "collapsed": false
   },
   "outputs": [
    {
     "data": {
      "text/plain": [
       "{u'advertisementHtml': u'',\n",
       " u'advertisementImg': u'',\n",
       " u'businessHours': u'',\n",
       " u'collected': u'N',\n",
       " u'defaultImg': u'http://baseapi.teld.cn//img//DefultStaImg//stationDefault.png',\n",
       " u'distance': u'',\n",
       " u'environmentScore': u'--',\n",
       " u'fastTerminalIdleNum': 7,\n",
       " u'fastTerminalNum': 8,\n",
       " u'hasLock': u'N',\n",
       " u'imageSize': 0,\n",
       " u'isInterconnection': True,\n",
       " u'isPersonalTerminal': False,\n",
       " u'isTeldPersonalTerminal': True,\n",
       " u'lat': 40.037186,\n",
       " u'lng': 116.54832,\n",
       " u'operatorName': u'\\u56fd\\u7f51\\u7535\\u52a8\\u6c7d\\u8f66\\u670d\\u52a1\\u6709\\u9650\\u516c\\u53f8',\n",
       " u'operatorPhone': u'95598',\n",
       " u'outNetworkTerminalNum': 0,\n",
       " u'parkFee': u'\\u514d\\u8d39',\n",
       " u'payType': u'e\\u5145\\u7535APP',\n",
       " u'positionDesc': u'',\n",
       " u'positionimgs': [],\n",
       " u'priceDesc': u'\\u7535\\u8d39:0.3946~1.0044\\u5143/\\u5ea6;\\u670d\\u52a1\\u8d39:0.8000\\u5143/\\u5ea6',\n",
       " u'priceScore': u'--',\n",
       " u'score': u'--',\n",
       " u'serviceScore': u'--',\n",
       " u'slowTerminalIdleNum': 0,\n",
       " u'slowTerminalNum': 0,\n",
       " u'specialDesc': u'\\u672c\\u573a\\u7ad9\\u53ea\\u652f\\u6301\\u3010e\\u5145\\u7535APP\\u3011 App\\u542f\\u52a8\\u5145\\u7535',\n",
       " u'specialDescV3': u'',\n",
       " u'stationAddress': u'\\u5317\\u4eac\\u5e02\\u5e02\\u8f96\\u533a\\u671d\\u9633\\u533a\\u91d1\\u76cf\\u4e61\\u5eb7\\u8425\\u5bb6\\u56ed13\\u671f\\u4e1c\\u4fa7\\u516c\\u5171\\u505c\\u8f66\\u573a',\n",
       " u'stationId': u'4ec4b48e-bf4a-4c82-8af9-1de973722cb8',\n",
       " u'stationName': u'\\u5317\\u4eac\\u5e02\\u671d\\u9633\\u533a\\u5eb7\\u8425\\u5c0f\\u533a\\u516c\\u5171\\u5145\\u7535\\u7ad9',\n",
       " u'stationType': u'\\u516c\\u5171\\u7ad9',\n",
       " u'tags': [{u'tagColor': u'00a6ca', u'tagLabel': u'\\u4e92\\u8054\\u4e92\\u901a'}],\n",
       " u'usingTerminalNum': 1}"
      ]
     },
     "execution_count": 68,
     "metadata": {},
     "output_type": "execute_result"
    }
   ],
   "source": [
    "json_requestData['data']"
   ]
  },
  {
   "cell_type": "code",
   "execution_count": 139,
   "metadata": {
    "collapsed": false
   },
   "outputs": [],
   "source": [
    "#------GET PILES ID FROM TERMINAL-----#\n",
    "# hdr = {'User-Agent':'Mozilla/5.0 (Macintosh; Intel Mac OS X 10_12_5) AppleWebKit/537.36 (KHTML, like Gecko) Chrome/\\\n",
    "# 59.0.3071.115 Safari/537.36', \n",
    "#        'Accept':'text/html,application/xhtml+xml,application/xml;q=0.9,image/webp,image/apng,*/*;q=0.8'}\n",
    "# #        'Host':'baseapi.teld.cn',\n",
    "# #        'Content-Type':'application/x-www-form-urlencoded',\n",
    "# #        'Accept':'*/*',\n",
    "# #        'Connection':'keep-alive',\n",
    "# #        'Device':'app_version=3.3.0&os_version=10.3.3&client=iso&device_name=iphone 6s',\n",
    "# #        'User-Agent':'Teld/3.3.0 (iPhone; ios 10.3.3; Scale/2.00)',\n",
    "# #        'Accept-Language':'en-US;q=1, zh-Hans-US;q=0.9, ko-KR;q=0.8, zh-Hant-US;q=0.7',\n",
    "# #        'Content-Length':'64',\n",
    "# #        'Accept-Encoding':'gzip,deflate'}\n",
    "# REQUEST_URL = 'http://baseapi.teld.cn/api/GetTerminalOfStation/StaV3?keyword=&orderBy=&stationId=045725c3-1b23-4108-837d-77dfb6b53e7d'\n",
    "# pile_resp = requests.post(REQUEST_URL, headers=hdr)\n",
    "# json_requestData = pile_resp.json()"
   ]
  },
  {
   "cell_type": "code",
   "execution_count": 142,
   "metadata": {
    "collapsed": false
   },
   "outputs": [],
   "source": [
    "#-----GET ONE CHARGING PILE DETAILS FROM TERMINAL-----#\n",
    "hdr = {'User-Agent':'Mozilla/5.0 (Macintosh; Intel Mac OS X 10_12_5) AppleWebKit/537.36 (KHTML, like Gecko) Chrome/\\\n",
    "59.0.3071.115 Safari/537.36', \n",
    "       'Accept':'text/html,application/xhtml+xml,application/xml;q=0.9,image/webp,image/apng,*/*;q=0.8'}\n",
    "REQUEST_URL = 'http://baseapi.teld.cn/api/GetPillDetails/StaV2?\\\n",
    "pillCode=1140290000002426001'\n",
    "pile_resp = requests.get(REQUEST_URL, headers=hdr)\n",
    "json_requestData = pile_resp.json()"
   ]
  },
  {
   "cell_type": "code",
   "execution_count": 143,
   "metadata": {
    "collapsed": false
   },
   "outputs": [
    {
     "data": {
      "text/plain": [
       "[u'interconnectionId',\n",
       " u'isInterconnection',\n",
       " u'allowEconomyCharge',\n",
       " u'isMyPersonalTerminal',\n",
       " u'stateName',\n",
       " u'pillCode',\n",
       " u'tag',\n",
       " u'voltage',\n",
       " u'parkFee',\n",
       " u'OpstateName',\n",
       " u'pillID',\n",
       " u'Description',\n",
       " u'specialDesc',\n",
       " u'notOpenOutside',\n",
       " u'isMoneyNotEnough',\n",
       " u'allowLimitCharge',\n",
       " u'specialDescV3',\n",
       " u'OpState',\n",
       " u'isTeldPersonalTerminal',\n",
       " u'isFast',\n",
       " u'carPark',\n",
       " u'pillName',\n",
       " u'allowOrderCharge',\n",
       " u'allowCharge',\n",
       " u'canChargeMoney',\n",
       " u'orderTime',\n",
       " u'ChargingPort',\n",
       " u'power',\n",
       " u'stateNameV3',\n",
       " u'chargeApplyTime',\n",
       " u'linkPhone',\n",
       " u'payType',\n",
       " u'priceDesc',\n",
       " u'staName',\n",
       " u'prices',\n",
       " u'chargeUserId',\n",
       " u'dataCenterLocation',\n",
       " u'stateCodeV3',\n",
       " u'priceSize',\n",
       " u'isPersonalTerminal',\n",
       " u'powerAuxiliary',\n",
       " u'hasCollected',\n",
       " u'chargeUserName',\n",
       " u'pillNameV3',\n",
       " u'terminalType',\n",
       " u'isHintRecharge',\n",
       " u'staID',\n",
       " u'directCharge',\n",
       " u'stateCode']"
      ]
     },
     "execution_count": 143,
     "metadata": {},
     "output_type": "execute_result"
    }
   ],
   "source": [
    "json_requestData['data']['terminal'].keys()"
   ]
  },
  {
   "cell_type": "code",
   "execution_count": 105,
   "metadata": {
    "collapsed": false
   },
   "outputs": [
    {
     "data": {
      "text/plain": [
       "'\\xe7\\x94\\xb5\\xe8\\xb4\\xb9:00:00~07:00:0.3960,07:00~09:00:0.8400,09:00~11:30:1.1920,11:30~14:00:0.8400,14:00~16:30:1.1920,16:30~19:00:0.8400,19:00~21:00:1.1920,21:00~23:00:0.8400,23:00~24:00:0.3960;\\xe6\\x9c\\x8d\\xe5\\x8a\\xa1\\xe8\\xb4\\xb9:00:00~07:00:0.7000,07:00~09:00:0.7000,09:00~11:30:0.7000,11:30~14:00:0.7000,14:00~16:30:0.7000,16:30~19:00:0.7000,19:00~21:00:0.7000,21:00~23:00:0.7000,23:00~24:00:0.7000'"
      ]
     },
     "execution_count": 105,
     "metadata": {},
     "output_type": "execute_result"
    }
   ],
   "source": [
    "str(json_requestData['data']['terminal']['priceDesc'].encode('utf-8'))"
   ]
  },
  {
   "cell_type": "code",
   "execution_count": null,
   "metadata": {
    "collapsed": true
   },
   "outputs": [],
   "source": []
  }
 ],
 "metadata": {
  "kernelspec": {
   "display_name": "Python 2",
   "language": "python",
   "name": "python2"
  },
  "language_info": {
   "codemirror_mode": {
    "name": "ipython",
    "version": 2
   },
   "file_extension": ".py",
   "mimetype": "text/x-python",
   "name": "python",
   "nbconvert_exporter": "python",
   "pygments_lexer": "ipython2",
   "version": "2.7.11"
  }
 },
 "nbformat": 4,
 "nbformat_minor": 0
}
