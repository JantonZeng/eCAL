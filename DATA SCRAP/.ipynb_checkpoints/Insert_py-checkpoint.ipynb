{
 "cells": [
  {
   "cell_type": "code",
   "execution_count": 1,
   "metadata": {
    "collapsed": false
   },
   "outputs": [],
   "source": [
    "import psycopg2\n",
    "# import pdb"
   ]
  },
  {
   "cell_type": "code",
   "execution_count": 2,
   "metadata": {
    "collapsed": true
   },
   "outputs": [],
   "source": [
    "def insert_station_info(connection, station_info): \n",
    "#     if not contain_station_info(stationcode):\n",
    "    cur = connection.cursor()\n",
    "    for i in range(len(station_info)):\n",
    "        freeterminalnum = int(station_info[i]['FreeTerminalNum'])\n",
    "        fastpilecount = int(station_info[i]['fastPileCount'])\n",
    "        slowpilecount = int(station_info[i]['slowPileCount'] )\n",
    "        address = str(station_info[i]['address'].encode('utf-8'))\n",
    "        stationcode = str(station_info[i]['code'])\n",
    "        name = str(station_info[i]['name'].encode('utf-8'))\n",
    "        operatetypename = str(station_info[i]['operateTypeName'].encode('utf-8'))\n",
    "        statype = str(station_info[i]['statype'])\n",
    "        statypename = str(station_info[i]['statypename'])\n",
    "        businessdistrict = str(station_info[i]['businessDistrict'])\n",
    "        operatetypecode = str(station_info[i]['operateTypeCode'])\n",
    "\n",
    "        longtitude = str(station_info[i]['longitude'])\n",
    "        latitude = str(station_info[i]['latitude'])\n",
    "        try:\n",
    "            command = (\n",
    "                \"\"\"\n",
    "                INSERT INTO stations(freeterminalnum, fastpilecount, slowpilecount, address, stationcode, name, \n",
    "                    operatetypename, statype, statypename, businessdistrict, operatetypecode, location) \n",
    "                    SELECT %s,%s,%s,%s,%s,%s,%s,%s,%s,%s,%s, ST_SetSRID(ST_MakePoint(%s, %s),4326) \n",
    "                    WHERE NOT EXISTS (SELECT 1 FROM stations where stationcode=%s)\n",
    "                \"\"\")\n",
    "            cur.execute(command, (freeterminalnum, fastpilecount, slowpilecount, address, stationcode, name, \n",
    "                                     operatetypename, statype, statypename, businessdistrict, operatetypecode, \n",
    "                                     longtitude, latitude, stationcode))\n",
    "        except (Exception, psycopg2.DatabaseError) as error:\n",
    "            print(error)\n",
    "    connection.commit()\n",
    "    return connection"
   ]
  },
  {
   "cell_type": "code",
   "execution_count": 3,
   "metadata": {
    "collapsed": false
   },
   "outputs": [
    {
     "data": {
      "text/plain": [
       "[u'code', u'piletype', u'state', u'stateName', u'name']"
      ]
     },
     "execution_count": 3,
     "metadata": {},
     "output_type": "execute_result"
    }
   ],
   "source": [
    "[u'code', u'piletype', u'state', u'stateName', u'name']"
   ]
  },
  {
   "cell_type": "code",
   "execution_count": 4,
   "metadata": {
    "collapsed": true
   },
   "outputs": [],
   "source": [
    "def insert_pile_info(connection, stationcode, piles_info):\n",
    "    cur = connection.cursor()\n",
    "#     pdb.set_trace()\n",
    "    for pile in piles_info:\n",
    "        pilecode = str(pile['code'])\n",
    "        piletype = str(pile['piletype'])\n",
    "        state = str(pile['state'])\n",
    "        stateName = str(pile['stateName'].encode('utf-8'))\n",
    "        name = str(pile['name'].encode('utf-8'))\n",
    "        try:\n",
    "            command = (\n",
    "                \"\"\"\n",
    "                INSERT INTO piles(stationCode, pileCode, piletype, stateName, name) \n",
    "                SELECT %s,%s,%s,%s,%s\n",
    "                WHERE NOT EXISTS (SELECT 1 FROM piles where pileCode=%s)\n",
    "                \"\"\")\n",
    "            cur.execute(command, (stationcode, pilecode, piletype, stateName, name, pilecode))\n",
    "        except (Exception, psycopg2.DatabaseError) as error:\n",
    "            print(error)\n",
    "        insert_state_info(connection, pilecode, state)\n",
    "    connection.commit()\n",
    "    return connection"
   ]
  },
  {
   "cell_type": "code",
   "execution_count": 5,
   "metadata": {
    "collapsed": true
   },
   "outputs": [],
   "source": [
    "def insert_state_info(connection, pilecode, state):\n",
    "    cur = connection.cursor()\n",
    "    try:\n",
    "        command = (\n",
    "            \"\"\"\n",
    "            INSERT INTO state(pilecode, state, time) \n",
    "            SELECT %s, %s, Now() \n",
    "            WHERE NOT EXISTS (SELECT 1 FROM state where time=Now())\n",
    "            \"\"\")\n",
    "        cur.execute(command, (pilecode,state,))\n",
    "    except (Exception, psycopg2.DatabaseError) as error:\n",
    "            print(error)\n",
    "    connection.commit()"
   ]
  },
  {
   "cell_type": "code",
   "execution_count": 6,
   "metadata": {
    "collapsed": true
   },
   "outputs": [],
   "source": [
    "# INSERT INTO test1(geom) VALUES (ST_SetSRID(ST_MakePoint(-71.1043443253471, 42.3150676015829),4326));"
   ]
  },
  {
   "cell_type": "code",
   "execution_count": null,
   "metadata": {
    "collapsed": true
   },
   "outputs": [],
   "source": []
  }
 ],
 "metadata": {
  "kernelspec": {
   "display_name": "Python 2",
   "language": "python",
   "name": "python2"
  },
  "language_info": {
   "codemirror_mode": {
    "name": "ipython",
    "version": 2
   },
   "file_extension": ".py",
   "mimetype": "text/x-python",
   "name": "python",
   "nbconvert_exporter": "python",
   "pygments_lexer": "ipython2",
   "version": "2.7.11"
  }
 },
 "nbformat": 4,
 "nbformat_minor": 0
}
