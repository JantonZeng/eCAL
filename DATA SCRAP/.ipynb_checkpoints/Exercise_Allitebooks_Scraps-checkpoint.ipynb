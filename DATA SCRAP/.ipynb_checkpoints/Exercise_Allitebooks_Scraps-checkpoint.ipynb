{
 "cells": [
  {
   "cell_type": "code",
   "execution_count": 6,
   "metadata": {
    "collapsed": true
   },
   "outputs": [],
   "source": [
    "from six.moves import urllib"
   ]
  },
  {
   "cell_type": "code",
   "execution_count": 8,
   "metadata": {
    "collapsed": true
   },
   "outputs": [],
   "source": [
    "import re\n",
    "import time"
   ]
  },
  {
   "cell_type": "code",
   "execution_count": 28,
   "metadata": {
    "collapsed": true
   },
   "outputs": [],
   "source": [
    "BASE_URL = 'http://www.allitebooks.com'\n",
    "BOOK_LINK_PATTERN = 'href=\"(.*)\" rel=\"bookmark\">'\n",
    "BOOK_DL_PATTERN = 'href=\"http:\\/\\/file.*\" target=\"_blank\"'"
   ]
  },
  {
   "cell_type": "code",
   "execution_count": 31,
   "metadata": {
    "collapsed": false
   },
   "outputs": [
    {
     "name": "stdout",
     "output_type": "stream",
     "text": [
      "Now working on page 1\n",
      "\n",
      "Downloading href=\"http://file.allitebooks.com/20170724/Defensive Security Handbook.pdf\" target=\"_blank\"\n",
      "Downloading href=\"http://file.allitebooks.com/20170723/Alfresco CMIS.pdf\" target=\"_blank\"\n",
      "Downloading href=\"http://file.allitebooks.com/20170724/CompTIA CSA Study Guide.pdf\" target=\"_blank\"\n",
      "Downloading href=\"http://file.allitebooks.com/20170723/Learn Unity for Android Game Development.pdf\" target=\"_blank\"\n",
      "Downloading href=\"http://file.allitebooks.com/20170721/Introduction to Deep Learning Using R.pdf\" target=\"_blank\"\n",
      "Downloading href=\"http://file.allitebooks.com/20170721/Mostly Codeless Game Development.pdf\" target=\"_blank\"\n",
      "Downloading href=\"http://file.allitebooks.com/20170725/Beginning Windows Mixed Reality Programming.pdf\" target=\"_blank\"\n",
      "Downloading href=\"http://file.allitebooks.com/20170721/SAP MII.pdf\" target=\"_blank\"\n",
      "Downloading href=\"http://file.allitebooks.com/20170723/Embedded Firmware Solutions.pdf\" target=\"_blank\"\n",
      "Downloading href=\"http://file.allitebooks.com/20170723/Getting Started with Zurb Foundation 4.pdf\" target=\"_blank\"\n",
      "Now working on page 2\n",
      "\n",
      "Downloading href=\"http://file.allitebooks.com/20170724/Defensive Security Handbook.pdf\" target=\"_blank\"\n",
      "Downloading href=\"http://file.allitebooks.com/20170723/Alfresco CMIS.pdf\" target=\"_blank\"\n",
      "Downloading href=\"http://file.allitebooks.com/20170724/CompTIA CSA Study Guide.pdf\" target=\"_blank\"\n",
      "Downloading href=\"http://file.allitebooks.com/20170723/Learn Unity for Android Game Development.pdf\" target=\"_blank\"\n",
      "Downloading href=\"http://file.allitebooks.com/20170721/Introduction to Deep Learning Using R.pdf\" target=\"_blank\"\n",
      "Downloading href=\"http://file.allitebooks.com/20170721/Mostly Codeless Game Development.pdf\" target=\"_blank\"\n",
      "Downloading href=\"http://file.allitebooks.com/20170725/Beginning Windows Mixed Reality Programming.pdf\" target=\"_blank\"\n",
      "Downloading href=\"http://file.allitebooks.com/20170721/SAP MII.pdf\" target=\"_blank\"\n",
      "Downloading href=\"http://file.allitebooks.com/20170723/Embedded Firmware Solutions.pdf\" target=\"_blank\"\n",
      "Downloading href=\"http://file.allitebooks.com/20170723/Getting Started with Zurb Foundation 4.pdf\" target=\"_blank\"\n"
     ]
    }
   ],
   "source": [
    "page_nmb = 1\n",
    "while page_nmb <=2:\n",
    "    try:\n",
    "        req = urllib.request.Request(BASE_URL)\n",
    "        html = urllib.request.urlopen(req)\n",
    "        doc = html.read().decode('utf8')\n",
    "        url_list = list(set(re.findall(BOOK_LINK_PATTERN, doc)))\n",
    "        print('Now working on page {}\\n'.format(page_nmb))\n",
    "        time.sleep(10)\n",
    "        Book_Download(url_list)\n",
    "        page_nmb += 1\n",
    "    except urllib.error.HTTPError as err:\n",
    "        print(err.msg)\n",
    "        break\n"
   ]
  },
  {
   "cell_type": "code",
   "execution_count": 30,
   "metadata": {
    "collapsed": false
   },
   "outputs": [],
   "source": [
    "def Book_Download(url_list):\n",
    "    f = open('result.txt','a')\n",
    "    for book_url in url_list:\n",
    "        req = urllib.request.Request(book_url)\n",
    "        html = urllib.request.urlopen(req)\n",
    "        doc = html.read().decode('utf8')\n",
    "        url = re.findall(BOOK_DL_PATTERN, doc)[0]\n",
    "        print('Downloading {}'.format(url))\n",
    "        f.write(url + '\\n')\n",
    "        time.sleep(7)\n",
    "    f.close()"
   ]
  },
  {
   "cell_type": "code",
   "execution_count": 5,
   "metadata": {
    "collapsed": false
   },
   "outputs": [
    {
     "data": {
      "text/plain": [
       "'algnalkn2 agaa'"
      ]
     },
     "execution_count": 5,
     "metadata": {},
     "output_type": "execute_result"
    }
   ],
   "source": [
    "'algnalkn{}'.format(2) + ' agaa'"
   ]
  },
  {
   "cell_type": "code",
   "execution_count": null,
   "metadata": {
    "collapsed": true
   },
   "outputs": [],
   "source": [
    "''"
   ]
  },
  {
   "cell_type": "code",
   "execution_count": null,
   "metadata": {
    "collapsed": true
   },
   "outputs": [],
   "source": []
  }
 ],
 "metadata": {
  "kernelspec": {
   "display_name": "Python 2",
   "language": "python",
   "name": "python2"
  },
  "language_info": {
   "codemirror_mode": {
    "name": "ipython",
    "version": 2
   },
   "file_extension": ".py",
   "mimetype": "text/x-python",
   "name": "python",
   "nbconvert_exporter": "python",
   "pygments_lexer": "ipython2",
   "version": "2.7.11"
  }
 },
 "nbformat": 4,
 "nbformat_minor": 0
}
