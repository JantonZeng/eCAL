{
 "cells": [
  {
   "cell_type": "code",
   "execution_count": 1,
   "metadata": {},
   "outputs": [
    {
     "name": "stdout",
     "output_type": "stream",
     "text": [
      "Importing Jupyter notebook from Get_py.ipynb\n"
     ]
    }
   ],
   "source": [
    "import os\n",
    "import requests\n",
    "import requesocks\n",
    "import time\n",
    "import socket\n",
    "import socks\n",
    "import nbimporter\n",
    "import Get_py"
   ]
  },
  {
   "cell_type": "code",
   "execution_count": 2,
   "metadata": {
    "collapsed": true
   },
   "outputs": [],
   "source": [
    "def getip_requests(url):\n",
    "    try:\n",
    "        print \"(+) Sending request with plain requests ...\"\n",
    "        r = requests.get(url)\n",
    "        print \"(+) IP is: \" + r.text.replace(\"\\n\", \"\")\n",
    "        return r.text.replace(\"\\n\", \"\")\n",
    "    except Exception, e:\n",
    "        print Exception, e\n",
    "        return -1"
   ]
  },
  {
   "cell_type": "code",
   "execution_count": 3,
   "metadata": {
    "collapsed": true
   },
   "outputs": [],
   "source": [
    "def getip_requesocks(url):\n",
    "    try:\n",
    "        print \"(+) Sending request with requesocks ...\"\n",
    "        session = requesocks.session()\n",
    "        session.proxies = {\n",
    "            'http':'socks5://127.0.0.1:9050',\n",
    "            'https':'socks5://127.0.0.1:9050'\n",
    "        }\n",
    "        r = session.get(url, timeout=30)\n",
    "        print \"(+) IP is: \" + r.text.replace(\"\\n\", \"\")\n",
    "        return r.text.replace(\"\\n\", \"\")\n",
    "    except Exception, e:\n",
    "        print Exception, e\n",
    "        return -1"
   ]
  },
  {
   "cell_type": "code",
   "execution_count": 4,
   "metadata": {
    "collapsed": true
   },
   "outputs": [],
   "source": [
    "def Ip_checkConn(num):\n",
    "    \"\"\"Check connections with tor if successful\"\"\"\n",
    "    while(num):\n",
    "        num -= 1\n",
    "        url = \"http://api.ipify.org?format=json\"\n",
    "        print (\"Checking IP before and after tor ...\")\n",
    "        my_ip = getip_requests(url)\n",
    "        tor_ip = getip_requesocks(url)\n",
    "        if (my_ip == tor_ip or my_ip == -1 or tor_ip == -1):\n",
    "            os.system(\"\"\"(echo authenticate '\"mypassword\"'; echo signal newnym; echo quit) | nc localhost 9051\"\"\")\n",
    "            time.sleep(3)\n",
    "        if (my_ip != tor_ip and my_ip != -1 and tor_ip != -1):\n",
    "            print(\"Connect to tor successfully\")\n",
    "            return 1\n",
    "    print \"Failed to connect to tor\"\n",
    "    return 0"
   ]
  },
  {
   "cell_type": "code",
   "execution_count": 10,
   "metadata": {},
   "outputs": [
    {
     "name": "stdout",
     "output_type": "stream",
     "text": [
      "Checking IP before and after tor ...\n",
      "(+) Sending request with plain requests ...\n",
      "(+) IP is: {\"ip\":\"136.152.209.13\"}\n",
      "(+) Sending request with requesocks ...\n",
      "(+) IP is: {\"ip\":\"37.187.7.74\"}\n",
      "Connect to tor successfully\n"
     ]
    }
   ],
   "source": [
    "check = Ip_checkConn(2)"
   ]
  },
  {
   "cell_type": "code",
   "execution_count": 5,
   "metadata": {
    "collapsed": true
   },
   "outputs": [],
   "source": [
    "def connectTor():\n",
    "    socks.set_default_proxy(socks.SOCKS5, \"127.0.0.1\", 9050)\n",
    "    socket.socket = socks.socksocket"
   ]
  },
  {
   "cell_type": "code",
   "execution_count": 6,
   "metadata": {
    "collapsed": true
   },
   "outputs": [],
   "source": [
    "def renewTor():\n",
    "    os.system(\"\"\"(echo authenticate '\"mypassword\"'; echo signal newnym; echo quit) | nc localhost 9051\"\"\")"
   ]
  },
  {
   "cell_type": "code",
   "execution_count": 7,
   "metadata": {
    "collapsed": true
   },
   "outputs": [],
   "source": [
    "def showmyIp():\n",
    "    url = \"http://api.ipify.org?format=json\"\n",
    "    r = requests.get(url)\n",
    "    print(r.text.replace(\"\\n\", \"\"))"
   ]
  },
  {
   "cell_type": "code",
   "execution_count": 8,
   "metadata": {
    "collapsed": true
   },
   "outputs": [],
   "source": [
    "def pillState_scrap(pillcode): \n",
    "    \"\"\"\n",
    "        Input:\n",
    "            pillCode - string, each charging pile has its own pile code\n",
    "        Output:\n",
    "            pill_detailedInfo - dictionary of pill state details\n",
    "    \"\"\"\n",
    "    hdr = {\n",
    "            'accept': \"*/*\",\n",
    "            'user-agent': \"Teld/3.3.0 (iPhone; iOS 10.3.3; Scale/2.00)\",\n",
    "            'cookie': \"TELDAppID=\",\n",
    "            'content-length': \"111\",\n",
    "            'connection': \"keep-alive\",\n",
    "            'accept-encoding': \"gzip, deflate\",\n",
    "            'device': \"app_version=3.3.0&os_version=10.3.3&client=ios&device_name=iPhone 6s (A1633/A1688/A1691/A1700)&device_id=38CD294C-CC36-4998-9074-C7F798EE6087&city_code=4403&city_name=%E6%B7%B1%E5%9C%B3&lat=0.000000&lng=0.000000&network=wifi&location_city_name=\",\n",
    "            'host': \"basesg.teld.cn\",\n",
    "            'content-type': \"application/x-www-form-urlencoded\",\n",
    "            'cache-control': \"no-cache\"\n",
    "        }\n",
    "    time_out = 200\n",
    "    F = None\n",
    "    proxies_pool = None\n",
    "    #If encounter error, try one more request with a different proxy\n",
    "    try:\n",
    "        pill_detailedInfo, proxies_pool = Get_py.get_onePill_APP(hdr, pillcode, F, proxies_pool, time_out=time_out)\n",
    "    except ValueError as e:\n",
    "        if F is not None:\n",
    "            write_error(F, pillcode, e)\n",
    "        try:\n",
    "            pill_detailedInfo, proxies_pool = Get_py.get_onePill_APP(hdr, pillcode, F, proxies_pool, time_out=time_out)\n",
    "        except ValueError as e:\n",
    "            if F is not None:\n",
    "                write_error(F, pillcode, e)\n",
    "            pill_detailedInfo = None\n",
    "        except (requests.exceptions.ChunkedEncodingError) as e:\n",
    "            if F is not None:\n",
    "                write_error(F, pillcode, e)\n",
    "#             else:\n",
    "            pill_detailedInfo = None\n",
    "    except (requests.exceptions.ChunkedEncodingError) as e:\n",
    "        if F is not None:\n",
    "            write_error(F, pillcode, e)\n",
    "        try:\n",
    "            pill_detailedInfo, proxies_pool = Get_py.get_onePill_APP(hdr, pillcode, F, proxies_pool, time_out=time_out)\n",
    "        except ValueError as e:\n",
    "            if F is not None:\n",
    "                write_error(F, pillcode, e)\n",
    "            pill_detailedInfo = None\n",
    "        except (requests.exceptions.ChunkedEncodingError) as e:\n",
    "            if F is not None:\n",
    "                write_error(F, pillcode, e)\n",
    "#         else:\n",
    "            pill_detailedInfo = None\n",
    "#     return pill_detailedInfo, proxies_pool\n",
    "    return pill_detailedInfo"
   ]
  },
  {
   "cell_type": "code",
   "execution_count": 25,
   "metadata": {
    "collapsed": true
   },
   "outputs": [],
   "source": [
    "def main():\n",
    "    pillCode= '1101160216105'\n",
    "    hdr = {\n",
    "        'accept': \"*/*\",\n",
    "        'user-agent': \"Teld/3.3.0 (iPhone; iOS 10.3.3; Scale/2.00)\",\n",
    "        'cookie': \"TELDAppID=\",\n",
    "        'content-length': \"111\",\n",
    "        'connection': \"keep-alive\",\n",
    "        'accept-encoding': \"gzip, deflate\",\n",
    "        'device': \"app_version=3.3.0&os_version=10.3.3&client=ios&device_name=iPhone 6s (A1633/A1688/A1691/A1700)&device_id=38CD294C-CC36-4998-9074-C7F798EE6087&city_code=4400&city_name=%E6%B7%B1%E5%9C%B3&lat=0.000000&lng=0.000000&network=wifi&location_city_name=\",\n",
    "        'host': \"basesg.teld.cn\",\n",
    "        'content-type': \"application/x-www-form-urlencoded\",\n",
    "        'cache-control': \"no-cache\"\n",
    "    }\n",
    "#     renewTor()\n",
    "#     connectTor()\n",
    "#     showmyIp()\n",
    "    pill_detailedInfo = pillState_scrap(pillCode)\n",
    "    print(pill_detailedInfo)\n",
    "    return pill_detailedInfo"
   ]
  },
  {
   "cell_type": "code",
   "execution_count": 26,
   "metadata": {},
   "outputs": [
    {
     "name": "stdout",
     "output_type": "stream",
     "text": [
      "{u'interconnectionId': u'', u'isInterconnection': u'N', u'allowEconomyCharge': False, u'isMyPersonalTerminal': False, u'stateName': u'\\u7a7a\\u95f2', u'pillCode': u'1101160216105', u'lat': u'40.395900', u'tag': u'\\u56fd\\u68072011 \\u56fd\\u68072015 7kW', u'voltage': u'', u'lng': u'116.683670', u'parkFee': u'\\u514d\\u8d39', u'OpstateName': u'\\u8fd0\\u8425\\u4e2d', u'pillID': u'a171c556-5d9d-4e98-b6d1-0901b007ae2b', u'Description': u'00:00~07:00:0.8000,07:00~10:00:0.8000,10:00~15:00:0.8000,15:00~18:00:0.8000,18:00~21:00:0.8000,21:00~23:00:0.8000,23:00~24:00:0.800000:00~07:00:0.5838,07:00~10:00:0.9775,10:00~15:00:1.5962,15:00~18:00:0.9775,18:00~21:00:1.5962,21:00~23:00:0.9775,23:00~24:00:0.5838', u'specialDesc': u'', u'notOpenOutside': u'N', u'isMoneyNotEnough': False, u'allowLimitCharge': False, u'specialDescV3': u'', u'OpState': u'3', u'isTeldPersonalTerminal': True, u'isFast': u'N', u'carPark': u'\\u65e0', u'pillName': u'105\\u53f7\\u4ea4\\u6d41', u'allowOrderCharge': False, u'allowCharge': True, u'canChargeMoney': u'10', u'orderTime': u'', u'businessHourDesc': u'00:00-24:00', u'ChargingPort': u'\\u56fd\\u68072011 \\u56fd\\u68072015 ', u'power': u'', u'stateNameV3': u'\\u7a7a\\u95f2', u'chargeApplyTime': u'50', u'linkPhone': u'4001300001', u'inMaintenance': False, u'payType': u'\\u7279\\u6765\\u7535APP\\uff0c\\u7279\\u6765\\u7535\\u5fae\\u4fe1\\u516c\\u4f17\\u53f7', u'priceDesc': u'\\u7535\\u8d39:00:00~07:00:0.5838,07:00~10:00:0.9775,10:00~15:00:1.5962,15:00~18:00:0.9775,18:00~21:00:1.5962,21:00~23:00:0.9775,23:00~24:00:0.5838;\\u670d\\u52a1\\u8d39:00:00~07:00:0.8000,07:00~10:00:0.8000,10:00~15:00:0.8000,15:00~18:00:0.8000,18:00~21:00:0.8000,21:00~23:00:0.8000,23:00~24:00:0.8000', u'staName': u'\\u5317\\u4eac\\u5143\\u4ea8\\u82d1\\u6797\\u5c71\\u5e84\\u6709\\u9650\\u516c\\u53f8\\u5145\\u7535\\u7ad9', u'prices': [{u'servicePrice': u'0.8000', u'timeRange': u'00:00-07:00', u'electricPrice': u'0.5838', u'startTime': u'00:00'}], u'chargeUserId': u'', u'inBusinessHour': True, u'dataCenterLocation': u'BJ', u'stateCodeV3': u'01', u'priceSize': 7, u'isPersonalTerminal': False, u'powerAuxiliary': u'', u'hasCollected': u'N', u'chargeUserName': u'', u'pillNameV3': u'105\\u53f7', u'terminalType': u'\\u4ea4\\u6d41\\u5355\\u76f8 7kW', u'isHintRecharge': False, u'staID': u'dd4a3ddc-e1b0-4e2e-b7ca-faef627f4e66', u'directCharge': u'N', u'stateCode': u'02'}\n"
     ]
    }
   ],
   "source": [
    "if __name__ == '__main__':\n",
    "    pill_detailedInfo = main()"
   ]
  },
  {
   "cell_type": "code",
   "execution_count": 21,
   "metadata": {},
   "outputs": [],
   "source": [
    "# pill_detailedInfo"
   ]
  },
  {
   "cell_type": "code",
   "execution_count": 22,
   "metadata": {
    "collapsed": true
   },
   "outputs": [],
   "source": [
    "os.environ[\"https_proxy\"]=\"https://165.84.167.54:8080\"\n",
    "os.environ[\"http_proxy\"]=\"http://165.84.167.54:8080\""
   ]
  },
  {
   "cell_type": "code",
   "execution_count": null,
   "metadata": {
    "collapsed": true
   },
   "outputs": [],
   "source": []
  }
 ],
 "metadata": {
  "kernelspec": {
   "display_name": "Python 2",
   "language": "python",
   "name": "python2"
  },
  "language_info": {
   "codemirror_mode": {
    "name": "ipython",
    "version": 2
   },
   "file_extension": ".py",
   "mimetype": "text/x-python",
   "name": "python",
   "nbconvert_exporter": "python",
   "pygments_lexer": "ipython2",
   "version": "2.7.13"
  }
 },
 "nbformat": 4,
 "nbformat_minor": 2
}
