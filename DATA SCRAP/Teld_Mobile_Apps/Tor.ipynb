{
 "cells": [
  {
   "cell_type": "code",
   "execution_count": 2,
   "metadata": {},
   "outputs": [
    {
     "name": "stdout",
     "output_type": "stream",
     "text": [
      "Importing Jupyter notebook from Get_py.ipynb\n"
     ]
    }
   ],
   "source": [
    "import os\n",
    "import requests\n",
    "import requesocks\n",
    "import time\n",
    "import socket\n",
    "import socks\n",
    "import nbimporter\n",
    "import Get_py"
   ]
  },
  {
   "cell_type": "code",
   "execution_count": 3,
   "metadata": {
    "collapsed": true
   },
   "outputs": [],
   "source": [
    "def getip_requests(url):\n",
    "    try:\n",
    "        print \"(+) Sending request with plain requests ...\"\n",
    "        r = requests.get(url)\n",
    "        print \"(+) IP is: \" + r.text.replace(\"\\n\", \"\")\n",
    "        return r.text.replace(\"\\n\", \"\")\n",
    "    except Exception, e:\n",
    "        print Exception, e\n",
    "        return -1"
   ]
  },
  {
   "cell_type": "code",
   "execution_count": 4,
   "metadata": {
    "collapsed": true
   },
   "outputs": [],
   "source": [
    "def getip_requesocks(url):\n",
    "    try:\n",
    "        print \"(+) Sending request with requesocks ...\"\n",
    "        session = requesocks.session()\n",
    "        session.proxies = {\n",
    "            'http':'socks5://127.0.0.1:9050',\n",
    "            'https':'socks5://127.0.0.1:9050'\n",
    "        }\n",
    "        r = session.get(url, timeout=30)\n",
    "        print \"(+) IP is: \" + r.text.replace(\"\\n\", \"\")\n",
    "        return r.text.replace(\"\\n\", \"\")\n",
    "    except Exception, e:\n",
    "        print Exception, e\n",
    "        return -1"
   ]
  },
  {
   "cell_type": "code",
   "execution_count": 5,
   "metadata": {
    "collapsed": true
   },
   "outputs": [],
   "source": [
    "def Ip_checkConn(num):\n",
    "    \"\"\"Check connections with tor if successful\"\"\"\n",
    "    while(num):\n",
    "        num -= 1\n",
    "        url = \"http://api.ipify.org?format=json\"\n",
    "        print (\"Checking IP before and after tor ...\")\n",
    "        my_ip = getip_requests(url)\n",
    "        tor_ip = getip_requesocks(url)\n",
    "        if (my_ip == tor_ip or my_ip == -1 or tor_ip == -1):\n",
    "            os.system(\"\"\"(echo authenticate '\"mypassword\"'; echo signal newnym; echo quit) | nc localhost 9051\"\"\")\n",
    "            time.sleep(3)\n",
    "        if (my_ip != tor_ip and my_ip != -1 and tor_ip != -1):\n",
    "            print(\"Connect to tor successfully\")\n",
    "            return 1\n",
    "    print \"Failed to connect to tor\"\n",
    "    return 0"
   ]
  },
  {
   "cell_type": "code",
   "execution_count": 7,
   "metadata": {},
   "outputs": [],
   "source": [
    "# check = Ip_checkConn(2)"
   ]
  },
  {
   "cell_type": "code",
   "execution_count": 8,
   "metadata": {
    "collapsed": true
   },
   "outputs": [],
   "source": [
    "def connectTor():\n",
    "    socks.set_default_proxy(socks.SOCKS5, \"127.0.0.1\", 9050)\n",
    "    socket.socket = socks.socksocket"
   ]
  },
  {
   "cell_type": "code",
   "execution_count": 9,
   "metadata": {
    "collapsed": true
   },
   "outputs": [],
   "source": [
    "def renewTor():\n",
    "    os.system(\"\"\"(echo authenticate '\"mypassword\"'; echo signal newnym; echo quit) | nc localhost 9051\"\"\")"
   ]
  },
  {
   "cell_type": "code",
   "execution_count": 10,
   "metadata": {
    "collapsed": true
   },
   "outputs": [],
   "source": [
    "def showmyIp():\n",
    "    url = \"http://api.ipify.org?format=json\"\n",
    "    r = requests.get(url)\n",
    "    print(r.text.replace(\"\\n\", \"\"))"
   ]
  },
  {
   "cell_type": "code",
   "execution_count": 11,
   "metadata": {
    "collapsed": true
   },
   "outputs": [],
   "source": [
    "def main():\n",
    "    pillCode= '1101160075101'\n",
    "    hdr = {\n",
    "        'accept': \"*/*\",\n",
    "        'user-agent': \"Teld/3.4.0 (iPhone; iOS 10.3.3; Scale/2.00)\",\n",
    "        'cookie': \"TELDAppID=\",\n",
    "        'content-length': \"111\",\n",
    "        'connection': \"keep-alive\",\n",
    "        'accept-encoding': \"gzip, deflate\",\n",
    "        'device': \"app_version=3.4.0&os_version=10.3.3&client=ios&device_name=iPhone 6s (A1633/A1688/A1691/A1700)&device_id=38CD294C-CC36-4998-9074-C7F798EE6087&city_code=4403&city_name=%E6%B7%B1%E5%9C%B3&lat=0.000000&lng=0.000000&network=wifi&location_city_name=\",\n",
    "        'host': \"basesg.teld.cn\",\n",
    "        'content-type': \"application/x-www-form-urlencoded\",\n",
    "        'cache-control': \"no-cache\"\n",
    "    }\n",
    "    renewTor()\n",
    "    connectTor()\n",
    "    showmyIp()\n",
    "    pill_detailedInfo = Get_py.get_onePill_APP(hdr, pillCode)\n",
    "    print(pill_detailedInfo)"
   ]
  },
  {
   "cell_type": "code",
   "execution_count": 12,
   "metadata": {},
   "outputs": [
    {
     "name": "stdout",
     "output_type": "stream",
     "text": [
      "{\"ip\":\"197.231.221.211\"}\n",
      "({u'interconnectionId': u'', u'isInterconnection': u'N', u'allowEconomyCharge': False, u'isMyPersonalTerminal': False, u'stateName': u'\\u7a7a\\u95f2', u'pillCode': u'1101160075101', u'lat': u'40.336079', u'tag': u'\\u56fd\\u68072011 30kW', u'voltage': u'200V-500V', u'lng': u'116.636150', u'parkFee': u'\\u514d\\u8d39', u'OpstateName': u'\\u8fd0\\u8425\\u4e2d', u'pillID': u'5b403bca-7912-4540-8f06-6c3edd5f430a', u'Description': u'00:00~24:00:0.640000:00~24:00:0.0000', u'specialDesc': u'', u'notOpenOutside': u'Y', u'isMoneyNotEnough': False, u'allowLimitCharge': False, u'specialDescV3': u'', u'OpState': u'3', u'isTeldPersonalTerminal': True, u'isFast': u'Y', u'carPark': u'\\u65e0', u'pillName': u'101\\u53f7\\u76f4\\u6d41', u'allowOrderCharge': False, u'allowCharge': True, u'canChargeMoney': u'10', u'orderTime': u'', u'businessHourDesc': u'00:00-24:00', u'ChargingPort': u'\\u56fd\\u68072011 ', u'power': u'30kW-30kW', u'stateNameV3': u'\\u7a7a\\u95f2', u'chargeApplyTime': u'95', u'linkPhone': u'4001300001', u'inMaintenance': False, u'payType': u'\\u672cAPP\\uff0c\\u7279\\u6765\\u7535\\u5fae\\u4fe1\\u516c\\u4f17\\u53f7', u'priceDesc': u'\\u7535\\u8d39:00:00~24:00:0.0000;\\u670d\\u52a1\\u8d39:00:00~24:00:0.6400', u'staName': u'\\u5317\\u4eac\\u6000\\u67d4\\u73af\\u4fdd\\u5c40\\u5145\\u7535\\u7ad9', u'prices': [{u'servicePrice': u'0.6400', u'timeRange': u'00:00-24:00', u'electricPrice': u'0.0000', u'startTime': u'00:00'}], u'chargeUserId': u'', u'inBusinessHour': True, u'dataCenterLocation': u'BJ', u'stateCodeV3': u'01', u'priceSize': 1, u'isPersonalTerminal': False, u'powerAuxiliary': u'12V', u'hasCollected': u'N', u'chargeUserName': u'', u'pillNameV3': u'101\\u53f7', u'terminalType': u'\\u76f4\\u6d41\\u5feb\\u5145', u'isHintRecharge': False, u'staID': u'045725c3-1b23-4108-837d-77dfb6b53e7d', u'directCharge': u'N', u'stateCode': u'02'}, None)\n"
     ]
    }
   ],
   "source": [
    "if __name__ == '__main__':\n",
    "    main()"
   ]
  },
  {
   "cell_type": "code",
   "execution_count": null,
   "metadata": {
    "collapsed": true
   },
   "outputs": [],
   "source": []
  }
 ],
 "metadata": {
  "kernelspec": {
   "display_name": "Python 2",
   "language": "python",
   "name": "python2"
  },
  "language_info": {
   "codemirror_mode": {
    "name": "ipython",
    "version": 2
   },
   "file_extension": ".py",
   "mimetype": "text/x-python",
   "name": "python",
   "nbconvert_exporter": "python",
   "pygments_lexer": "ipython2",
   "version": "2.7.12"
  }
 },
 "nbformat": 4,
 "nbformat_minor": 2
}
