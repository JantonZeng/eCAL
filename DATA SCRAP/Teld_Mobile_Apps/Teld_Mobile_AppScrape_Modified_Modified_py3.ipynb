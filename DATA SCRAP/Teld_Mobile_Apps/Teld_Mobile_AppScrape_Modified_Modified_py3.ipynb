{
 "cells": [
  {
   "cell_type": "code",
   "execution_count": 14,
   "metadata": {},
   "outputs": [],
   "source": [
    "from multiprocessing import Process, Pool\n",
    "import json\n",
    "import datetime\n",
    "import time\n",
    "import requests\n",
    "import asyncio\n",
    "import aiohttp\n",
    "import async_timeout\n",
    "import random\n",
    "import os\n",
    "import psutil\n",
    "import psycopg2\n",
    "import socket\n",
    "import socks\n",
    "import nbimporter\n",
    "import Tor\n",
    "import Insert_py\n",
    "import Get_py\n",
    "import Init_database as indb"
   ]
  },
  {
   "cell_type": "code",
   "execution_count": 12,
   "metadata": {
    "collapsed": true
   },
   "outputs": [],
   "source": [
    "#--------INITIALIZING CONNECTION TO DATABASE--------#\n",
    "db_name=\"db_teld\"\n",
    "user_name=\"postgres\"\n",
    "password = \"postgres\"\n",
    "host=\"127.0.0.1\"\n",
    "port=\"5432\"\n",
    "conn = indb.init_db(db_name, user_name, password, host, port)"
   ]
  },
  {
   "cell_type": "code",
   "execution_count": 15,
   "metadata": {
    "collapsed": true
   },
   "outputs": [],
   "source": [
    "async def pillState_scrap(session, pillcode): \n",
    "    \"\"\"\n",
    "        Input:\n",
    "            pillCode - string, each charging pile has its own pile code\n",
    "        Output:\n",
    "            pill_detailedInfo - dictionary of pill state details\n",
    "    \"\"\"\n",
    "    hdr = {\n",
    "            'accept': \"*/*\",\n",
    "            'user-agent': \"Teld/3.4.0 (iPhone; iOS 10.3.3; Scale/2.00)\",\n",
    "            'cookie': \"TELDAppID=\",\n",
    "            'content-length': \"111\",\n",
    "            'connection': \"keep-alive\",\n",
    "            'accept-encoding': \"gzip, deflate\",\n",
    "            'device': \"app_version=3.4.0&os_version=10.3.3&client=ios&device_name=iPhone 6s (A1633/A1688/A1691/A1700)&device_id=38CD294C-CC36-4998-9074-C7F798EE6087&city_code=4403&city_name=%E6%B7%B1%E5%9C%B3&lat=0.000000&lng=0.000000&network=wifi&location_city_name=\",\n",
    "            'host': \"basesg.teld.cn\",\n",
    "            'content-type': \"application/x-www-form-urlencoded\",\n",
    "            'cache-control': \"no-cache\"\n",
    "        }\n",
    "    url = \"https://basesg.teld.cn/api/invoke\"\n",
    "    querystring = {\"SID\":\"BaseApi-App0304_GetTerminalDetails\"}\n",
    "    payload = 'param=%7B%0A%20%20%22pillCode%22%20%3A%20%22{}%22%2C%0A%20%20%22plateform%22%20%3A%20%22app%22%0A%7D'.format(pillCode)\n",
    "    \n",
    "    time_out = 20\n",
    "    Tor.renewTor()\n",
    "    Tor.connectTor()\n",
    "    Tor.showmyIp()\n",
    "    \n",
    "    with async_timeout_timeout(20):\n",
    "        async with session.request(\"POST\", url, headers=hdr, data=payload, params=querystring) as response:\n",
    "            print(response)\n",
    "            return await response.text()"
   ]
  },
  {
   "cell_type": "code",
   "execution_count": 16,
   "metadata": {},
   "outputs": [
    {
     "ename": "SyntaxError",
     "evalue": "unexpected EOF while parsing (<ipython-input-16-8c64b09ebfba>, line 1)",
     "output_type": "error",
     "traceback": [
      "\u001b[0;36m  File \u001b[0;32m\"<ipython-input-16-8c64b09ebfba>\"\u001b[0;36m, line \u001b[0;32m1\u001b[0m\n\u001b[0;31m    async def main(loop):\u001b[0m\n\u001b[0m                         ^\u001b[0m\n\u001b[0;31mSyntaxError\u001b[0m\u001b[0;31m:\u001b[0m unexpected EOF while parsing\n"
     ]
    }
   ],
   "source": [
    "async def main(conn, loop, pillcodes):\n",
    "    async with aiohttp.ClientSession(connector=conn, loop=loop) as session:\n",
    "        tasks = [pillState_scrap(session, pillcode) for pillcode in pillcodes]\n",
    "        pill_resp = await \n",
    "        json_requestData = pill_resp.json()"
   ]
  },
  {
   "cell_type": "code",
   "execution_count": null,
   "metadata": {
    "collapsed": true
   },
   "outputs": [],
   "source": [
    "conn = aiohttp.TCPConnector(limit=30) #limit total amount of parallel connections"
   ]
  }
 ],
 "metadata": {
  "kernelspec": {
   "display_name": "Python 3",
   "language": "python",
   "name": "python3"
  },
  "language_info": {
   "codemirror_mode": {
    "name": "ipython",
    "version": 3
   },
   "file_extension": ".py",
   "mimetype": "text/x-python",
   "name": "python",
   "nbconvert_exporter": "python",
   "pygments_lexer": "ipython3",
   "version": "3.5.4"
  }
 },
 "nbformat": 4,
 "nbformat_minor": 2
}
