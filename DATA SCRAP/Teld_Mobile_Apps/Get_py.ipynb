{
 "cells": [
  {
   "cell_type": "code",
   "execution_count": 4,
   "metadata": {
    "collapsed": true
   },
   "outputs": [],
   "source": [
    "import requests\n",
    "import random\n",
    "import datetime"
   ]
  },
  {
   "cell_type": "code",
   "execution_count": 2,
   "metadata": {
    "collapsed": true
   },
   "outputs": [],
   "source": [
    "def get_station(header, start_page=1, end_page=2, row_nmb=10):\n",
    "    \"\"\"\n",
    "    return a list of dictionaries that contains charging station info\n",
    "    \"\"\"\n",
    "    curr_page = start_page #specify starting page to scrape, usually it is page 1.\n",
    "    page_end = end_page  #specify the page wanted to end scraping. Don't worry if number is too large, \n",
    "                                                                                        #we ends when page is empty.\n",
    "    row_nmb = row_nmb  #specify how many rows per request returns.\n",
    "    station_info = []  #summarizing all the station location data.\n",
    "    \n",
    "    #Starting iteration going over website to scrape station locations\n",
    "    while curr_page <= page_end:\n",
    "        REQUEST_URL = 'https://www.teld.cn/StationNetwork/GetStationNetword?ProvinceName=&CityName=&KeyWords=&\\\n",
    "RegionName=&type=&page={}'.format(curr_page) + '&rows={}'.format(row_nmb)\n",
    "        resp = requests.get(REQUEST_URL, headers=header)\n",
    "        curr_page += 1\n",
    "        json_requestData = resp.json()\n",
    "        station_info = station_info + json_requestData['rows']\n",
    "    return station_info"
   ]
  },
  {
   "cell_type": "code",
   "execution_count": 3,
   "metadata": {
    "collapsed": true
   },
   "outputs": [],
   "source": [
    "def get_piles(station_code, proxies_pool, header, time_out=1000):\n",
    "    \"\"\"\n",
    "    return json object containing piles information\n",
    "    \"pile code\" format - string, station_info[0]['code']\n",
    "    \"\"\"\n",
    "    STATION_URL = 'https://www.teld.cn/StationNetwork/GetChargingStationByCodeList?StationNo='+ station_code\n",
    "    proxy_idx = random.randint(0,len(proxies_pool)-1)\n",
    "#     print(proxy_idx)\n",
    "#     try:\n",
    "    resp = requests.get(STATION_URL, proxies=proxies_pool[proxy_idx], headers=header, timeout=time_out)\n",
    "#     except Exception, e:\n",
    "      \n",
    "    pile_info = resp.json()\n",
    "    return pile_info"
   ]
  },
  {
   "cell_type": "code",
   "execution_count": 12,
   "metadata": {
    "collapsed": true
   },
   "outputs": [],
   "source": [
    "def dd():\n",
    "    return \"haha!\""
   ]
  },
  {
   "cell_type": "code",
   "execution_count": 4,
   "metadata": {
    "collapsed": true
   },
   "outputs": [],
   "source": [
    "#-----GET ALL THE STATONS IN ONE LIST-----#\n",
    "def get_allStations(hdr):\n",
    "    \"\"\"\n",
    "    Input:\n",
    "        hdr - dictionary, detailed spec for headers\n",
    "    Output:\n",
    "        stations_list - list, containing all stations info from website, each in format of dict\n",
    "    Each station has seven attribute: isInterconnection, name, address, \n",
    "                                isFast, stationType, lat, lng, id\n",
    "    \"\"\"\n",
    "    REQUEST_URL = 'http://baseapi.teld.cn/api/GetAllStations/StaV3?coordinateType=gaode'\n",
    "    stations_resp = requests.get(REQUEST_URL, headers=hdr)\n",
    "    json_requestData = stations_resp.json()\n",
    "    stations_list = json_requestData['data']['stations']\n",
    "    return stations_list"
   ]
  },
  {
   "cell_type": "code",
   "execution_count": 5,
   "metadata": {
    "collapsed": true
   },
   "outputs": [],
   "source": [
    "# hdr = {'User-Agent':'Mozilla/5.0 (Macintosh; Intel Mac OS X 10_12_5) AppleWebKit/537.36 (KHTML, like Gecko) Chrome/\\\n",
    "# 59.0.3071.115 Safari/537.36', \n",
    "#        'Accept':'text/html,application/xhtml+xml,application/xml;q=0.9,image/webp,image/apng,*/*;q=0.8'}\n",
    "# REQUEST_URL = 'http://baseapi.teld.cn/api/GetAllStations/StaV3?coordinateType=gaode'\n",
    "# # files = {'file': open('teld_app_test.txt', 'rb')}\n",
    "# stations_resp = requests.get(REQUEST_URL, headers=hdr)\n",
    "# json_requestData = stations_resp.json()"
   ]
  },
  {
   "cell_type": "code",
   "execution_count": 6,
   "metadata": {
    "collapsed": true
   },
   "outputs": [],
   "source": [
    "# for i in json_requestData['data']['stations'][1].keys():\n",
    "#     print i, '     ', json_requestData['data']['stations'][1][i]"
   ]
  },
  {
   "cell_type": "code",
   "execution_count": 7,
   "metadata": {
    "collapsed": true
   },
   "outputs": [],
   "source": [
    "# str(json_requestData['data']['stations'][1]['stationType'].encode('utf-8'))"
   ]
  },
  {
   "cell_type": "code",
   "execution_count": 8,
   "metadata": {
    "collapsed": true
   },
   "outputs": [],
   "source": [
    "# json_requestData['data']['stations'][7000]"
   ]
  },
  {
   "cell_type": "code",
   "execution_count": 9,
   "metadata": {
    "collapsed": true
   },
   "outputs": [],
   "source": [
    "#-----GET ONE STATION DETAILS-----#\n",
    "def get_oneStation_APP(hdr, stationId):\n",
    "    \"\"\"\n",
    "    Input: \n",
    "        hdr - dictionary, detailed spec for headers\n",
    "        stationId - string, each station's own station code\n",
    "    Output:\n",
    "        station_detailedInfo - dictionary, containing detailed station information, 37 keys\n",
    "    \"\"\"\n",
    "    REQUEST_URL = 'http://baseapi.teld.cn/api/GetStationDetails/StaV3?coordinateType=gaode\\\n",
    "    &lat=0.000000&lng=0.000000&stationId='+ stationId\n",
    "    terminal_resp = requests.get(REQUEST_URL, headers=hdr)\n",
    "    json_requestData = terminal_resp.json()\n",
    "    station_detailedInfo = json_requestData['data']\n",
    "    return station_detailedInfo"
   ]
  },
  {
   "cell_type": "code",
   "execution_count": 10,
   "metadata": {
    "collapsed": true
   },
   "outputs": [],
   "source": [
    "##----- Test on get_oneStation_APP -----##\n",
    "# hdr = {'User-Agent':'Mozilla/5.0 (Macintosh; Intel Mac OS X 10_12_5) AppleWebKit/537.36 (KHTML, like Gecko) Chrome/\\\n",
    "# 59.0.3071.115 Safari/537.36', \n",
    "#        'Accept':'text/html,application/xhtml+xml,application/xml;q=0.9,image/webp,image/apng,*/*;q=0.8'}\n",
    "# REQUEST_URL = 'http://baseapi.teld.cn/api/GetStationDetails/StaV3?\\\n",
    "# coordinateType=gaode&lat=0.000000&lng=0.000000&\\\n",
    "# stationId=c09327a9-fe5b-4b4e-9bff-0e50097000e9'\n",
    "# terminal_resp = requests.get(REQUEST_URL, headers=hdr)\n",
    "# json_requestData = terminal_resp.json()\n",
    "# station_detailedInfo = json_requestData['data']"
   ]
  },
  {
   "cell_type": "code",
   "execution_count": 11,
   "metadata": {
    "collapsed": true
   },
   "outputs": [],
   "source": [
    "# for i in station_detailedInfo.keys():\n",
    "#     print i, ' = str(station_detailedInfo[\\'%s\\'])' % (i)\n",
    "# for i in station_detailedInfo.keys():\n",
    "#     print i+',',\n",
    "# for i in station_detailedInfo.keys():\n",
    "#     print i,'  -----  ', station_detailedInfo[i]\n",
    "# print str(station_detailedInfo['payType'].encode('utf-8'))\n",
    "# if station_detailedInfo['specialDesc'] is None :\n",
    "#     print 1\n",
    "# else:\n",
    "#     print 2\n",
    "# collected  = str(station_detailedInfo['specialDesc'].encode('utf-8'))\n",
    "# print(collected)"
   ]
  },
  {
   "cell_type": "code",
   "execution_count": 12,
   "metadata": {
    "collapsed": true
   },
   "outputs": [],
   "source": [
    "# print(json_requestData['data']['stationId'])"
   ]
  },
  {
   "cell_type": "code",
   "execution_count": 13,
   "metadata": {
    "collapsed": true
   },
   "outputs": [],
   "source": [
    "#------GET PILES ID FROM TERMINAL-----#\n",
    "# hdr = {'User-Agent':'Mozilla/5.0 (Macintosh; Intel Mac OS X 10_12_5) AppleWebKit/537.36 (KHTML, like Gecko) Chrome/\\\n",
    "# 59.0.3071.115 Safari/537.36', \n",
    "#        'Accept':'text/html,application/xhtml+xml,application/xml;q=0.9,image/webp,image/apng,*/*;q=0.8'}\n",
    "# #        'Host':'baseapi.teld.cn',\n",
    "# #        'Content-Type':'application/x-www-form-urlencoded',\n",
    "# #        'Accept':'*/*',\n",
    "# #        'Connection':'keep-alive',\n",
    "# #        'Device':'app_version=3.3.0&os_version=10.3.3&client=iso&device_name=iphone 6s',\n",
    "# #        'User-Agent':'Teld/3.3.0 (iPhone; ios 10.3.3; Scale/2.00)',\n",
    "# #        'Accept-Language':'en-US;q=1, zh-Hans-US;q=0.9, ko-KR;q=0.8, zh-Hant-US;q=0.7',\n",
    "# #        'Content-Length':'64',\n",
    "# #        'Accept-Encoding':'gzip,deflate'}\n",
    "# REQUEST_URL = 'http://baseapi.teld.cn/api/GetTerminalOfStation/StaV3?keyword=&orderBy=&stationId=045725c3-1b23-4108-837d-77dfb6b53e7d'\n",
    "# pile_resp = requests.post(REQUEST_URL, headers=hdr)\n",
    "# json_requestData = pile_resp.json()"
   ]
  },
  {
   "cell_type": "code",
   "execution_count": 65,
   "metadata": {},
   "outputs": [],
   "source": [
    "#-----GET ONE CHARGING PILE DETAILS FROM TERMINAL-----#\n",
    "def get_onePill_APP(error_log, hdr, pillCode, proxies_pool, time_out=10000):\n",
    "    \"\"\"\n",
    "    Input:\n",
    "        error_log - specify file to write errors\n",
    "        hdr - dictionary, detailed spec for headers\n",
    "        pillCode - string, each charging pile has its own pile code\n",
    "    Output:\n",
    "        pill_detailedInfo - dictionary, containing detailed station information, 49 keys\n",
    "    \"\"\"\n",
    "    url = \"https://basesg.teld.cn/api/invoke\"\n",
    "    \n",
    "    querystring = {\"SID\":\"BaseApi-App0304_GetTerminalDetails\"}\n",
    "    \n",
    "    payload = 'param=%7B%0A%20%20%22pillCode%22%20%3A%20%22{}%22%2C%0A%20%20%22plateform%22%20%3A%20%22app%22%0A%7D'.format(pillCode)\n",
    "    try:\n",
    "        if proxies_pool is not None:\n",
    "            proxy_idx = random.randint(0,len(proxies_pool)-1)\n",
    "            pill_resp = requests.request(\"POST\",url, proxies=proxies_pool[proxy_idx], headers=hdr, \n",
    "                                         params=querystring, timeout=time_out)\n",
    "        else:\n",
    "             pill_resp = requests.request(\"POST\", url, data=payload, headers=hdr, params=querystring, \n",
    "                                          timeout=time_out)\n",
    "        json_requestData = pill_resp.json()\n",
    "        if json_requestData['data'] is not None:\n",
    "            if 'terminal' in json_requestData['data']:\n",
    "                pill_detailedInfo = json_requestData['data']['terminal']\n",
    "            else:\n",
    "                pill_detailedInfo = None\n",
    "        else:\n",
    "            pill_detailedInfo = None\n",
    "    except requests.exceptions.ConnectionError as e:\n",
    "        if proxies_pool is not None:\n",
    "            if error_log is not None:\n",
    "                error_log.write(\"{}--{}\".format(pileCode, e))\n",
    "            print(proxies_pool[proxy_idx])\n",
    "            proxies_pool.pop(proxy_idx)\n",
    "        print('failed')\n",
    "        pill_detailedInfo = None\n",
    "    return pill_detailedInfo, proxies_pool"
   ]
  },
  {
   "cell_type": "code",
   "execution_count": 63,
   "metadata": {},
   "outputs": [],
   "source": [
    "##----- Test on get_onePill_APP -----##\n",
    "# pillCode = \"1140290000003361001\"\n",
    "# hdr = {\n",
    "#     'accept': \"*/*\",\n",
    "#     'user-agent': \"Teld/3.4.0 (iPhone; iOS 10.3.3; Scale/2.00)\",\n",
    "#     'cookie': \"TELDAppID=\",\n",
    "#     'content-length': \"111\",\n",
    "#     'connection': \"keep-alive\",\n",
    "#     'accept-encoding': \"gzip, deflate\",\n",
    "#     'device': \"app_version=3.4.0&os_version=10.3.3&client=ios&device_name=iPhone 6s (A1633/A1688/A1691/A1700)&device_id=38CD294C-CC36-4998-9074-C7F798EE6087&city_code=4403&city_name=%E6%B7%B1%E5%9C%B3&lat=0.000000&lng=0.000000&network=wifi&location_city_name=\",\n",
    "#     'host': \"basesg.teld.cn\",\n",
    "#     'content-type': \"application/x-www-form-urlencoded\",\n",
    "#     'cache-control': \"no-cache\",\n",
    "#     'postman-token': \"4dd0a429-35ad-1863-c8f5-18e0f7805f60\"\n",
    "#     }\n",
    "\n",
    "# pill_detailedInfo, proxies_pool = get_onePill_APP(None, hdr, pillCode, None, time_out=10000)\n",
    "\n",
    "# print(pill_detailedInfo)"
   ]
  },
  {
   "cell_type": "code",
   "execution_count": 3,
   "metadata": {
    "scrolled": true
   },
   "outputs": [
    {
     "ename": "ConnectionError",
     "evalue": "HTTPConnectionPool(host='baseapi.teld.cn', port=80): Max retries exceeded with url: /api/GetPillDetails/StaV2?pillCode=4403070020103 (Caused by NewConnectionError('<urllib3.connection.HTTPConnection object at 0x7f50ac425790>: Failed to establish a new connection: [Errno 111] Connection refused',))",
     "output_type": "error",
     "traceback": [
      "\u001b[0;31m---------------------------------------------------------------------------\u001b[0m",
      "\u001b[0;31mConnectionError\u001b[0m                           Traceback (most recent call last)",
      "\u001b[0;32m<ipython-input-3-a0c4008d5709>\u001b[0m in \u001b[0;36m<module>\u001b[0;34m()\u001b[0m\n\u001b[1;32m     49\u001b[0m        'Accept':'text/html,application/xhtml+xml,application/xml;q=0.9,image/webp,image/apng,*/*;q=0.8'}\n\u001b[1;32m     50\u001b[0m \u001b[0mREQUEST_URL\u001b[0m \u001b[0;34m=\u001b[0m \u001b[0;34m'http://baseapi.teld.cn/api/GetPillDetails/StaV2?pillCode=4403070020103'\u001b[0m\u001b[0;34m\u001b[0m\u001b[0m\n\u001b[0;32m---> 51\u001b[0;31m \u001b[0mpile_resp\u001b[0m \u001b[0;34m=\u001b[0m \u001b[0mrequests\u001b[0m\u001b[0;34m.\u001b[0m\u001b[0mget\u001b[0m\u001b[0;34m(\u001b[0m\u001b[0mREQUEST_URL\u001b[0m\u001b[0;34m,\u001b[0m \u001b[0mproxies\u001b[0m\u001b[0;34m=\u001b[0m\u001b[0mproxies_pool\u001b[0m\u001b[0;34m[\u001b[0m\u001b[0mproxy_idx\u001b[0m\u001b[0;34m]\u001b[0m\u001b[0;34m,\u001b[0m \u001b[0mheaders\u001b[0m\u001b[0;34m=\u001b[0m\u001b[0mhdr\u001b[0m\u001b[0;34m)\u001b[0m\u001b[0;34m\u001b[0m\u001b[0m\n\u001b[0m\u001b[1;32m     52\u001b[0m \u001b[0mjson_requestData\u001b[0m \u001b[0;34m=\u001b[0m \u001b[0mpile_resp\u001b[0m\u001b[0;34m.\u001b[0m\u001b[0mjson\u001b[0m\u001b[0;34m(\u001b[0m\u001b[0;34m)\u001b[0m\u001b[0;34m\u001b[0m\u001b[0m\n",
      "\u001b[0;32m/usr/local/lib/python2.7/dist-packages/requests/api.pyc\u001b[0m in \u001b[0;36mget\u001b[0;34m(url, params, **kwargs)\u001b[0m\n\u001b[1;32m     70\u001b[0m \u001b[0;34m\u001b[0m\u001b[0m\n\u001b[1;32m     71\u001b[0m     \u001b[0mkwargs\u001b[0m\u001b[0;34m.\u001b[0m\u001b[0msetdefault\u001b[0m\u001b[0;34m(\u001b[0m\u001b[0;34m'allow_redirects'\u001b[0m\u001b[0;34m,\u001b[0m \u001b[0mTrue\u001b[0m\u001b[0;34m)\u001b[0m\u001b[0;34m\u001b[0m\u001b[0m\n\u001b[0;32m---> 72\u001b[0;31m     \u001b[0;32mreturn\u001b[0m \u001b[0mrequest\u001b[0m\u001b[0;34m(\u001b[0m\u001b[0;34m'get'\u001b[0m\u001b[0;34m,\u001b[0m \u001b[0murl\u001b[0m\u001b[0;34m,\u001b[0m \u001b[0mparams\u001b[0m\u001b[0;34m=\u001b[0m\u001b[0mparams\u001b[0m\u001b[0;34m,\u001b[0m \u001b[0;34m**\u001b[0m\u001b[0mkwargs\u001b[0m\u001b[0;34m)\u001b[0m\u001b[0;34m\u001b[0m\u001b[0m\n\u001b[0m\u001b[1;32m     73\u001b[0m \u001b[0;34m\u001b[0m\u001b[0m\n\u001b[1;32m     74\u001b[0m \u001b[0;34m\u001b[0m\u001b[0m\n",
      "\u001b[0;32m/usr/local/lib/python2.7/dist-packages/requests/api.pyc\u001b[0m in \u001b[0;36mrequest\u001b[0;34m(method, url, **kwargs)\u001b[0m\n\u001b[1;32m     56\u001b[0m     \u001b[0;31m# cases, and look like a memory leak in others.\u001b[0m\u001b[0;34m\u001b[0m\u001b[0;34m\u001b[0m\u001b[0m\n\u001b[1;32m     57\u001b[0m     \u001b[0;32mwith\u001b[0m \u001b[0msessions\u001b[0m\u001b[0;34m.\u001b[0m\u001b[0mSession\u001b[0m\u001b[0;34m(\u001b[0m\u001b[0;34m)\u001b[0m \u001b[0;32mas\u001b[0m \u001b[0msession\u001b[0m\u001b[0;34m:\u001b[0m\u001b[0;34m\u001b[0m\u001b[0m\n\u001b[0;32m---> 58\u001b[0;31m         \u001b[0;32mreturn\u001b[0m \u001b[0msession\u001b[0m\u001b[0;34m.\u001b[0m\u001b[0mrequest\u001b[0m\u001b[0;34m(\u001b[0m\u001b[0mmethod\u001b[0m\u001b[0;34m=\u001b[0m\u001b[0mmethod\u001b[0m\u001b[0;34m,\u001b[0m \u001b[0murl\u001b[0m\u001b[0;34m=\u001b[0m\u001b[0murl\u001b[0m\u001b[0;34m,\u001b[0m \u001b[0;34m**\u001b[0m\u001b[0mkwargs\u001b[0m\u001b[0;34m)\u001b[0m\u001b[0;34m\u001b[0m\u001b[0m\n\u001b[0m\u001b[1;32m     59\u001b[0m \u001b[0;34m\u001b[0m\u001b[0m\n\u001b[1;32m     60\u001b[0m \u001b[0;34m\u001b[0m\u001b[0m\n",
      "\u001b[0;32m/usr/local/lib/python2.7/dist-packages/requests/sessions.pyc\u001b[0m in \u001b[0;36mrequest\u001b[0;34m(self, method, url, params, data, headers, cookies, files, auth, timeout, allow_redirects, proxies, hooks, stream, verify, cert, json)\u001b[0m\n\u001b[1;32m    506\u001b[0m         }\n\u001b[1;32m    507\u001b[0m         \u001b[0msend_kwargs\u001b[0m\u001b[0;34m.\u001b[0m\u001b[0mupdate\u001b[0m\u001b[0;34m(\u001b[0m\u001b[0msettings\u001b[0m\u001b[0;34m)\u001b[0m\u001b[0;34m\u001b[0m\u001b[0m\n\u001b[0;32m--> 508\u001b[0;31m         \u001b[0mresp\u001b[0m \u001b[0;34m=\u001b[0m \u001b[0mself\u001b[0m\u001b[0;34m.\u001b[0m\u001b[0msend\u001b[0m\u001b[0;34m(\u001b[0m\u001b[0mprep\u001b[0m\u001b[0;34m,\u001b[0m \u001b[0;34m**\u001b[0m\u001b[0msend_kwargs\u001b[0m\u001b[0;34m)\u001b[0m\u001b[0;34m\u001b[0m\u001b[0m\n\u001b[0m\u001b[1;32m    509\u001b[0m \u001b[0;34m\u001b[0m\u001b[0m\n\u001b[1;32m    510\u001b[0m         \u001b[0;32mreturn\u001b[0m \u001b[0mresp\u001b[0m\u001b[0;34m\u001b[0m\u001b[0m\n",
      "\u001b[0;32m/usr/local/lib/python2.7/dist-packages/requests/sessions.pyc\u001b[0m in \u001b[0;36msend\u001b[0;34m(self, request, **kwargs)\u001b[0m\n\u001b[1;32m    616\u001b[0m \u001b[0;34m\u001b[0m\u001b[0m\n\u001b[1;32m    617\u001b[0m         \u001b[0;31m# Send the request\u001b[0m\u001b[0;34m\u001b[0m\u001b[0;34m\u001b[0m\u001b[0m\n\u001b[0;32m--> 618\u001b[0;31m         \u001b[0mr\u001b[0m \u001b[0;34m=\u001b[0m \u001b[0madapter\u001b[0m\u001b[0;34m.\u001b[0m\u001b[0msend\u001b[0m\u001b[0;34m(\u001b[0m\u001b[0mrequest\u001b[0m\u001b[0;34m,\u001b[0m \u001b[0;34m**\u001b[0m\u001b[0mkwargs\u001b[0m\u001b[0;34m)\u001b[0m\u001b[0;34m\u001b[0m\u001b[0m\n\u001b[0m\u001b[1;32m    619\u001b[0m \u001b[0;34m\u001b[0m\u001b[0m\n\u001b[1;32m    620\u001b[0m         \u001b[0;31m# Total elapsed time of the request (approximately)\u001b[0m\u001b[0;34m\u001b[0m\u001b[0;34m\u001b[0m\u001b[0m\n",
      "\u001b[0;32m/usr/local/lib/python2.7/dist-packages/requests/adapters.pyc\u001b[0m in \u001b[0;36msend\u001b[0;34m(self, request, stream, timeout, verify, cert, proxies)\u001b[0m\n\u001b[1;32m    506\u001b[0m                 \u001b[0;32mraise\u001b[0m \u001b[0mSSLError\u001b[0m\u001b[0;34m(\u001b[0m\u001b[0me\u001b[0m\u001b[0;34m,\u001b[0m \u001b[0mrequest\u001b[0m\u001b[0;34m=\u001b[0m\u001b[0mrequest\u001b[0m\u001b[0;34m)\u001b[0m\u001b[0;34m\u001b[0m\u001b[0m\n\u001b[1;32m    507\u001b[0m \u001b[0;34m\u001b[0m\u001b[0m\n\u001b[0;32m--> 508\u001b[0;31m             \u001b[0;32mraise\u001b[0m \u001b[0mConnectionError\u001b[0m\u001b[0;34m(\u001b[0m\u001b[0me\u001b[0m\u001b[0;34m,\u001b[0m \u001b[0mrequest\u001b[0m\u001b[0;34m=\u001b[0m\u001b[0mrequest\u001b[0m\u001b[0;34m)\u001b[0m\u001b[0;34m\u001b[0m\u001b[0m\n\u001b[0m\u001b[1;32m    509\u001b[0m \u001b[0;34m\u001b[0m\u001b[0m\n\u001b[1;32m    510\u001b[0m         \u001b[0;32mexcept\u001b[0m \u001b[0mClosedPoolError\u001b[0m \u001b[0;32mas\u001b[0m \u001b[0me\u001b[0m\u001b[0;34m:\u001b[0m\u001b[0;34m\u001b[0m\u001b[0m\n",
      "\u001b[0;31mConnectionError\u001b[0m: HTTPConnectionPool(host='baseapi.teld.cn', port=80): Max retries exceeded with url: /api/GetPillDetails/StaV2?pillCode=4403070020103 (Caused by NewConnectionError('<urllib3.connection.HTTPConnection object at 0x7f50ac425790>: Failed to establish a new connection: [Errno 111] Connection refused',))"
     ]
    }
   ],
   "source": [
    "proxies_pool=[{'http': '171.214.204.188:8118'},\n",
    " {'http': '111.155.116.211:8123'},\n",
    " {'https': '120.76.55.49:8088'},\n",
    " {'http': '114.102.14.149:8118'},\n",
    " {'https': '61.159.244.114:8118'},\n",
    " {'https': '182.246.216.160:80'},\n",
    " {'https': '182.34.174.33:4382'},\n",
    " {'http': '58.246.59.59:8080'},\n",
    " {'http': '218.56.132.154:8080'},\n",
    " {'http': '116.62.11.240:80'},\n",
    " {'http': '101.5.155.41:8123'},\n",
    " {'https': '183.66.64.120:3128'},\n",
    " {'https': '203.110.166.61:80'},\n",
    " {'http': '218.241.234.48:8080'},\n",
    " {'http': '110.189.153.33:53281'},\n",
    " {'https': '61.159.244.114:8118'},\n",
    " {'https': '39.88.15.93:53281'},\n",
    " {'https': '39.88.13.3:53281'},\n",
    " {'https': '203.110.166.61:80'},\n",
    " {'https': '218.18.10.11:9797'},\n",
    " {'https': '182.246.216.160:80'},\n",
    " {'https': '182.34.174.33:4382'},\n",
    " {'https': '61.160.208.222:8080'},\n",
    " {'https': '59.40.71.132:9797'},\n",
    " {'https': '120.27.27.50:3128'},\n",
    " {'https': '59.59.145.85:53281'},\n",
    " {'https': '139.224.24.26:8888'},\n",
    " {'https': '222.222.169.60:53281'},\n",
    " {'https': '218.15.23.229:53281'},\n",
    " {'https': '210.26.54.43:808'},\n",
    " {'http': '122.224.227.202:3128'},\n",
    " {'http': '203.91.121.76:3128'},\n",
    " {'http': '218.241.234.48:8080'},\n",
    " {'http': '110.52.8.180:53281'},\n",
    " {'http': '113.122.6.65:808'},\n",
    " {'http': '110.189.153.33:53281'},\n",
    " {'http': '114.102.14.149:8118'},\n",
    " {'http': '58.246.59.59:8080'},\n",
    " {'http': '180.168.179.193:8080'},\n",
    " {'http': '118.119.168.172:9999'},\n",
    " {'http': '124.117.209.110:53281'},\n",
    " {'http': '125.46.0.62:53281'},\n",
    " {'http': '183.56.177.130:808'},\n",
    " {'http': '171.116.69.238:8118'},\n",
    " {'http': '144.52.191.133:53281'},\n",
    " {'http': '222.82.222.242:9999'}]\n",
    "proxy_idx = random.randint(0,len(proxies_pool)-1)\n",
    "hdr = {'User-Agent':'Mozilla/5.0 (Macintosh; Intel Mac OS X 10_12_5) AppleWebKit/537.36 (KHTML, like Gecko) Chrome/\\\n",
    "59.0.3071.115 Safari/537.36', \n",
    "       'Accept':'text/html,application/xhtml+xml,application/xml;q=0.9,image/webp,image/apng,*/*;q=0.8'}\n",
    "REQUEST_URL = 'http://baseapi.teld.cn/api/GetPillDetails/StaV2?\\\n",
    "pillCode=4403070020103'\n",
    "pile_resp = requests.get(REQUEST_URL, proxies=proxies_pool[proxy_idx], headers=hdr)\n",
    "json_requestData = pile_resp.json()"
   ]
  },
  {
   "cell_type": "code",
   "execution_count": 11,
   "metadata": {},
   "outputs": [
    {
     "name": "stdout",
     "output_type": "stream",
     "text": [
      "已插枪\n",
      "已插枪\n",
      "03\n",
      "05\n"
     ]
    },
    {
     "data": {
      "text/plain": [
       "{u'data': {u'companyAccount': [],\n",
       "  u'myAccount': {},\n",
       "  u'terminal': {u'ChargingPort': u'\\u56fd\\u68072011 ',\n",
       "   u'Description': u'00:00~24:00:0.700000:00~24:00:1.0900',\n",
       "   u'OpState': u'3',\n",
       "   u'OpstateName': u'\\u8fd0\\u8425\\u4e2d',\n",
       "   u'allowCharge': True,\n",
       "   u'allowEconomyCharge': False,\n",
       "   u'allowLimitCharge': False,\n",
       "   u'allowOrderCharge': False,\n",
       "   u'canChargeMoney': u'0',\n",
       "   u'carPark': u'\\u65e0',\n",
       "   u'chargeApplyTime': u'50',\n",
       "   u'chargeUserId': u'',\n",
       "   u'chargeUserName': u'',\n",
       "   u'dataCenterLocation': u'BJ',\n",
       "   u'directCharge': u'N',\n",
       "   u'hasCollected': u'N',\n",
       "   u'interconnectionId': u'',\n",
       "   u'isFast': u'N',\n",
       "   u'isHintRecharge': False,\n",
       "   u'isInterconnection': u'N',\n",
       "   u'isMoneyNotEnough': False,\n",
       "   u'isMyPersonalTerminal': False,\n",
       "   u'isPersonalTerminal': False,\n",
       "   u'isTeldPersonalTerminal': True,\n",
       "   u'linkPhone': u'4001300001',\n",
       "   u'notOpenOutside': u'N',\n",
       "   u'orderTime': u'',\n",
       "   u'parkFee': u'\\u7b2c\\u4e00\\u5c0f\\u65f65\\u5143\\uff0c\\u7b2c\\u4e8c\\u5c0f\\u65f61\\u5143/\\u5c0f\\u65f6\\uff0c\\u6bcf\\u5929\\u6700\\u9ad810\\u5143\\uff0c30\\u5206\\u949f\\u5185\\u514d\\u8d39',\n",
       "   u'payType': u'\\u672cAPP\\uff0c\\u7279\\u6765\\u7535\\u5fae\\u4fe1\\u516c\\u4f17\\u53f7',\n",
       "   u'pillCode': u'4403070020103',\n",
       "   u'pillID': u'70f55cd7-4cb6-4369-9630-61757f2694f5',\n",
       "   u'pillName': u'103\\u53f7\\u4ea4\\u6d41',\n",
       "   u'pillNameV3': u'103\\u53f7',\n",
       "   u'power': u'',\n",
       "   u'powerAuxiliary': u'',\n",
       "   u'priceDesc': u'\\u7535\\u8d39:00:00~24:00:1.0900;\\u670d\\u52a1\\u8d39:00:00~24:00:0.7000',\n",
       "   u'priceSize': 1,\n",
       "   u'prices': [{u'electricPrice': u'1.0900',\n",
       "     u'servicePrice': u'0.7000',\n",
       "     u'startTime': u'00:00',\n",
       "     u'timeRange': u'00:00-24:00'}],\n",
       "   u'specialDesc': u'',\n",
       "   u'specialDescV3': u'',\n",
       "   u'staID': u'05342de4-467c-4c30-a9e7-9f7c12e21ea7',\n",
       "   u'staName': u'\\u6df1\\u5733\\u6ee8\\u6d77\\u76db\\u4e16\\u540d\\u82d1\\u5145\\u7535\\u7ad9',\n",
       "   u'stateCode': u'03',\n",
       "   u'stateCodeV3': u'05',\n",
       "   u'stateName': u'\\u5df2\\u63d2\\u67aa',\n",
       "   u'stateNameV3': u'\\u5df2\\u63d2\\u67aa',\n",
       "   u'tag': u'\\u56fd\\u68072011 7kW',\n",
       "   u'terminalType': u'\\u4ea4\\u6d41\\u5355\\u76f8 7kW',\n",
       "   u'voltage': u''},\n",
       "  u'thirdApp': [],\n",
       "  u'thirdBalanceAccount': []},\n",
       " u'errcode': None,\n",
       " u'errmsg': None,\n",
       " u'state': u'1'}"
      ]
     },
     "execution_count": 11,
     "metadata": {},
     "output_type": "execute_result"
    }
   ],
   "source": [
    "print(json_requestData['data']['terminal']['stateNameV3'])\n",
    "print(json_requestData['data']['terminal']['stateName'])\n",
    "print(json_requestData['data']['terminal']['stateCode'])\n",
    "print(json_requestData['data']['terminal']['stateCodeV3'])\n",
    "json_requestData"
   ]
  },
  {
   "cell_type": "code",
   "execution_count": 16,
   "metadata": {
    "collapsed": true
   },
   "outputs": [],
   "source": [
    "# for i in json_requestData['data']['terminal'].keys():\n",
    "#      print i+',',#, '  -----  ', json_requestData['data']['terminal'][i]"
   ]
  },
  {
   "cell_type": "code",
   "execution_count": 17,
   "metadata": {
    "collapsed": true
   },
   "outputs": [],
   "source": [
    "##----- Generate if-else-encode -----##\n",
    "# fix_list = ['tag','parkFee','ChargingPort','payType','terminalType']\n",
    "# for i in fix_list:\n",
    "#     print(\"\"\"if pile_detailedInfo[\\'{name}\\'] is not None:\n",
    "#     {name} = str(pile_detailedInfo[\\'{name}\\'].encode('utf-8'))\n",
    "# else:\n",
    "#     {name} = \\'\\'\"\"\".format(name=i))"
   ]
  },
  {
   "cell_type": "code",
   "execution_count": 5,
   "metadata": {},
   "outputs": [
    {
     "ename": "ConnectionError",
     "evalue": "HTTPConnectionPool(host='baseapi.teld.cn', port=80): Max retries exceeded with url: /api/GetChargeListBySta/StaV3?itemNumPerPage=200&pageNum=1&staID=d4035b02-5f27-4ae9-b0b1-dd10010f5b7e (Caused by NewConnectionError('<urllib3.connection.HTTPConnection object at 0x7f50ac498410>: Failed to establish a new connection: [Errno 111] Connection refused',))",
     "output_type": "error",
     "traceback": [
      "\u001b[0;31m---------------------------------------------------------------------------\u001b[0m",
      "\u001b[0;31mConnectionError\u001b[0m                           Traceback (most recent call last)",
      "\u001b[0;32m<ipython-input-5-3afdfefb44e9>\u001b[0m in \u001b[0;36m<module>\u001b[0;34m()\u001b[0m\n\u001b[1;32m      4\u001b[0m        'Cookie':'TELDSID=5a27131b-9d4f-453d-be37-aba843162dfe'}\n\u001b[1;32m      5\u001b[0m \u001b[0mREQUEST_URL\u001b[0m \u001b[0;34m=\u001b[0m \u001b[0;34m'http://baseapi.teld.cn/api/GetChargeListBySta/StaV3?itemNumPerPage=200&pageNum=1&staID=d4035b02-5f27-4ae9-b0b1-dd10010f5b7e'\u001b[0m\u001b[0;34m\u001b[0m\u001b[0m\n\u001b[0;32m----> 6\u001b[0;31m \u001b[0mpile_resp\u001b[0m \u001b[0;34m=\u001b[0m \u001b[0mrequests\u001b[0m\u001b[0;34m.\u001b[0m\u001b[0mget\u001b[0m\u001b[0;34m(\u001b[0m\u001b[0mREQUEST_URL\u001b[0m\u001b[0;34m,\u001b[0m \u001b[0mheaders\u001b[0m\u001b[0;34m=\u001b[0m\u001b[0mhdr\u001b[0m\u001b[0;34m)\u001b[0m\u001b[0;34m\u001b[0m\u001b[0m\n\u001b[0m\u001b[1;32m      7\u001b[0m \u001b[0mjson_requestData\u001b[0m \u001b[0;34m=\u001b[0m \u001b[0mpile_resp\u001b[0m\u001b[0;34m.\u001b[0m\u001b[0mjson\u001b[0m\u001b[0;34m(\u001b[0m\u001b[0;34m)\u001b[0m\u001b[0;34m\u001b[0m\u001b[0m\n\u001b[1;32m      8\u001b[0m \u001b[0mchargelist\u001b[0m \u001b[0;34m=\u001b[0m \u001b[0mjson_requestData\u001b[0m\u001b[0;34m[\u001b[0m\u001b[0;34m'data'\u001b[0m\u001b[0;34m]\u001b[0m\u001b[0;34m[\u001b[0m\u001b[0;34m'items'\u001b[0m\u001b[0;34m]\u001b[0m\u001b[0;34m\u001b[0m\u001b[0m\n",
      "\u001b[0;32m/usr/local/lib/python2.7/dist-packages/requests/api.pyc\u001b[0m in \u001b[0;36mget\u001b[0;34m(url, params, **kwargs)\u001b[0m\n\u001b[1;32m     70\u001b[0m \u001b[0;34m\u001b[0m\u001b[0m\n\u001b[1;32m     71\u001b[0m     \u001b[0mkwargs\u001b[0m\u001b[0;34m.\u001b[0m\u001b[0msetdefault\u001b[0m\u001b[0;34m(\u001b[0m\u001b[0;34m'allow_redirects'\u001b[0m\u001b[0;34m,\u001b[0m \u001b[0mTrue\u001b[0m\u001b[0;34m)\u001b[0m\u001b[0;34m\u001b[0m\u001b[0m\n\u001b[0;32m---> 72\u001b[0;31m     \u001b[0;32mreturn\u001b[0m \u001b[0mrequest\u001b[0m\u001b[0;34m(\u001b[0m\u001b[0;34m'get'\u001b[0m\u001b[0;34m,\u001b[0m \u001b[0murl\u001b[0m\u001b[0;34m,\u001b[0m \u001b[0mparams\u001b[0m\u001b[0;34m=\u001b[0m\u001b[0mparams\u001b[0m\u001b[0;34m,\u001b[0m \u001b[0;34m**\u001b[0m\u001b[0mkwargs\u001b[0m\u001b[0;34m)\u001b[0m\u001b[0;34m\u001b[0m\u001b[0m\n\u001b[0m\u001b[1;32m     73\u001b[0m \u001b[0;34m\u001b[0m\u001b[0m\n\u001b[1;32m     74\u001b[0m \u001b[0;34m\u001b[0m\u001b[0m\n",
      "\u001b[0;32m/usr/local/lib/python2.7/dist-packages/requests/api.pyc\u001b[0m in \u001b[0;36mrequest\u001b[0;34m(method, url, **kwargs)\u001b[0m\n\u001b[1;32m     56\u001b[0m     \u001b[0;31m# cases, and look like a memory leak in others.\u001b[0m\u001b[0;34m\u001b[0m\u001b[0;34m\u001b[0m\u001b[0m\n\u001b[1;32m     57\u001b[0m     \u001b[0;32mwith\u001b[0m \u001b[0msessions\u001b[0m\u001b[0;34m.\u001b[0m\u001b[0mSession\u001b[0m\u001b[0;34m(\u001b[0m\u001b[0;34m)\u001b[0m \u001b[0;32mas\u001b[0m \u001b[0msession\u001b[0m\u001b[0;34m:\u001b[0m\u001b[0;34m\u001b[0m\u001b[0m\n\u001b[0;32m---> 58\u001b[0;31m         \u001b[0;32mreturn\u001b[0m \u001b[0msession\u001b[0m\u001b[0;34m.\u001b[0m\u001b[0mrequest\u001b[0m\u001b[0;34m(\u001b[0m\u001b[0mmethod\u001b[0m\u001b[0;34m=\u001b[0m\u001b[0mmethod\u001b[0m\u001b[0;34m,\u001b[0m \u001b[0murl\u001b[0m\u001b[0;34m=\u001b[0m\u001b[0murl\u001b[0m\u001b[0;34m,\u001b[0m \u001b[0;34m**\u001b[0m\u001b[0mkwargs\u001b[0m\u001b[0;34m)\u001b[0m\u001b[0;34m\u001b[0m\u001b[0m\n\u001b[0m\u001b[1;32m     59\u001b[0m \u001b[0;34m\u001b[0m\u001b[0m\n\u001b[1;32m     60\u001b[0m \u001b[0;34m\u001b[0m\u001b[0m\n",
      "\u001b[0;32m/usr/local/lib/python2.7/dist-packages/requests/sessions.pyc\u001b[0m in \u001b[0;36mrequest\u001b[0;34m(self, method, url, params, data, headers, cookies, files, auth, timeout, allow_redirects, proxies, hooks, stream, verify, cert, json)\u001b[0m\n\u001b[1;32m    506\u001b[0m         }\n\u001b[1;32m    507\u001b[0m         \u001b[0msend_kwargs\u001b[0m\u001b[0;34m.\u001b[0m\u001b[0mupdate\u001b[0m\u001b[0;34m(\u001b[0m\u001b[0msettings\u001b[0m\u001b[0;34m)\u001b[0m\u001b[0;34m\u001b[0m\u001b[0m\n\u001b[0;32m--> 508\u001b[0;31m         \u001b[0mresp\u001b[0m \u001b[0;34m=\u001b[0m \u001b[0mself\u001b[0m\u001b[0;34m.\u001b[0m\u001b[0msend\u001b[0m\u001b[0;34m(\u001b[0m\u001b[0mprep\u001b[0m\u001b[0;34m,\u001b[0m \u001b[0;34m**\u001b[0m\u001b[0msend_kwargs\u001b[0m\u001b[0;34m)\u001b[0m\u001b[0;34m\u001b[0m\u001b[0m\n\u001b[0m\u001b[1;32m    509\u001b[0m \u001b[0;34m\u001b[0m\u001b[0m\n\u001b[1;32m    510\u001b[0m         \u001b[0;32mreturn\u001b[0m \u001b[0mresp\u001b[0m\u001b[0;34m\u001b[0m\u001b[0m\n",
      "\u001b[0;32m/usr/local/lib/python2.7/dist-packages/requests/sessions.pyc\u001b[0m in \u001b[0;36msend\u001b[0;34m(self, request, **kwargs)\u001b[0m\n\u001b[1;32m    616\u001b[0m \u001b[0;34m\u001b[0m\u001b[0m\n\u001b[1;32m    617\u001b[0m         \u001b[0;31m# Send the request\u001b[0m\u001b[0;34m\u001b[0m\u001b[0;34m\u001b[0m\u001b[0m\n\u001b[0;32m--> 618\u001b[0;31m         \u001b[0mr\u001b[0m \u001b[0;34m=\u001b[0m \u001b[0madapter\u001b[0m\u001b[0;34m.\u001b[0m\u001b[0msend\u001b[0m\u001b[0;34m(\u001b[0m\u001b[0mrequest\u001b[0m\u001b[0;34m,\u001b[0m \u001b[0;34m**\u001b[0m\u001b[0mkwargs\u001b[0m\u001b[0;34m)\u001b[0m\u001b[0;34m\u001b[0m\u001b[0m\n\u001b[0m\u001b[1;32m    619\u001b[0m \u001b[0;34m\u001b[0m\u001b[0m\n\u001b[1;32m    620\u001b[0m         \u001b[0;31m# Total elapsed time of the request (approximately)\u001b[0m\u001b[0;34m\u001b[0m\u001b[0;34m\u001b[0m\u001b[0m\n",
      "\u001b[0;32m/usr/local/lib/python2.7/dist-packages/requests/adapters.pyc\u001b[0m in \u001b[0;36msend\u001b[0;34m(self, request, stream, timeout, verify, cert, proxies)\u001b[0m\n\u001b[1;32m    506\u001b[0m                 \u001b[0;32mraise\u001b[0m \u001b[0mSSLError\u001b[0m\u001b[0;34m(\u001b[0m\u001b[0me\u001b[0m\u001b[0;34m,\u001b[0m \u001b[0mrequest\u001b[0m\u001b[0;34m=\u001b[0m\u001b[0mrequest\u001b[0m\u001b[0;34m)\u001b[0m\u001b[0;34m\u001b[0m\u001b[0m\n\u001b[1;32m    507\u001b[0m \u001b[0;34m\u001b[0m\u001b[0m\n\u001b[0;32m--> 508\u001b[0;31m             \u001b[0;32mraise\u001b[0m \u001b[0mConnectionError\u001b[0m\u001b[0;34m(\u001b[0m\u001b[0me\u001b[0m\u001b[0;34m,\u001b[0m \u001b[0mrequest\u001b[0m\u001b[0;34m=\u001b[0m\u001b[0mrequest\u001b[0m\u001b[0;34m)\u001b[0m\u001b[0;34m\u001b[0m\u001b[0m\n\u001b[0m\u001b[1;32m    509\u001b[0m \u001b[0;34m\u001b[0m\u001b[0m\n\u001b[1;32m    510\u001b[0m         \u001b[0;32mexcept\u001b[0m \u001b[0mClosedPoolError\u001b[0m \u001b[0;32mas\u001b[0m \u001b[0me\u001b[0m\u001b[0;34m:\u001b[0m\u001b[0;34m\u001b[0m\u001b[0m\n",
      "\u001b[0;31mConnectionError\u001b[0m: HTTPConnectionPool(host='baseapi.teld.cn', port=80): Max retries exceeded with url: /api/GetChargeListBySta/StaV3?itemNumPerPage=200&pageNum=1&staID=d4035b02-5f27-4ae9-b0b1-dd10010f5b7e (Caused by NewConnectionError('<urllib3.connection.HTTPConnection object at 0x7f50ac498410>: Failed to establish a new connection: [Errno 111] Connection refused',))"
     ]
    }
   ],
   "source": [
    "hdr = {'User-Agent':'Mozilla/5.0 (Macintosh; Intel Mac OS X 10_12_5) AppleWebKit/537.36 (KHTML, like Gecko) Chrome/\\\n",
    "59.0.3071.115 Safari/537.36', \n",
    "       'Accept':'*/*',\n",
    "       'User-Agent':'Teld/3.3.0(iPhone;iOS 10.3.3;Scale/2.00)',\n",
    "       'Cookie':'TELDSID=5a27131b-9d4f-453d-be37-aba843162dfe'}\n",
    "REQUEST_URL = 'http://baseapi.teld.cn/api/GetChargeListBySta/StaV3?itemNumPerPage=200&\\\n",
    "pageNum=1&staID=d4035b02-5f27-4ae9-b0b1-dd10010f5b7e'\n",
    "pile_resp = requests.get(REQUEST_URL, headers=hdr)\n",
    "json_requestData = pile_resp.json()\n",
    "chargelist = json_requestData['data']['items']"
   ]
  },
  {
   "cell_type": "code",
   "execution_count": 4,
   "metadata": {},
   "outputs": [
    {
     "data": {
      "text/plain": [
       "[u'PileName',\n",
       " u'hasCertificate',\n",
       " u'carTypeName',\n",
       " u'userNickName',\n",
       " u'chargeTime']"
      ]
     },
     "execution_count": 4,
     "metadata": {},
     "output_type": "execute_result"
    }
   ],
   "source": [
    "chargelist[1].keys()"
   ]
  },
  {
   "cell_type": "code",
   "execution_count": 22,
   "metadata": {},
   "outputs": [
    {
     "name": "stdout",
     "output_type": "stream",
     "text": [
      "10小时前\n"
     ]
    }
   ],
   "source": [
    "print(chargelist[1]['chargeTime'])\n",
    "chargetime = datetime.datetime.now() - datetime.timedelta(hours=10)"
   ]
  },
  {
   "cell_type": "code",
   "execution_count": 23,
   "metadata": {},
   "outputs": [
    {
     "data": {
      "text/plain": [
       "datetime.datetime(2017, 9, 12, 1, 31, 47, 429221)"
      ]
     },
     "execution_count": 23,
     "metadata": {},
     "output_type": "execute_result"
    }
   ],
   "source": [
    "chargetime"
   ]
  },
  {
   "cell_type": "code",
   "execution_count": 5,
   "metadata": {
    "collapsed": true
   },
   "outputs": [],
   "source": [
    "# #----- Get All Station -----#\n",
    "# hdr = {'User-Agent':'Mozilla/5.0 Chrome/\\\n",
    "# 59.0.3071.115 Safari/537.36', \n",
    "#         'Accept':'text/html,application/xhtml+xml,application/xml;q=0.9,image/webp,image/apng,*/*;q=0.8'}\n",
    "# REQUEST_URL = 'http://baseapi.teld.cn/api/GetAllStations/StaV3?coordinateType=gaode'\n",
    "# stations_resp = requests.get(REQUEST_URL, headers=hdr)\n",
    "# json_requestData = stations_resp.json()\n",
    "# stations_list = json_requestData['data']['stations']"
   ]
  },
  {
   "cell_type": "code",
   "execution_count": 6,
   "metadata": {
    "collapsed": true
   },
   "outputs": [],
   "source": [
    "# stations_list"
   ]
  },
  {
   "cell_type": "code",
   "execution_count": 20,
   "metadata": {
    "collapsed": true
   },
   "outputs": [],
   "source": [
    "# for i in chargelist:\n",
    "#     print i['PileName'],'----', i['userNickName'],'----',i['chargeTime'], '-----', i['carTypeName']\n",
    "    \n",
    "# print(str(chargelist[2]['userNickName']) )\n",
    "# print(str(chargelist[3]['userNickName'].encode('utf-8')) )\n",
    "\n",
    "# str(chargelist[2]['userNickName']) == str(chargelist[3]['userNickName'])"
   ]
  },
  {
   "cell_type": "code",
   "execution_count": 21,
   "metadata": {
    "collapsed": true
   },
   "outputs": [],
   "source": [
    "# print(chargelist[7]['chargeTime'])\n",
    "# print(chargelist[2]['chargeTime'])"
   ]
  },
  {
   "cell_type": "code",
   "execution_count": null,
   "metadata": {
    "collapsed": true
   },
   "outputs": [],
   "source": []
  }
 ],
 "metadata": {
  "kernelspec": {
   "display_name": "Python 2",
   "language": "python",
   "name": "python2"
  },
  "language_info": {
   "codemirror_mode": {
    "name": "ipython",
    "version": 2
   },
   "file_extension": ".py",
   "mimetype": "text/x-python",
   "name": "python",
   "nbconvert_exporter": "python",
   "pygments_lexer": "ipython2",
   "version": "2.7.12"
  }
 },
 "nbformat": 4,
 "nbformat_minor": 1
}
