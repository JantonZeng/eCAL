{
 "cells": [
  {
   "cell_type": "code",
   "execution_count": 1,
   "metadata": {
    "collapsed": true
   },
   "outputs": [],
   "source": [
    "import requests\n",
    "import random"
   ]
  },
  {
   "cell_type": "code",
   "execution_count": 2,
   "metadata": {
    "collapsed": true
   },
   "outputs": [],
   "source": [
    "def get_station(header, start_page=1, end_page=2, row_nmb=10):\n",
    "    \"\"\"\n",
    "    return a list of dictionaries that contains charging station info\n",
    "    \"\"\"\n",
    "    curr_page = start_page #specify starting page to scrape, usually it is page 1.\n",
    "    page_end = end_page  #specify the page wanted to end scraping. Don't worry if number is too large, \n",
    "                                                                                        #we ends when page is empty.\n",
    "    row_nmb = row_nmb  #specify how many rows per request returns.\n",
    "    station_info = []  #summarizing all the station location data.\n",
    "    \n",
    "    #Starting iteration going over website to scrape station locations\n",
    "    while curr_page <= page_end:\n",
    "        REQUEST_URL = 'https://www.teld.cn/StationNetwork/GetStationNetword?ProvinceName=&CityName=&KeyWords=&\\\n",
    "RegionName=&type=&page={}'.format(curr_page) + '&rows={}'.format(row_nmb)\n",
    "        resp = requests.get(REQUEST_URL, headers=header)\n",
    "        curr_page += 1\n",
    "        json_requestData = resp.json()\n",
    "        station_info = station_info + json_requestData['rows']\n",
    "    return station_info"
   ]
  },
  {
   "cell_type": "code",
   "execution_count": 3,
   "metadata": {},
   "outputs": [],
   "source": [
    "def get_piles(station_code, proxies_pool, header, time_out=1000):\n",
    "    \"\"\"\n",
    "    return json object containing piles information\n",
    "    \"pile code\" format - string, station_info[0]['code']\n",
    "    \"\"\"\n",
    "    STATION_URL = 'https://www.teld.cn/StationNetwork/GetChargingStationByCodeList?StationNo='+ station_code\n",
    "    proxy_idx = random.randint(0,len(proxies_pool)-1)\n",
    "#     print(proxy_idx)\n",
    "#     try:\n",
    "    resp = requests.get(STATION_URL, proxies=proxies_pool[proxy_idx], headers=header, timeout=time_out)\n",
    "#     except Exception, e:\n",
    "      \n",
    "    pile_info = resp.json()\n",
    "    return pile_info"
   ]
  },
  {
   "cell_type": "code",
   "execution_count": 12,
   "metadata": {
    "collapsed": true
   },
   "outputs": [],
   "source": [
    "def dd():\n",
    "    return \"haha!\""
   ]
  },
  {
   "cell_type": "code",
   "execution_count": 4,
   "metadata": {
    "collapsed": true
   },
   "outputs": [],
   "source": [
    "#-----GET ALL THE STATONS IN ONE LIST-----#\n",
    "def get_allStations(hdr):\n",
    "    \"\"\"\n",
    "    Input:\n",
    "        hdr - dictionary, detailed spec for headers\n",
    "    Output:\n",
    "        stations_list - list, containing all stations info from website, each in format of dict\n",
    "    Each station has seven attribute: isInterconnection, name, address, \n",
    "                                isFast, stationType, lat, lng, id\n",
    "    \"\"\"\n",
    "    REQUEST_URL = 'http://baseapi.teld.cn/api/GetAllStations/StaV3?coordinateType=gaode'\n",
    "    stations_resp = requests.get(REQUEST_URL, headers=hdr)\n",
    "    json_requestData = stations_resp.json()\n",
    "    stations_list = json_requestData['data']['stations']\n",
    "    return stations_list"
   ]
  },
  {
   "cell_type": "code",
   "execution_count": 5,
   "metadata": {
    "collapsed": true
   },
   "outputs": [],
   "source": [
    "# hdr = {'User-Agent':'Mozilla/5.0 (Macintosh; Intel Mac OS X 10_12_5) AppleWebKit/537.36 (KHTML, like Gecko) Chrome/\\\n",
    "# 59.0.3071.115 Safari/537.36', \n",
    "#        'Accept':'text/html,application/xhtml+xml,application/xml;q=0.9,image/webp,image/apng,*/*;q=0.8'}\n",
    "# REQUEST_URL = 'http://baseapi.teld.cn/api/GetAllStations/StaV3?coordinateType=gaode'\n",
    "# # files = {'file': open('teld_app_test.txt', 'rb')}\n",
    "# stations_resp = requests.get(REQUEST_URL, headers=hdr)\n",
    "# json_requestData = stations_resp.json()"
   ]
  },
  {
   "cell_type": "code",
   "execution_count": 6,
   "metadata": {},
   "outputs": [],
   "source": [
    "# for i in json_requestData['data']['stations'][1].keys():\n",
    "#     print i, '     ', json_requestData['data']['stations'][1][i]"
   ]
  },
  {
   "cell_type": "code",
   "execution_count": 7,
   "metadata": {},
   "outputs": [],
   "source": [
    "# str(json_requestData['data']['stations'][1]['stationType'].encode('utf-8'))"
   ]
  },
  {
   "cell_type": "code",
   "execution_count": 8,
   "metadata": {
    "collapsed": true
   },
   "outputs": [],
   "source": [
    "# json_requestData['data']['stations'][7000]"
   ]
  },
  {
   "cell_type": "code",
   "execution_count": 9,
   "metadata": {
    "collapsed": true
   },
   "outputs": [],
   "source": [
    "#-----GET ONE STATION DETAILS-----#\n",
    "def get_oneStation_APP(hdr, stationId):\n",
    "    \"\"\"\n",
    "    Input: \n",
    "        hdr - dictionary, detailed spec for headers\n",
    "        stationId - string, each station's own station code\n",
    "    Output:\n",
    "        station_detailedInfo - dictionary, containing detailed station information, 37 keys\n",
    "    \"\"\"\n",
    "    REQUEST_URL = 'http://baseapi.teld.cn/api/GetStationDetails/StaV3?coordinateType=gaode\\\n",
    "    &lat=0.000000&lng=0.000000&stationId='+ stationId\n",
    "    terminal_resp = requests.get(REQUEST_URL, headers=hdr)\n",
    "    json_requestData = terminal_resp.json()\n",
    "    station_detailedInfo = json_requestData['data']\n",
    "    return station_detailedInfo"
   ]
  },
  {
   "cell_type": "code",
   "execution_count": 10,
   "metadata": {
    "collapsed": true
   },
   "outputs": [],
   "source": [
    "# hdr = {'User-Agent':'Mozilla/5.0 (Macintosh; Intel Mac OS X 10_12_5) AppleWebKit/537.36 (KHTML, like Gecko) Chrome/\\\n",
    "# 59.0.3071.115 Safari/537.36', \n",
    "#        'Accept':'text/html,application/xhtml+xml,application/xml;q=0.9,image/webp,image/apng,*/*;q=0.8'}\n",
    "# REQUEST_URL = 'http://baseapi.teld.cn/api/GetStationDetails/StaV3?\\\n",
    "# coordinateType=gaode&lat=0.000000&lng=0.000000&\\\n",
    "# stationId=c09327a9-fe5b-4b4e-9bff-0e50097000e9'\n",
    "# terminal_resp = requests.get(REQUEST_URL, headers=hdr)\n",
    "# json_requestData = terminal_resp.json()\n",
    "# station_detailedInfo = json_requestData['data']"
   ]
  },
  {
   "cell_type": "code",
   "execution_count": 11,
   "metadata": {},
   "outputs": [],
   "source": [
    "# for i in station_detailedInfo.keys():\n",
    "#     print i, ' = str(station_detailedInfo[\\'%s\\'])' % (i)\n",
    "# for i in station_detailedInfo.keys():\n",
    "#     print i+',',\n",
    "# for i in station_detailedInfo.keys():\n",
    "#     print i,'  -----  ', station_detailedInfo[i]\n",
    "# print str(station_detailedInfo['payType'].encode('utf-8'))\n",
    "# if station_detailedInfo['specialDesc'] is None :\n",
    "#     print 1\n",
    "# else:\n",
    "#     print 2\n",
    "# collected  = str(station_detailedInfo['specialDesc'].encode('utf-8'))\n",
    "# print(collected)"
   ]
  },
  {
   "cell_type": "code",
   "execution_count": 12,
   "metadata": {},
   "outputs": [],
   "source": [
    "# print(json_requestData['data']['stationId'])"
   ]
  },
  {
   "cell_type": "code",
   "execution_count": 13,
   "metadata": {
    "collapsed": true
   },
   "outputs": [],
   "source": [
    "#------GET PILES ID FROM TERMINAL-----#\n",
    "# hdr = {'User-Agent':'Mozilla/5.0 (Macintosh; Intel Mac OS X 10_12_5) AppleWebKit/537.36 (KHTML, like Gecko) Chrome/\\\n",
    "# 59.0.3071.115 Safari/537.36', \n",
    "#        'Accept':'text/html,application/xhtml+xml,application/xml;q=0.9,image/webp,image/apng,*/*;q=0.8'}\n",
    "# #        'Host':'baseapi.teld.cn',\n",
    "# #        'Content-Type':'application/x-www-form-urlencoded',\n",
    "# #        'Accept':'*/*',\n",
    "# #        'Connection':'keep-alive',\n",
    "# #        'Device':'app_version=3.3.0&os_version=10.3.3&client=iso&device_name=iphone 6s',\n",
    "# #        'User-Agent':'Teld/3.3.0 (iPhone; ios 10.3.3; Scale/2.00)',\n",
    "# #        'Accept-Language':'en-US;q=1, zh-Hans-US;q=0.9, ko-KR;q=0.8, zh-Hant-US;q=0.7',\n",
    "# #        'Content-Length':'64',\n",
    "# #        'Accept-Encoding':'gzip,deflate'}\n",
    "# REQUEST_URL = 'http://baseapi.teld.cn/api/GetTerminalOfStation/StaV3?keyword=&orderBy=&stationId=045725c3-1b23-4108-837d-77dfb6b53e7d'\n",
    "# pile_resp = requests.post(REQUEST_URL, headers=hdr)\n",
    "# json_requestData = pile_resp.json()"
   ]
  },
  {
   "cell_type": "code",
   "execution_count": 54,
   "metadata": {},
   "outputs": [],
   "source": [
    "#-----GET ONE CHARGING PILE DETAILS FROM TERMINAL-----#\n",
    "def get_onePile_APP(error_log, hdr, pileCode, proxies_pool, time_out=10000):\n",
    "    \"\"\"\n",
    "    Input:\n",
    "        hdr - dictionary, detailed spec for headers\n",
    "        pileCode - string, each charging pile has its own pile code\n",
    "    Output:\n",
    "        pile_detailedInfo - dictionary, containing detailed station information, 49 keys\n",
    "    \"\"\"\n",
    "    REQUEST_URL = 'http://baseapi.teld.cn/api/GetPillDetails/StaV2?pillCode='+pileCode\n",
    "    proxy_idx = random.randint(0,len(proxies_pool)-1)\n",
    "    try:\n",
    "        pile_resp = requests.get(REQUEST_URL, proxies=proxies_pool[proxy_idx], headers=hdr, timeout=time_out)\n",
    "        json_requestData = pile_resp.json()\n",
    "        if json_requestData['data'] is not None:\n",
    "            pile_detailedInfo = json_requestData['data']['terminal']\n",
    "        else:\n",
    "            pile_detailedInfo = None\n",
    "    except requests.exceptions.ConnectionError as e:\n",
    "        if error_log is not None:\n",
    "            error_log.write(\"{}--{}\".format(pileCode, e))\n",
    "            print('failed')\n",
    "        proxies_pool.pop(proxy_idx)\n",
    "        pile_detailedInfo = None\n",
    "    return pile_detailedInfo, proxies_pool"
   ]
  },
  {
   "cell_type": "code",
   "execution_count": 22,
   "metadata": {},
   "outputs": [],
   "source": [
    "hdr = {'User-Agent':'Mozilla/5.0 (Macintosh; Intel Mac OS X 10_12_5) AppleWebKit/537.36 (KHTML, like Gecko) Chrome/\\\n",
    "59.0.3071.115 Safari/537.36', \n",
    "       'Accept':'text/html,application/xhtml+xml,application/xml;q=0.9,image/webp,image/apng,*/*;q=0.8'}\n",
    "REQUEST_URL = 'http://baseapi.teld.cn/api/GetPillDetails/StaV2?\\\n",
    "pillCode=4403070007101'\n",
    "pile_resp = requests.get(REQUEST_URL, headers=hdr)\n",
    "json_requestData = pile_resp.json()"
   ]
  },
  {
   "cell_type": "code",
   "execution_count": 40,
   "metadata": {},
   "outputs": [
    {
     "name": "stdout",
     "output_type": "stream",
     "text": [
      "空闲\n",
      "空闲\n",
      "02\n",
      "01\n"
     ]
    },
    {
     "data": {
      "text/plain": [
       "{u'data': {u'companyAccount': [],\n",
       "  u'myAccount': {},\n",
       "  u'terminal': {u'ChargingPort': u'\\u56fd\\u68072011 ',\n",
       "   u'Description': u'00:00~24:00:0.700000:00~24:00:1.0500',\n",
       "   u'OpState': u'3',\n",
       "   u'OpstateName': u'\\u8fd0\\u8425\\u4e2d',\n",
       "   u'allowCharge': True,\n",
       "   u'allowEconomyCharge': False,\n",
       "   u'allowLimitCharge': False,\n",
       "   u'allowOrderCharge': True,\n",
       "   u'canChargeMoney': u'0',\n",
       "   u'carPark': u'\\u65e0',\n",
       "   u'chargeApplyTime': u'95',\n",
       "   u'chargeUserId': u'',\n",
       "   u'chargeUserName': u'',\n",
       "   u'dataCenterLocation': u'BJ',\n",
       "   u'directCharge': u'N',\n",
       "   u'hasCollected': u'N',\n",
       "   u'interconnectionId': u'',\n",
       "   u'isFast': u'Y',\n",
       "   u'isHintRecharge': False,\n",
       "   u'isInterconnection': u'N',\n",
       "   u'isMoneyNotEnough': False,\n",
       "   u'isMyPersonalTerminal': False,\n",
       "   u'isPersonalTerminal': False,\n",
       "   u'isTeldPersonalTerminal': True,\n",
       "   u'linkPhone': u'4001300001',\n",
       "   u'notOpenOutside': u'N',\n",
       "   u'orderTime': u'',\n",
       "   u'parkFee': u'\\u514d\\u8d39\\uff08\\u4ee5\\u573a\\u7ad9\\u65b9\\u516c\\u544a\\u4e3a\\u51c6\\uff09',\n",
       "   u'payType': u'\\u672cAPP\\uff0c\\u7279\\u6765\\u7535\\u5fae\\u4fe1\\u516c\\u4f17\\u53f7',\n",
       "   u'pillCode': u'4403070007101',\n",
       "   u'pillID': u'f7e89e19-4b62-4537-96fd-6c06488fd2dc',\n",
       "   u'pillName': u'101\\u53f7\\u76f4\\u6d41',\n",
       "   u'pillNameV3': u'101\\u53f7',\n",
       "   u'power': u'15kW-60kW',\n",
       "   u'powerAuxiliary': u'12V',\n",
       "   u'priceDesc': u'\\u7535\\u8d39:00:00~24:00:1.0500;\\u670d\\u52a1\\u8d39:00:00~24:00:0.7000',\n",
       "   u'priceSize': 1,\n",
       "   u'prices': [{u'electricPrice': u'1.0500',\n",
       "     u'servicePrice': u'0.7000',\n",
       "     u'startTime': u'00:00',\n",
       "     u'timeRange': u'00:00-24:00'}],\n",
       "   u'specialDesc': u'',\n",
       "   u'specialDescV3': u'',\n",
       "   u'staID': u'45b19eef-e36d-483c-96f4-ba86487d0f9b',\n",
       "   u'staName': u'\\u6df1\\u5733\\u5e02\\u5927\\u9e4f\\u6d77\\u820d\\u5047\\u65e5\\u5145\\u7535\\u7ad9',\n",
       "   u'stateCode': u'02',\n",
       "   u'stateCodeV3': u'01',\n",
       "   u'stateName': u'\\u7a7a\\u95f2',\n",
       "   u'stateNameV3': u'\\u7a7a\\u95f2',\n",
       "   u'tag': u'\\u56fd\\u68072011 60kW',\n",
       "   u'terminalType': u'\\u76f4\\u6d41\\u5feb\\u5145',\n",
       "   u'voltage': u'200V-500V'},\n",
       "  u'thirdApp': [],\n",
       "  u'thirdBalanceAccount': []},\n",
       " u'errcode': None,\n",
       " u'errmsg': None,\n",
       " u'state': u'1'}"
      ]
     },
     "execution_count": 40,
     "metadata": {},
     "output_type": "execute_result"
    }
   ],
   "source": [
    "print(json_requestData['data']['terminal']['stateNameV3'])\n",
    "print(json_requestData['data']['terminal']['stateName'])\n",
    "print(json_requestData['data']['terminal']['stateCode'])\n",
    "print(json_requestData['data']['terminal']['stateCodeV3'])\n",
    "json_requestData"
   ]
  },
  {
   "cell_type": "code",
   "execution_count": 16,
   "metadata": {
    "collapsed": true
   },
   "outputs": [],
   "source": [
    "# for i in json_requestData['data']['terminal'].keys():\n",
    "#      print i+',',#, '  -----  ', json_requestData['data']['terminal'][i]"
   ]
  },
  {
   "cell_type": "code",
   "execution_count": 17,
   "metadata": {
    "collapsed": true
   },
   "outputs": [],
   "source": [
    "##----- Generate if-else-encode -----##\n",
    "# fix_list = ['tag','parkFee','ChargingPort','payType','terminalType']\n",
    "# for i in fix_list:\n",
    "#     print(\"\"\"if pile_detailedInfo[\\'{name}\\'] is not None:\n",
    "#     {name} = str(pile_detailedInfo[\\'{name}\\'].encode('utf-8'))\n",
    "# else:\n",
    "#     {name} = \\'\\'\"\"\".format(name=i))"
   ]
  },
  {
   "cell_type": "code",
   "execution_count": 18,
   "metadata": {
    "collapsed": true
   },
   "outputs": [],
   "source": [
    "# hdr = {'User-Agent':'Mozilla/5.0 (Macintosh; Intel Mac OS X 10_12_5) AppleWebKit/537.36 (KHTML, like Gecko) Chrome/\\\n",
    "# 59.0.3071.115 Safari/537.36', \n",
    "#        'Accept':'*/*',\n",
    "#        'User-Agent':'Teld/3.3.0(iPhone;iOS 10.3.3;Scale/2.00)',\n",
    "#        'Cookie':'TELDSID=5a27131b-9d4f-453d-be37-aba843162dfe'}\n",
    "# REQUEST_URL = 'http://baseapi.teld.cn/api/GetChargeListBySta/StaV3?itemNumPerPage=200&\\\n",
    "# pageNum=1&staID=d4035b02-5f27-4ae9-b0b1-dd10010f5b7e'\n",
    "# pile_resp = requests.get(REQUEST_URL, headers=hdr)\n",
    "# json_requestData = pile_resp.json()\n",
    "# chargelist = json_requestData['data']['items']"
   ]
  },
  {
   "cell_type": "code",
   "execution_count": 19,
   "metadata": {
    "collapsed": true
   },
   "outputs": [],
   "source": [
    "# chargelist[1].keys()"
   ]
  },
  {
   "cell_type": "code",
   "execution_count": null,
   "metadata": {
    "collapsed": true
   },
   "outputs": [],
   "source": []
  },
  {
   "cell_type": "code",
   "execution_count": 20,
   "metadata": {
    "collapsed": true
   },
   "outputs": [],
   "source": [
    "# for i in chargelist:\n",
    "#     print i['PileName'],'----', i['userNickName'],'----',i['chargeTime'], '-----', i['carTypeName']\n",
    "    \n",
    "# print(str(chargelist[2]['userNickName']) )\n",
    "# print(str(chargelist[3]['userNickName'].encode('utf-8')) )\n",
    "\n",
    "# str(chargelist[2]['userNickName']) == str(chargelist[3]['userNickName'])"
   ]
  },
  {
   "cell_type": "code",
   "execution_count": 21,
   "metadata": {
    "collapsed": true
   },
   "outputs": [],
   "source": [
    "# print(chargelist[7]['chargeTime'])\n",
    "# print(chargelist[2]['chargeTime'])"
   ]
  },
  {
   "cell_type": "code",
   "execution_count": null,
   "metadata": {
    "collapsed": true
   },
   "outputs": [],
   "source": []
  }
 ],
 "metadata": {
  "kernelspec": {
   "display_name": "Python 2",
   "language": "python",
   "name": "python2"
  },
  "language_info": {
   "codemirror_mode": {
    "name": "ipython",
    "version": 2
   },
   "file_extension": ".py",
   "mimetype": "text/x-python",
   "name": "python",
   "nbconvert_exporter": "python",
   "pygments_lexer": "ipython2",
   "version": "2.7.12"
  }
 },
 "nbformat": 4,
 "nbformat_minor": 1
}
