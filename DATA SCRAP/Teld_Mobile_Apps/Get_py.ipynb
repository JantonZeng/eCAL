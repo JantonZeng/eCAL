{
 "cells": [
  {
   "cell_type": "code",
   "execution_count": 2,
   "metadata": {
    "collapsed": true
   },
   "outputs": [],
   "source": [
    "import requests\n",
    "import random\n",
    "import datetime"
   ]
  },
  {
   "cell_type": "code",
   "execution_count": 3,
   "metadata": {
    "collapsed": true
   },
   "outputs": [],
   "source": [
    "def get_station(header, start_page=1, end_page=2, row_nmb=10):\n",
    "    \"\"\"\n",
    "    return a list of dictionaries that contains charging station info\n",
    "    \"\"\"\n",
    "    curr_page = start_page #specify starting page to scrape, usually it is page 1.\n",
    "    page_end = end_page  #specify the page wanted to end scraping. Don't worry if number is too large, \n",
    "                                                                                        #we ends when page is empty.\n",
    "    row_nmb = row_nmb  #specify how many rows per request returns.\n",
    "    station_info = []  #summarizing all the station location data.\n",
    "    \n",
    "    #Starting iteration going over website to scrape station locations\n",
    "    while curr_page <= page_end:\n",
    "        REQUEST_URL = 'https://www.teld.cn/StationNetwork/GetStationNetword?ProvinceName=&CityName=&KeyWords=&\\\n",
    "RegionName=&type=&page={}'.format(curr_page) + '&rows={}'.format(row_nmb)\n",
    "        resp = requests.get(REQUEST_URL, headers=header)\n",
    "        curr_page += 1\n",
    "        json_requestData = resp.json()\n",
    "        station_info = station_info + json_requestData['rows']\n",
    "    return station_info"
   ]
  },
  {
   "cell_type": "code",
   "execution_count": 4,
   "metadata": {
    "collapsed": true
   },
   "outputs": [],
   "source": [
    "def get_piles(station_code, proxies_pool, header, time_out=1000):\n",
    "    \"\"\"\n",
    "    return json object containing piles information\n",
    "    \"pile code\" format - string, station_info[0]['code']\n",
    "    \"\"\"\n",
    "    STATION_URL = 'https://www.teld.cn/StationNetwork/GetChargingStationByCodeList?StationNo='+ station_code\n",
    "    proxy_idx = random.randint(0,len(proxies_pool)-1)\n",
    "#     print(proxy_idx)\n",
    "#     try:\n",
    "    resp = requests.get(STATION_URL, proxies=proxies_pool[proxy_idx], headers=header, timeout=time_out)\n",
    "#     except Exception, e:\n",
    "      \n",
    "    pile_info = resp.json()\n",
    "    return pile_info"
   ]
  },
  {
   "cell_type": "code",
   "execution_count": 5,
   "metadata": {
    "collapsed": true
   },
   "outputs": [],
   "source": [
    "#-----GET ALL THE STATONS IN ONE LIST-----#\n",
    "def get_allStations(hdr):\n",
    "    \"\"\"\n",
    "    Input:\n",
    "        hdr - dictionary, detailed spec for headers\n",
    "    Output:\n",
    "        stations_list - list, containing all stations info from website, each in format of dict\n",
    "    Each station has seven attribute: isInterconnection, name, address, \n",
    "                                isFast, stationType, lat, lng, id\n",
    "    \"\"\"\n",
    "    REQUEST_URL = 'http://baseapi.teld.cn/api/GetAllStations/StaV3?coordinateType=gaode'\n",
    "    stations_resp = requests.get(REQUEST_URL, headers=hdr)\n",
    "    json_requestData = stations_resp.json()\n",
    "    stations_list = json_requestData['data']['stations']\n",
    "    return stations_list"
   ]
  },
  {
   "cell_type": "code",
   "execution_count": 5,
   "metadata": {
    "collapsed": true
   },
   "outputs": [],
   "source": [
    "# hdr = {'User-Agent':'Mozilla/5.0 (Macintosh; Intel Mac OS X 10_12_5) AppleWebKit/537.36 (KHTML, like Gecko) Chrome/\\\n",
    "# 59.0.3071.115 Safari/537.36', \n",
    "#        'Accept':'text/html,application/xhtml+xml,application/xml;q=0.9,image/webp,image/apng,*/*;q=0.8'}\n",
    "# REQUEST_URL = 'http://baseapi.teld.cn/api/GetAllStations/StaV3?coordinateType=gaode'\n",
    "# # files = {'file': open('teld_app_test.txt', 'rb')}\n",
    "# stations_resp = requests.get(REQUEST_URL, headers=hdr)\n",
    "# json_requestData = stations_resp.json()"
   ]
  },
  {
   "cell_type": "code",
   "execution_count": 6,
   "metadata": {
    "collapsed": true
   },
   "outputs": [],
   "source": [
    "# for i in json_requestData['data']['stations'][1].keys():\n",
    "#     print i, '     ', json_requestData['data']['stations'][1][i]"
   ]
  },
  {
   "cell_type": "code",
   "execution_count": 7,
   "metadata": {
    "collapsed": true
   },
   "outputs": [],
   "source": [
    "# str(json_requestData['data']['stations'][1]['stationType'].encode('utf-8'))"
   ]
  },
  {
   "cell_type": "code",
   "execution_count": 8,
   "metadata": {
    "collapsed": true
   },
   "outputs": [],
   "source": [
    "# json_requestData['data']['stations'][7000]"
   ]
  },
  {
   "cell_type": "code",
   "execution_count": 6,
   "metadata": {
    "collapsed": true
   },
   "outputs": [],
   "source": [
    "#-----GET ONE STATION DETAILS-----#\n",
    "def get_oneStation_APP(hdr, stationId, error_log=None, proxies_pool=None,time_out=10000):\n",
    "    \"\"\"\n",
    "    Input: \n",
    "        hdr - dictionary, detailed spec for headers\n",
    "        stationId - string, each station's own station code\n",
    "        error_log - file, to where store the error messages\n",
    "        proxies_pool - list, contains all the proxies address\n",
    "    Output:\n",
    "        station_detailedInfo - dictionary, containing detailed station information, 37 keys\n",
    "    \"\"\"\n",
    "    url = \"https://basesg.teld.cn/api/invoke\"\n",
    "    \n",
    "    querystring = {\"SID\":\"BaseApi-App0304_GetStationDetails\"}\n",
    "    \n",
    "    payload = 'param=%7B%0A%20%20%22lng%22%20%3A%20%220.000000%22%2C%0A%20%20%22stationId%22%20%3A%20%22{}\\\n",
    "%22%2C%0A%20%20%22%lat%22%20%3A%20%220.000000%22%2C%0A%20%20%22%coordinateType%22%20%3A%20%22%gaode%22%0A%\\\n",
    "7D'.format(stationId)\n",
    "    \n",
    "    try:\n",
    "        if proxies_pool is not None:\n",
    "            proxy_idx = random.randint(0,len(proxies_pool)-1)\n",
    "            terminal_resp = requests.request(\"POST\", url, proxies=proxies_pool[proxy_idx], data=payload, \n",
    "                                             headers=hdr, params=querystring, timeout=time_out)\n",
    "        else: \n",
    "            terminal_resp = requests.request(\"POST\", url, data=payload, headers=hdr, params=querystring, \n",
    "                                             timeout=time_out)\n",
    "        \n",
    "        json_requestData = terminal_resp.json()\n",
    "        if json_requestData['data'] is not None:\n",
    "            station_detailedInfo = json_requestData['data']\n",
    "        else:\n",
    "            station_detailedInfo = None\n",
    "    except requests.exceptions.ConnectionError as e:\n",
    "        if error_log is not None:\n",
    "            error_log.write(\"{}--{}\".format(pileCode, e))\n",
    "        if proxies_pool is not None:\n",
    "#             print(proxies_pool[proxy_idx])\n",
    "            proxies_pool.pop(proxy_idx)\n",
    "        print('failed')\n",
    "        station_detailedInfo = None\n",
    "    return station_detailedInfo, proxies_pool"
   ]
  },
  {
   "cell_type": "code",
   "execution_count": 25,
   "metadata": {
    "collapsed": true
   },
   "outputs": [],
   "source": [
    "##----- Test on get_oneStation_APP -----##\n",
    "# stationId = \"c09327a9-fe5b-4b4e-9bff-0e50097000e9\"\n",
    "# hdr = {\n",
    "#     'accept': \"*/*\",\n",
    "#     'user-agent': \"Teld/3.4.0 (iPhone; iOS 10.3.3; Scale/2.00)\",\n",
    "#     'cookie': \"TELDAppID=\",\n",
    "#     'content-length': \"111\",\n",
    "#     'connection': \"keep-alive\",\n",
    "#     'accept-encoding': \"gzip, deflate\",\n",
    "#     'device': \"app_version=3.4.0&os_version=10.3.3&client=ios&device_name=iPhone 6s (A1633/A1688/A1691/A1700)&device_id=38CD294C-CC36-4998-9074-C7F798EE6087&city_code=4403&city_name=%E6%B7%B1%E5%9C%B3&lat=0.000000&lng=0.000000&network=wifi&location_city_name=\",\n",
    "#     'host': \"basesg.teld.cn\",\n",
    "#     'content-type': \"application/x-www-form-urlencoded\",\n",
    "#     'cache-control': \"no-cache\",\n",
    "#     'postman-token': \"4dd0a429-35ad-1863-c8f5-18e0f7805f60\"\n",
    "#     }\n",
    "# station_detailedInfo, proxies_pool = get_oneStation_APP(hdr, stationId)"
   ]
  },
  {
   "cell_type": "code",
   "execution_count": null,
   "metadata": {
    "collapsed": true
   },
   "outputs": [],
   "source": []
  },
  {
   "cell_type": "code",
   "execution_count": null,
   "metadata": {
    "collapsed": true
   },
   "outputs": [],
   "source": []
  },
  {
   "cell_type": "code",
   "execution_count": 11,
   "metadata": {
    "collapsed": true
   },
   "outputs": [],
   "source": [
    "# for i in station_detailedInfo.keys():\n",
    "#     print i, ' = str(station_detailedInfo[\\'%s\\'])' % (i)\n",
    "# for i in station_detailedInfo.keys():\n",
    "#     print i+',',\n",
    "# for i in station_detailedInfo.keys():\n",
    "#     print i,'  -----  ', station_detailedInfo[i]\n",
    "# print str(station_detailedInfo['payType'].encode('utf-8'))\n",
    "# if station_detailedInfo['specialDesc'] is None :\n",
    "#     print 1\n",
    "# else:\n",
    "#     print 2\n",
    "# collected  = str(station_detailedInfo['specialDesc'].encode('utf-8'))\n",
    "# print(collected)"
   ]
  },
  {
   "cell_type": "code",
   "execution_count": 12,
   "metadata": {
    "collapsed": true
   },
   "outputs": [],
   "source": [
    "# print(json_requestData['data']['stationId'])"
   ]
  },
  {
   "cell_type": "code",
   "execution_count": 7,
   "metadata": {
    "collapsed": true
   },
   "outputs": [],
   "source": [
    "#-----GET ONE CHARGING PILE DETAILS FROM TERMINAL-----#\n",
    "def get_onePill_APP(hdr, pillCode, error_log=None, proxies_pool=None, time_out=10000):\n",
    "    \"\"\"\n",
    "    Input:\n",
    "        hdr - dictionary, detailed spec for headers\n",
    "        pillCode - string, each charging pile has its own pile code\n",
    "        error_log - specify file to write errors\n",
    "        proxies_pool - contains all the proxies address\n",
    "    Output:\n",
    "        pill_detailedInfo - dictionary, containing detailed station information, 49 keys\n",
    "    \"\"\"\n",
    "    url = \"https://basesg.teld.cn/api/invoke\"\n",
    "    \n",
    "    querystring = {\"SID\":\"BaseApi-App0304_GetTerminalDetails\"}\n",
    "    \n",
    "    payload = 'param=%7B%0A%20%20%22pillCode%22%20%3A%20%22{}%22%2C%0A%20%20%22plateform%22%20%3A%20%22app%22%0A%7D'.format(pillCode)\n",
    "    try:\n",
    "        if proxies_pool is not None:\n",
    "            proxy_idx = random.randint(0,len(proxies_pool)-1)\n",
    "            pill_resp = requests.request(\"POST\",url, proxies=proxies_pool[proxy_idx], headers=hdr, \n",
    "                                         params=querystring, timeout=time_out)\n",
    "        else:\n",
    "             pill_resp = requests.request(\"POST\", url, data=payload, headers=hdr, params=querystring, \n",
    "                                          timeout=time_out)\n",
    "        json_requestData = pill_resp.json()\n",
    "        if json_requestData['data'] is not None:\n",
    "            if 'terminal' in json_requestData['data']:\n",
    "                pill_detailedInfo = json_requestData['data']['terminal']\n",
    "            else:\n",
    "                pill_detailedInfo = None\n",
    "        else:\n",
    "            pill_detailedInfo = None\n",
    "    except requests.exceptions.ConnectionError as e:\n",
    "        if error_log is not None:\n",
    "            error_log.write(\"{}--{}\".format(pileCode, e))\n",
    "        if proxies_pool is not None:\n",
    "#             print(proxies_pool[proxy_idx])\n",
    "            proxies_pool.pop(proxy_idx)\n",
    "        print('failed')\n",
    "        pill_detailedInfo = None\n",
    "    return pill_detailedInfo, proxies_pool"
   ]
  },
  {
   "cell_type": "code",
   "execution_count": 46,
   "metadata": {},
   "outputs": [
    {
     "data": {
      "text/plain": [
       "{u'ChargingPort': u'\\u56fd\\u68072011 ',\n",
       " u'Description': u'0.8000\\u5143/\\u5ea60.3669~0.9767\\u5143/\\u5ea6',\n",
       " u'OpState': u'3',\n",
       " u'OpstateName': u'\\u8fd0\\u8425\\u4e2d',\n",
       " u'allowCharge': True,\n",
       " u'allowEconomyCharge': False,\n",
       " u'allowLimitCharge': False,\n",
       " u'allowOrderCharge': False,\n",
       " u'canChargeMoney': u'10',\n",
       " u'carPark': u'4123',\n",
       " u'chargeApplyTime': u'95',\n",
       " u'chargeUserId': u'',\n",
       " u'chargeUserName': u'',\n",
       " u'dataCenterLocation': u'BJ',\n",
       " u'directCharge': u'N',\n",
       " u'hasCollected': u'N',\n",
       " u'interconnectionId': u'',\n",
       " u'isFast': u'Y',\n",
       " u'isHintRecharge': False,\n",
       " u'isInterconnection': u'Y',\n",
       " u'isMoneyNotEnough': False,\n",
       " u'isMyPersonalTerminal': False,\n",
       " u'isPersonalTerminal': False,\n",
       " u'isTeldPersonalTerminal': True,\n",
       " u'lat': u'39.963000',\n",
       " u'linkPhone': u'4001300001',\n",
       " u'lng': u'116.104805',\n",
       " u'notOpenOutside': u'N',\n",
       " u'orderTime': u'',\n",
       " u'parkFee': u'\\u514d\\u8d39',\n",
       " u'payType': u'e\\u5145\\u7535APP',\n",
       " u'pillCode': u'1140290000003361001',\n",
       " u'pillID': u'ba49dc8f-b148-435d-bc48-f64e1941fc45',\n",
       " u'pillName': u'361\\u53f7\\u76f4\\u6d41',\n",
       " u'pillNameV3': u'361\\u53f7',\n",
       " u'power': u'60kW-60kW',\n",
       " u'powerAuxiliary': u'12V',\n",
       " u'priceDesc': u'\\u7535\\u8d39:0.3669~0.9767\\u5143/\\u5ea6;\\u670d\\u52a1\\u8d39:0.8000\\u5143/\\u5ea6',\n",
       " u'priceSize': 0,\n",
       " u'prices': [],\n",
       " u'specialDesc': u'\\u672c\\u573a\\u7ad9\\u53ea\\u652f\\u6301\\u3010e\\u5145\\u7535APP\\u3011 App\\u542f\\u52a8\\u5145\\u7535',\n",
       " u'specialDescV3': u'',\n",
       " u'staID': u'09fb1ad5-e3b4-439a-a460-8390fbe72027',\n",
       " u'staName': u'\\u5317\\u4eac\\u5e02\\u95e8\\u5934\\u6c9f\\u533a\\u9f99\\u6cc9\\u5bbe\\u9986\\u516c\\u5171\\u5145\\u7535\\u7ad9',\n",
       " u'stateCode': u'02',\n",
       " u'stateCodeV3': u'01',\n",
       " u'stateName': u'\\u7a7a\\u95f2',\n",
       " u'stateNameV3': u'\\u7a7a\\u95f2',\n",
       " u'tag': u'\\u56fd\\u68072011 60kW',\n",
       " u'terminalType': u'\\u76f4\\u6d41\\u5feb\\u5145',\n",
       " u'voltage': u'200V-500V'}"
      ]
     },
     "execution_count": 46,
     "metadata": {},
     "output_type": "execute_result"
    }
   ],
   "source": [
    "##----- Test on get_onePill_APP -----##\n",
    "# pillCode = \"1140290000003361001\"\n",
    "# hdr = {\n",
    "#     'accept': \"*/*\",\n",
    "#     'user-agent': \"Teld/3.4.0 (iPhone; iOS 10.3.3; Scale/2.00)\",\n",
    "#     'cookie': \"TELDAppID=\",\n",
    "#     'content-length': \"111\",\n",
    "#     'connection': \"keep-alive\",\n",
    "#     'accept-encoding': \"gzip, deflate\",\n",
    "#     'device': \"app_version=3.4.0&os_version=10.3.3&client=ios&device_name=iPhone 6s (A1633/A1688/A1691/A1700)&device_id=38CD294C-CC36-4998-9074-C7F798EE6087&city_code=4403&city_name=%E6%B7%B1%E5%9C%B3&lat=0.000000&lng=0.000000&network=wifi&location_city_name=\",\n",
    "#     'host': \"basesg.teld.cn\",\n",
    "#     'content-type': \"application/x-www-form-urlencoded\",\n",
    "#     'cache-control': \"no-cache\",\n",
    "#     'postman-token': \"4dd0a429-35ad-1863-c8f5-18e0f7805f60\"\n",
    "#     }\n",
    "\n",
    "# pill_detailedInfo, proxies_pool = get_onePill_APP(None, hdr, pillCode, None, time_out=10000)\n",
    "# pill_detailedInfo"
   ]
  },
  {
   "cell_type": "code",
   "execution_count": null,
   "metadata": {
    "collapsed": true
   },
   "outputs": [],
   "source": []
  },
  {
   "cell_type": "code",
   "execution_count": null,
   "metadata": {
    "collapsed": true
   },
   "outputs": [],
   "source": []
  },
  {
   "cell_type": "code",
   "execution_count": 14,
   "metadata": {
    "collapsed": true
   },
   "outputs": [],
   "source": [
    "# for i in json_requestData['data']['terminal'].keys():\n",
    "#      print i+',',#, '  -----  ', json_requestData['data']['terminal'][i]"
   ]
  },
  {
   "cell_type": "code",
   "execution_count": 17,
   "metadata": {
    "collapsed": true
   },
   "outputs": [],
   "source": [
    "##----- Generate if-else-encode -----##\n",
    "# fix_list = ['tag','parkFee','ChargingPort','payType','terminalType']\n",
    "# for i in fix_list:\n",
    "#     print(\"\"\"if pile_detailedInfo[\\'{name}\\'] is not None:\n",
    "#     {name} = str(pile_detailedInfo[\\'{name}\\'].encode('utf-8'))\n",
    "# else:\n",
    "#     {name} = \\'\\'\"\"\".format(name=i))"
   ]
  },
  {
   "cell_type": "code",
   "execution_count": 5,
   "metadata": {
    "collapsed": true
   },
   "outputs": [],
   "source": [
    "# #----- Get All Station -----#\n",
    "# hdr = {'User-Agent':'Mozilla/5.0 Chrome/\\\n",
    "# 59.0.3071.115 Safari/537.36', \n",
    "#         'Accept':'text/html,application/xhtml+xml,application/xml;q=0.9,image/webp,image/apng,*/*;q=0.8'}\n",
    "# REQUEST_URL = 'http://baseapi.teld.cn/api/GetAllStations/StaV3?coordinateType=gaode'\n",
    "# stations_resp = requests.get(REQUEST_URL, headers=hdr)\n",
    "# json_requestData = stations_resp.json()\n",
    "# stations_list = json_requestData['data']['stations']"
   ]
  },
  {
   "cell_type": "code",
   "execution_count": 12,
   "metadata": {
    "collapsed": true
   },
   "outputs": [],
   "source": [
    "def get_chargelist_APP(hdr, stationId, item_per_pg=150, pg_numb=1):\n",
    "    for pg in range(1,pg_numb+1):\n",
    "        url = \"https://baseapi.teld.cn/api/GetChargeListBySta/StaV3?\"\n",
    "        \n",
    "        querystring = {\"itemNumPerPage\":\"{}\".format(item_per_pg), \"pageNum\":\"{}\".format(pg),\n",
    "                       \"staID\":\"{}\".format(stationId)}\n",
    "        print(querystring)\n",
    "        chargeList_resp = requests.request(\"GET\", url, params=querystring)\n",
    "        json_requestData = pill_resp.json()\n",
    "    return json_requestData"
   ]
  },
  {
   "cell_type": "code",
   "execution_count": 16,
   "metadata": {},
   "outputs": [
    {
     "name": "stdout",
     "output_type": "stream",
     "text": [
      "{'staID': 'd4035b02-5f27-4ae9-b0b1-dd10010f5b7e', 'itemNumPerPage': '150', 'pageNum': '1'}\n"
     ]
    },
    {
     "ename": "ConnectionError",
     "evalue": "HTTPSConnectionPool(host='baseapi.teld.cn', port=443): Max retries exceeded with url: /api/GetChargeListBySta/StaV3?staID=d4035b02-5f27-4ae9-b0b1-dd10010f5b7e&itemNumPerPage=150&pageNum=1 (Caused by NewConnectionError('<urllib3.connection.VerifiedHTTPSConnection object at 0x7f3a2762f710>: Failed to establish a new connection: [Errno 111] Connection refused',))",
     "output_type": "error",
     "traceback": [
      "\u001b[0;31m---------------------------------------------------------------------------\u001b[0m",
      "\u001b[0;31mConnectionError\u001b[0m                           Traceback (most recent call last)",
      "\u001b[0;32m<ipython-input-16-445d7a65f5df>\u001b[0m in \u001b[0;36m<module>\u001b[0;34m()\u001b[0m\n\u001b[1;32m     12\u001b[0m \u001b[0;34m\u001b[0m\u001b[0m\n\u001b[1;32m     13\u001b[0m \u001b[0;31m# response = requests.request(\"GET\", url, headers=headers, params=querystring)\u001b[0m\u001b[0;34m\u001b[0m\u001b[0;34m\u001b[0m\u001b[0m\n\u001b[0;32m---> 14\u001b[0;31m \u001b[0mjson_requestData\u001b[0m \u001b[0;34m=\u001b[0m \u001b[0mget_chargelist_APP\u001b[0m\u001b[0;34m(\u001b[0m\u001b[0mNone\u001b[0m\u001b[0;34m,\u001b[0m \u001b[0mstationId\u001b[0m\u001b[0;34m)\u001b[0m\u001b[0;34m\u001b[0m\u001b[0m\n\u001b[0m\u001b[1;32m     15\u001b[0m \u001b[0;32mprint\u001b[0m\u001b[0;34m(\u001b[0m\u001b[0mresponse\u001b[0m\u001b[0;34m.\u001b[0m\u001b[0mtext\u001b[0m\u001b[0;34m)\u001b[0m\u001b[0;34m\u001b[0m\u001b[0m\n",
      "\u001b[0;32m<ipython-input-12-3b368074e4c4>\u001b[0m in \u001b[0;36mget_chargelist_APP\u001b[0;34m(hdr, stationId, item_per_pg, pg_numb)\u001b[0m\n\u001b[1;32m      6\u001b[0m                        \"staID\":\"{}\".format(stationId)}\n\u001b[1;32m      7\u001b[0m         \u001b[0;32mprint\u001b[0m\u001b[0;34m(\u001b[0m\u001b[0mquerystring\u001b[0m\u001b[0;34m)\u001b[0m\u001b[0;34m\u001b[0m\u001b[0m\n\u001b[0;32m----> 8\u001b[0;31m         \u001b[0mchargeList_resp\u001b[0m \u001b[0;34m=\u001b[0m \u001b[0mrequests\u001b[0m\u001b[0;34m.\u001b[0m\u001b[0mrequest\u001b[0m\u001b[0;34m(\u001b[0m\u001b[0;34m\"GET\"\u001b[0m\u001b[0;34m,\u001b[0m \u001b[0murl\u001b[0m\u001b[0;34m,\u001b[0m \u001b[0mparams\u001b[0m\u001b[0;34m=\u001b[0m\u001b[0mquerystring\u001b[0m\u001b[0;34m)\u001b[0m\u001b[0;34m\u001b[0m\u001b[0m\n\u001b[0m\u001b[1;32m      9\u001b[0m         \u001b[0mjson_requestData\u001b[0m \u001b[0;34m=\u001b[0m \u001b[0mpill_resp\u001b[0m\u001b[0;34m.\u001b[0m\u001b[0mjson\u001b[0m\u001b[0;34m(\u001b[0m\u001b[0;34m)\u001b[0m\u001b[0;34m\u001b[0m\u001b[0m\n\u001b[1;32m     10\u001b[0m     \u001b[0;32mreturn\u001b[0m \u001b[0mjson_requestData\u001b[0m\u001b[0;34m\u001b[0m\u001b[0m\n",
      "\u001b[0;32m/usr/local/lib/python2.7/dist-packages/requests/api.pyc\u001b[0m in \u001b[0;36mrequest\u001b[0;34m(method, url, **kwargs)\u001b[0m\n\u001b[1;32m     56\u001b[0m     \u001b[0;31m# cases, and look like a memory leak in others.\u001b[0m\u001b[0;34m\u001b[0m\u001b[0;34m\u001b[0m\u001b[0m\n\u001b[1;32m     57\u001b[0m     \u001b[0;32mwith\u001b[0m \u001b[0msessions\u001b[0m\u001b[0;34m.\u001b[0m\u001b[0mSession\u001b[0m\u001b[0;34m(\u001b[0m\u001b[0;34m)\u001b[0m \u001b[0;32mas\u001b[0m \u001b[0msession\u001b[0m\u001b[0;34m:\u001b[0m\u001b[0;34m\u001b[0m\u001b[0m\n\u001b[0;32m---> 58\u001b[0;31m         \u001b[0;32mreturn\u001b[0m \u001b[0msession\u001b[0m\u001b[0;34m.\u001b[0m\u001b[0mrequest\u001b[0m\u001b[0;34m(\u001b[0m\u001b[0mmethod\u001b[0m\u001b[0;34m=\u001b[0m\u001b[0mmethod\u001b[0m\u001b[0;34m,\u001b[0m \u001b[0murl\u001b[0m\u001b[0;34m=\u001b[0m\u001b[0murl\u001b[0m\u001b[0;34m,\u001b[0m \u001b[0;34m**\u001b[0m\u001b[0mkwargs\u001b[0m\u001b[0;34m)\u001b[0m\u001b[0;34m\u001b[0m\u001b[0m\n\u001b[0m\u001b[1;32m     59\u001b[0m \u001b[0;34m\u001b[0m\u001b[0m\n\u001b[1;32m     60\u001b[0m \u001b[0;34m\u001b[0m\u001b[0m\n",
      "\u001b[0;32m/usr/local/lib/python2.7/dist-packages/requests/sessions.pyc\u001b[0m in \u001b[0;36mrequest\u001b[0;34m(self, method, url, params, data, headers, cookies, files, auth, timeout, allow_redirects, proxies, hooks, stream, verify, cert, json)\u001b[0m\n\u001b[1;32m    506\u001b[0m         }\n\u001b[1;32m    507\u001b[0m         \u001b[0msend_kwargs\u001b[0m\u001b[0;34m.\u001b[0m\u001b[0mupdate\u001b[0m\u001b[0;34m(\u001b[0m\u001b[0msettings\u001b[0m\u001b[0;34m)\u001b[0m\u001b[0;34m\u001b[0m\u001b[0m\n\u001b[0;32m--> 508\u001b[0;31m         \u001b[0mresp\u001b[0m \u001b[0;34m=\u001b[0m \u001b[0mself\u001b[0m\u001b[0;34m.\u001b[0m\u001b[0msend\u001b[0m\u001b[0;34m(\u001b[0m\u001b[0mprep\u001b[0m\u001b[0;34m,\u001b[0m \u001b[0;34m**\u001b[0m\u001b[0msend_kwargs\u001b[0m\u001b[0;34m)\u001b[0m\u001b[0;34m\u001b[0m\u001b[0m\n\u001b[0m\u001b[1;32m    509\u001b[0m \u001b[0;34m\u001b[0m\u001b[0m\n\u001b[1;32m    510\u001b[0m         \u001b[0;32mreturn\u001b[0m \u001b[0mresp\u001b[0m\u001b[0;34m\u001b[0m\u001b[0m\n",
      "\u001b[0;32m/usr/local/lib/python2.7/dist-packages/requests/sessions.pyc\u001b[0m in \u001b[0;36msend\u001b[0;34m(self, request, **kwargs)\u001b[0m\n\u001b[1;32m    616\u001b[0m \u001b[0;34m\u001b[0m\u001b[0m\n\u001b[1;32m    617\u001b[0m         \u001b[0;31m# Send the request\u001b[0m\u001b[0;34m\u001b[0m\u001b[0;34m\u001b[0m\u001b[0m\n\u001b[0;32m--> 618\u001b[0;31m         \u001b[0mr\u001b[0m \u001b[0;34m=\u001b[0m \u001b[0madapter\u001b[0m\u001b[0;34m.\u001b[0m\u001b[0msend\u001b[0m\u001b[0;34m(\u001b[0m\u001b[0mrequest\u001b[0m\u001b[0;34m,\u001b[0m \u001b[0;34m**\u001b[0m\u001b[0mkwargs\u001b[0m\u001b[0;34m)\u001b[0m\u001b[0;34m\u001b[0m\u001b[0m\n\u001b[0m\u001b[1;32m    619\u001b[0m \u001b[0;34m\u001b[0m\u001b[0m\n\u001b[1;32m    620\u001b[0m         \u001b[0;31m# Total elapsed time of the request (approximately)\u001b[0m\u001b[0;34m\u001b[0m\u001b[0;34m\u001b[0m\u001b[0m\n",
      "\u001b[0;32m/usr/local/lib/python2.7/dist-packages/requests/adapters.pyc\u001b[0m in \u001b[0;36msend\u001b[0;34m(self, request, stream, timeout, verify, cert, proxies)\u001b[0m\n\u001b[1;32m    506\u001b[0m                 \u001b[0;32mraise\u001b[0m \u001b[0mSSLError\u001b[0m\u001b[0;34m(\u001b[0m\u001b[0me\u001b[0m\u001b[0;34m,\u001b[0m \u001b[0mrequest\u001b[0m\u001b[0;34m=\u001b[0m\u001b[0mrequest\u001b[0m\u001b[0;34m)\u001b[0m\u001b[0;34m\u001b[0m\u001b[0m\n\u001b[1;32m    507\u001b[0m \u001b[0;34m\u001b[0m\u001b[0m\n\u001b[0;32m--> 508\u001b[0;31m             \u001b[0;32mraise\u001b[0m \u001b[0mConnectionError\u001b[0m\u001b[0;34m(\u001b[0m\u001b[0me\u001b[0m\u001b[0;34m,\u001b[0m \u001b[0mrequest\u001b[0m\u001b[0;34m=\u001b[0m\u001b[0mrequest\u001b[0m\u001b[0;34m)\u001b[0m\u001b[0;34m\u001b[0m\u001b[0m\n\u001b[0m\u001b[1;32m    509\u001b[0m \u001b[0;34m\u001b[0m\u001b[0m\n\u001b[1;32m    510\u001b[0m         \u001b[0;32mexcept\u001b[0m \u001b[0mClosedPoolError\u001b[0m \u001b[0;32mas\u001b[0m \u001b[0me\u001b[0m\u001b[0;34m:\u001b[0m\u001b[0;34m\u001b[0m\u001b[0m\n",
      "\u001b[0;31mConnectionError\u001b[0m: HTTPSConnectionPool(host='baseapi.teld.cn', port=443): Max retries exceeded with url: /api/GetChargeListBySta/StaV3?staID=d4035b02-5f27-4ae9-b0b1-dd10010f5b7e&itemNumPerPage=150&pageNum=1 (Caused by NewConnectionError('<urllib3.connection.VerifiedHTTPSConnection object at 0x7f3a2762f710>: Failed to establish a new connection: [Errno 111] Connection refused',))"
     ]
    }
   ],
   "source": [
    "\n",
    "stationId = \"d4035b02-5f27-4ae9-b0b1-dd10010f5b7e\"\n",
    "\n",
    "url = \"https://baseapi.teld.cn/api/GetChargeListBySta/StaV3\"\n",
    "\n",
    "querystring = {\"itemNumPerPage\":\"40\",\"pageNum\":\"1\",\"staID\":\"d4035b02-5f27-4ae9-b0b1-dd10010f5b7e\"}\n",
    "\n",
    "headers = {\n",
    "    'cache-control': \"no-cache\",\n",
    "    'postman-token': \"928814f4-60c2-7c0c-a892-12409b8990bd\"\n",
    "    }\n",
    "\n",
    "# response = requests.request(\"GET\", url, headers=headers, params=querystring)\n",
    "json_requestData = get_chargelist_APP(None, stationId)\n",
    "print(response.text)"
   ]
  },
  {
   "cell_type": "code",
   "execution_count": 20,
   "metadata": {
    "collapsed": true
   },
   "outputs": [],
   "source": [
    "# for i in chargelist:\n",
    "#     print i['PileName'],'----', i['userNickName'],'----',i['chargeTime'], '-----', i['carTypeName']\n",
    "    \n",
    "# print(str(chargelist[2]['userNickName']) )\n",
    "# print(str(chargelist[3]['userNickName'].encode('utf-8')) )\n",
    "\n",
    "# str(chargelist[2]['userNickName']) == str(chargelist[3]['userNickName'])"
   ]
  },
  {
   "cell_type": "code",
   "execution_count": 21,
   "metadata": {
    "collapsed": true
   },
   "outputs": [],
   "source": [
    "# print(chargelist[7]['chargeTime'])\n",
    "# print(chargelist[2]['chargeTime'])"
   ]
  },
  {
   "cell_type": "code",
   "execution_count": null,
   "metadata": {
    "collapsed": true
   },
   "outputs": [],
   "source": []
  }
 ],
 "metadata": {
  "kernelspec": {
   "display_name": "Python 2",
   "language": "python",
   "name": "python2"
  },
  "language_info": {
   "codemirror_mode": {
    "name": "ipython",
    "version": 2
   },
   "file_extension": ".py",
   "mimetype": "text/x-python",
   "name": "python",
   "nbconvert_exporter": "python",
   "pygments_lexer": "ipython2",
   "version": "2.7.12"
  }
 },
 "nbformat": 4,
 "nbformat_minor": 1
}
