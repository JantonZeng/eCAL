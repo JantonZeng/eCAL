{
 "cells": [
  {
   "cell_type": "code",
   "execution_count": 6,
   "metadata": {
    "collapsed": true
   },
   "outputs": [],
   "source": [
    "from multiprocessing import Process, Pool\n",
    "import json\n",
    "import datetime\n",
    "import time\n",
    "import requests\n",
    "import grequests\n",
    "import random\n",
    "import os\n",
    "import psutil\n",
    "import psycopg2\n",
    "import requesocks\n",
    "import socket\n",
    "import socks\n",
    "import nbimporter\n",
    "import Tor\n",
    "import Insert_py\n",
    "import Get_py\n",
    "import Init_database as indb"
   ]
  },
  {
   "cell_type": "code",
   "execution_count": 2,
   "metadata": {
    "collapsed": true
   },
   "outputs": [],
   "source": [
    "#--------INITIALIZING CONNECTION TO DATABASE--------#\n",
    "db_name=\"db_teld\"\n",
    "user_name=\"postgres\"\n",
    "password = \"postgres\"\n",
    "host=\"127.0.0.1\"\n",
    "port=\"5432\"\n",
    "conn = indb.init_db(db_name, user_name, password, host, port)"
   ]
  },
  {
   "cell_type": "code",
   "execution_count": null,
   "metadata": {
    "collapsed": true
   },
   "outputs": [],
   "source": []
  },
  {
   "cell_type": "code",
   "execution_count": null,
   "metadata": {
    "collapsed": true
   },
   "outputs": [],
   "source": [
    "def pillState_scrap(pillcode): \n",
    "    \"\"\"\n",
    "        Input:\n",
    "            pillCode - list, each charging pile has its own pile code\n",
    "        Output:\n",
    "            pill_detailedInfo - dictionary of pill state details\n",
    "    \"\"\"\n",
    "    hdr = {\n",
    "            'accept': \"*/*\",\n",
    "            'user-agent': \"Teld/3.4.0 (iPhone; iOS 10.3.3; Scale/2.00)\",\n",
    "            'cookie': \"TELDAppID=\",\n",
    "            'content-length': \"111\",\n",
    "            'connection': \"keep-alive\",\n",
    "            'accept-encoding': \"gzip, deflate\",\n",
    "            'device': \"app_version=3.4.0&os_version=10.3.3&client=ios&device_name=iPhone 6s (A1633/A1688/A1691/A1700)&device_id=38CD294C-CC36-4998-9074-C7F798EE6087&city_code=4403&city_name=%E6%B7%B1%E5%9C%B3&lat=0.000000&lng=0.000000&network=wifi&location_city_name=\",\n",
    "            'host': \"basesg.teld.cn\",\n",
    "            'content-type': \"application/x-www-form-urlencoded\",\n",
    "            'cache-control': \"no-cache\"\n",
    "        }\n",
    "    time_out = 20"
   ]
  }
 ],
 "metadata": {
  "kernelspec": {
   "display_name": "Python 2",
   "language": "python",
   "name": "python2"
  },
  "language_info": {
   "codemirror_mode": {
    "name": "ipython",
    "version": 2
   },
   "file_extension": ".py",
   "mimetype": "text/x-python",
   "name": "python",
   "nbconvert_exporter": "python",
   "pygments_lexer": "ipython2",
   "version": "2.7.13"
  }
 },
 "nbformat": 4,
 "nbformat_minor": 2
}
