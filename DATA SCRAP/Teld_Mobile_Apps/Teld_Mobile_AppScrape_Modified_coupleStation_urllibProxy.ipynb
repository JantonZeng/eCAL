{
 "cells": [
  {
   "cell_type": "code",
   "execution_count": 11,
   "metadata": {},
   "outputs": [],
   "source": [
    "import json\n",
    "import datetime\n",
    "import time\n",
    "import urllib2\n",
    "import nbimporter\n",
    "import random\n",
    "import os\n",
    "import psutil\n",
    "import psycopg2\n",
    "import Insert_py\n",
    "import Get_py\n",
    "import Tor\n",
    "import Proxy_Gatherer as pg\n",
    "import Init_database as indb\n",
    "import warnings\n",
    "warnings.filterwarnings(\"ignore\")"
   ]
  },
  {
   "cell_type": "code",
   "execution_count": 2,
   "metadata": {
    "collapsed": true
   },
   "outputs": [],
   "source": [
    "#--------INITIALIZING CONNECTION TO DATABASE--------#\n",
    "db_name=\"db_teld\"\n",
    "user_name=\"postgres\"\n",
    "password = \"postgres\"\n",
    "host=\"127.0.0.1\"\n",
    "port=\"5432\"\n",
    "conn = indb.init_db(db_name, user_name, password, host, port)"
   ]
  },
  {
   "cell_type": "code",
   "execution_count": 3,
   "metadata": {
    "collapsed": true
   },
   "outputs": [],
   "source": [
    "#------- Gathering proxies for visiting teld.cn -------##\n",
    "def proxy():\n",
    "    hdr = {'User-Agent':'Mozilla/5.0 (Macintosh; Intel Mac OS X 10_12_5) AppleWebKit/537.36 (KHTML, like Gecko) Chrome/59.0.3071.115 Safari/537.36',\n",
    "           'Accept':'text/html,application/xhtml+xml,application/xml;q=0.9,image/webp,image/apng,*/*;q=0.8'}\n",
    "    gatherproxy = pg.ProxyGatherer(hdr)\n",
    "    proxies_xici = gatherproxy.getproxies_xici()\n",
    "    proxies_elite = gatherproxy.getproxies_elite()\n",
    "    # t = time.time()\n",
    "    proxiesXici_pool = gatherproxy.proxies_cleanup(proxies_xici) # Could also specify timeout limit you prefer, \n",
    "                                                                    #format--(connect time, read time)\n",
    "    proxiesElite_pool = gatherproxy.proxies_cleanup(proxies_elite)\n",
    "    proxies = proxiesXici_pool+proxiesElite_pool\n",
    "    return proxies"
   ]
  },
  {
   "cell_type": "code",
   "execution_count": 4,
   "metadata": {
    "collapsed": true
   },
   "outputs": [],
   "source": [
    "def write_error(error_log, pillcode, error_msg):\n",
    "    \"\"\"\n",
    "        Input:\n",
    "            error_log - file, write error messages into designated file\n",
    "    \"\"\"\n",
    "    error_log.write(pillcode)\n",
    "    error_log.write(str(error_msg))\n",
    "    error_log.write('\\n')"
   ]
  },
  {
   "cell_type": "code",
   "execution_count": 5,
   "metadata": {
    "collapsed": true
   },
   "outputs": [],
   "source": [
    "def pillState_scrap(pillcode): \n",
    "    \"\"\"\n",
    "        Input:\n",
    "            pillCode - string, each charging pile has its own pile code\n",
    "        Output:\n",
    "            pill_detailedInfo - dictionary of pill state details\n",
    "    \"\"\"\n",
    "    hdr = {\n",
    "            'accept': \"*/*\",\n",
    "            'user-agent': \"Teld/3.3.0 (iPhone; iOS 10.3.3; Scale/2.00)\",\n",
    "            'cookie': \"TELDAppID=\",\n",
    "            'content-length': \"111\",\n",
    "            'connection': \"keep-alive\",\n",
    "            'accept-encoding': \"gzip, deflate\",\n",
    "            'device': \"app_version=3.3.0&os_version=10.3.3&client=ios&device_name=iPhone 6s (A1633/A1688/A1691/A1700)&device_id=38CD294C-CC36-4998-9074-C7F798EE6087&city_code=4403&city_name=%E6%B7%B1%E5%9C%B3&lat=0.000000&lng=0.000000&network=wifi&location_city_name=\",\n",
    "            'host': \"basesg.teld.cn\",\n",
    "            'content-type': \"application/x-www-form-urlencoded\",\n",
    "            'cache-control': \"no-cache\"\n",
    "        }\n",
    "    time_out = 50\n",
    "    F = None\n",
    "    proxies_pool = None\n",
    "    #If encounter error, try one more request with a different proxy\n",
    "    try:\n",
    "        pill_detailedInfo, proxies_pool = Get_py.get_onePill_APP(hdr, pillcode, F, proxies_pool, time_out=time_out)\n",
    "    except ValueError as e:\n",
    "        if F is not None:\n",
    "            write_error(F, pillcode, e)\n",
    "        try:\n",
    "            pill_detailedInfo, proxies_pool = Get_py.get_onePill_APP(hdr, pillcode, F, proxies_pool, time_out=time_out)\n",
    "        except ValueError as e:\n",
    "            if F is not None:\n",
    "                write_error(F, pillcode, e)\n",
    "            pill_detailedInfo = None\n",
    "        except (requests.exceptions.ChunkedEncodingError) as e:\n",
    "            if F is not None:\n",
    "                write_error(F, pillcode, e)\n",
    "#             else:\n",
    "            pill_detailedInfo = None\n",
    "    except (requests.exceptions.ChunkedEncodingError) as e:\n",
    "        if F is not None:\n",
    "            write_error(F, pillcode, e)\n",
    "        try:\n",
    "            pill_detailedInfo, proxies_pool = Get_py.get_onePill_APP(hdr, pillcode, F, proxies_pool, time_out=time_out)\n",
    "        except ValueError as e:\n",
    "            if F is not None:\n",
    "                write_error(F, pillcode, e)\n",
    "            pill_detailedInfo = None\n",
    "        except (requests.exceptions.ChunkedEncodingError) as e:\n",
    "            if F is not None:\n",
    "                write_error(F, pillcode, e)\n",
    "#         else:\n",
    "            pill_detailedInfo = None\n",
    "#     return pill_detailedInfo, proxies_pool\n",
    "    except:\n",
    "        pill_detailedInfo = None\n",
    "    return pill_detailedInfo"
   ]
  },
  {
   "cell_type": "code",
   "execution_count": 6,
   "metadata": {
    "collapsed": true
   },
   "outputs": [],
   "source": [
    "def insert_state(outputs):\n",
    "    for pill_detailedInfo in outputs:\n",
    "        if pill_detailedInfo is not None:\n",
    "            db_name=\"db_teld\"\n",
    "            user_name=\"postgres\"\n",
    "            password = \"postgres\"\n",
    "            host=\"127.0.0.1\"\n",
    "            port=\"5432\"\n",
    "            conn = indb.init_db(db_name, user_name, password, host, port)\n",
    "            pillCode = str(pill_detailedInfo['pillCode'])\n",
    "            stateCode = str(pill_detailedInfo['stateCode'])\n",
    "            stateCodeV3 = str(pill_detailedInfo['stateCodeV3'])\n",
    "            if pill_detailedInfo['stateName'] is not None:\n",
    "                stateName = str(pill_detailedInfo['stateName'].encode('utf-8'))\n",
    "            else:\n",
    "                stateName = ''\n",
    "            if pill_detailedInfo['stateNameV3'] is not None:\n",
    "                stateNameV3 = str(pill_detailedInfo['stateNameV3'].encode('utf-8'))\n",
    "            else:\n",
    "                stateNameV3 = ''\n",
    "            conn = Insert_py.insert_state_info(conn, pillCode, stateCode, stateName, stateCodeV3, stateNameV3)\n",
    "            conn.close()"
   ]
  },
  {
   "cell_type": "code",
   "execution_count": 7,
   "metadata": {},
   "outputs": [
    {
     "name": "stdout",
     "output_type": "stream",
     "text": [
      "46\n"
     ]
    }
   ],
   "source": [
    "# #------- Request pilecode from db for states -------#\n",
    "try:\n",
    "    cur = conn.cursor()\n",
    "    sta_list = ['b134a159-16bd-4f5d-af1b-cd42599a3bab', '33a3c031-0a3a-417d-ba1b-53549bb08dc2', \n",
    "                'e4758edb-1183-4c51-887b-a52ca7abef3d', '13bdab71-110b-4448-a3c4-5c3113183546']\n",
    "    #1. beijing hangkong jingmi jixie yanjiusuo chongdianzhan --'2b3a35d4-cb94-4b8f-a47a-bbb054754066',\n",
    "    #2. beijing xijiao bingguan chongdianzhan -- '1d02640a-7f14-4fc3-baaf-60754a38fff7\n",
    "    #3. beijing yangguanglicheng jiudian chongdianzhan --'ac6cb946-5fff-491b-859e-55cc5f701657',\n",
    "    #4. beijing rongtao gongsi chongdianzhan -- '32d317a9-3d0c-4458-8357-89a2b3b1cf94'\n",
    "    #5. beijing huairou qu yanshui lu -- 'dd4a3ddc-e1b0-4e2e-b7ca-faef627f4e66'\n",
    "    \n",
    "    #6. shenzhen hengjiang dasha chongdianzhan -- 'b134a159-16bd-4f5d-af1b-cd42599a3bab'\n",
    "    #7. shenzhen yinxing gongyeyuan chongdianzhan -- '33a3c031-0a3a-417d-ba1b-53549bb08dc2'\n",
    "    #8. shenzhe wanke jiulongshan chongdianzhan -- 'e4758edb-1183-4c51-887b-a52ca7abef3d'\n",
    "    #9. shenzhen jingyuan dasha chongdianzhan -- '13bdab71-110b-4448-a3c4-5c3113183546'\n",
    "    stmt = \"select pilecode from tbl_APP_pilecode where staid in %s\"\n",
    "    cur.execute(stmt, (tuple(sta_list),))\n",
    "    pillcode_list = cur.fetchall()\n",
    "    cur.close()\n",
    "except psycopg2.Error as e:\n",
    "    print(e)\n",
    "print(len(pillcode_list))"
   ]
  },
  {
   "cell_type": "code",
   "execution_count": 8,
   "metadata": {},
   "outputs": [
    {
     "name": "stdout",
     "output_type": "stream",
     "text": [
      "4403070013101\n",
      "4403070013102\n",
      "4403070013105\n",
      "4403070013111\n",
      "4403070013107\n",
      "4403070013106\n",
      "4403070013108\n",
      "4403070013110\n",
      "4403070013112\n",
      "4403070013109\n",
      "4403060011105\n",
      "4403060011103\n",
      "4403060011109\n",
      "4403060011201\n",
      "4403060011106\n",
      "4403060011203\n",
      "4403060011202\n",
      "4403060011108\n",
      "4403060011210\n",
      "4403060011102\n",
      "4403060011107\n",
      "4403060011110\n",
      "4403060011207\n",
      "4403060011209\n",
      "4403060011101\n",
      "4403060011104\n",
      "4403060011206\n",
      "4403060011205\n",
      "4403060011204\n",
      "4403060016102\n",
      "4403060016101\n",
      "4403060072102\n",
      "4403060072110\n",
      "4403060072112\n",
      "4403060072104\n",
      "4403060072106\n",
      "4403060072107\n",
      "4403060072113\n",
      "4403060072111\n",
      "4403060072103\n",
      "4403060072108\n",
      "4403060072109\n",
      "4403060072101\n",
      "4403060072115\n",
      "4403060072105\n",
      "4403060072114\n"
     ]
    }
   ],
   "source": [
    "for pillcode in pillcode_list:\n",
    "    print(pillcode[0])"
   ]
  },
  {
   "cell_type": "code",
   "execution_count": 9,
   "metadata": {
    "collapsed": true
   },
   "outputs": [],
   "source": [
    "hdr = {\n",
    "        'accept': \"*/*\",\n",
    "        'user-agent': \"Teld/3.3.0 (iPhone; iOS 10.3.3; Scale/2.00)\",\n",
    "        'cookie': \"TELDAppID=\",\n",
    "        'content-length': \"111\",\n",
    "        'connection': \"keep-alive\",\n",
    "        'accept-encoding': \"gzip, deflate\",\n",
    "        'device': \"app_version=3.3.0&os_version=10.3.3&client=ios&device_name=iPhone 6s (A1633/A1688/A1691/A1700)&device_id=38CD294C-CC36-4998-9074-C7F798EE6087&city_code=4403&city_name=%E6%B7%B1%E5%9C%B3&lat=0.000000&lng=0.000000&network=wifi&location_city_name=\",\n",
    "        'host': \"basesg.teld.cn\",\n",
    "        'content-type': \"application/x-www-form-urlencoded\",\n",
    "        'cache-control': \"no-cache\"\n",
    "        }"
   ]
  },
  {
   "cell_type": "code",
   "execution_count": 10,
   "metadata": {},
   "outputs": [
    {
     "name": "stdout",
     "output_type": "stream",
     "text": [
      "Got rid of 19 unusable proxies.\n",
      "Got rid of 43 unusable proxies.\n"
     ]
    }
   ],
   "source": [
    "proxies = proxy()"
   ]
  },
  {
   "cell_type": "code",
   "execution_count": 39,
   "metadata": {},
   "outputs": [
    {
     "data": {
      "text/plain": [
       "{'http': 'http://175.11.122.194:80', 'https': 'https://175.11.122.194:80'}"
      ]
     },
     "execution_count": 39,
     "metadata": {},
     "output_type": "execute_result"
    }
   ],
   "source": [
    "proxy = proxies[0]\n",
    "proxy"
   ]
  },
  {
   "cell_type": "code",
   "execution_count": 128,
   "metadata": {},
   "outputs": [],
   "source": [
    "import urllib\n",
    "proxy = {'https': 'https://175.11.122.194:80'}\n",
    "pillCode = '4403060011105'\n",
    "url = \"https://basesg.teld.cn/api/invoke\"\n",
    "# querystring = {\"SID\":\"BaseApi-App0304_GetTerminalDetails\"}\n",
    "param = {'SID':'BaseApi-App0304_GetTerminalDetails'}\n",
    "         #'param': '%7B%0A%20%20%22pillCode%22%20%3A%20%22{}%22%2C%0A%20%20%22plateform%22%20%3A%20%22app%22%0A%7D'.format(pillCode)}\n",
    "param = urllib.urlencode(param)\n",
    "\n",
    "proxy_support = urllib2.ProxyHandler(proxy)\n",
    "opener = urllib2.build_opener(proxy_support, urllib2.HTTPSHandler(debuglevel=1))\n",
    "urllib2.install_opener(opener)\n",
    "\n",
    "req = urllib2.Request(url, data=param, headers=hdr)\n"
   ]
  },
  {
   "cell_type": "code",
   "execution_count": 130,
   "metadata": {},
   "outputs": [
    {
     "ename": "URLError",
     "evalue": "<urlopen error timed out>",
     "output_type": "error",
     "traceback": [
      "\u001b[0;31m---------------------------------------------------------------------------\u001b[0m",
      "\u001b[0;31mURLError\u001b[0m                                  Traceback (most recent call last)",
      "\u001b[0;32m<ipython-input-130-dbeb64d95cd3>\u001b[0m in \u001b[0;36m<module>\u001b[0;34m()\u001b[0m\n\u001b[0;32m----> 1\u001b[0;31m \u001b[0mhtml\u001b[0m \u001b[0;34m=\u001b[0m \u001b[0murllib2\u001b[0m\u001b[0;34m.\u001b[0m\u001b[0murlopen\u001b[0m\u001b[0;34m(\u001b[0m\u001b[0mreq\u001b[0m\u001b[0;34m)\u001b[0m\u001b[0;34m.\u001b[0m\u001b[0mread\u001b[0m\u001b[0;34m(\u001b[0m\u001b[0;34m)\u001b[0m\u001b[0;34m\u001b[0m\u001b[0m\n\u001b[0m",
      "\u001b[0;32m/home/janton/anaconda2/lib/python2.7/urllib2.pyc\u001b[0m in \u001b[0;36murlopen\u001b[0;34m(url, data, timeout, cafile, capath, cadefault, context)\u001b[0m\n\u001b[1;32m    152\u001b[0m     \u001b[0;32melse\u001b[0m\u001b[0;34m:\u001b[0m\u001b[0;34m\u001b[0m\u001b[0m\n\u001b[1;32m    153\u001b[0m         \u001b[0mopener\u001b[0m \u001b[0;34m=\u001b[0m \u001b[0m_opener\u001b[0m\u001b[0;34m\u001b[0m\u001b[0m\n\u001b[0;32m--> 154\u001b[0;31m     \u001b[0;32mreturn\u001b[0m \u001b[0mopener\u001b[0m\u001b[0;34m.\u001b[0m\u001b[0mopen\u001b[0m\u001b[0;34m(\u001b[0m\u001b[0murl\u001b[0m\u001b[0;34m,\u001b[0m \u001b[0mdata\u001b[0m\u001b[0;34m,\u001b[0m \u001b[0mtimeout\u001b[0m\u001b[0;34m)\u001b[0m\u001b[0;34m\u001b[0m\u001b[0m\n\u001b[0m\u001b[1;32m    155\u001b[0m \u001b[0;34m\u001b[0m\u001b[0m\n\u001b[1;32m    156\u001b[0m \u001b[0;32mdef\u001b[0m \u001b[0minstall_opener\u001b[0m\u001b[0;34m(\u001b[0m\u001b[0mopener\u001b[0m\u001b[0;34m)\u001b[0m\u001b[0;34m:\u001b[0m\u001b[0;34m\u001b[0m\u001b[0m\n",
      "\u001b[0;32m/home/janton/anaconda2/lib/python2.7/urllib2.pyc\u001b[0m in \u001b[0;36mopen\u001b[0;34m(self, fullurl, data, timeout)\u001b[0m\n\u001b[1;32m    427\u001b[0m             \u001b[0mreq\u001b[0m \u001b[0;34m=\u001b[0m \u001b[0mmeth\u001b[0m\u001b[0;34m(\u001b[0m\u001b[0mreq\u001b[0m\u001b[0;34m)\u001b[0m\u001b[0;34m\u001b[0m\u001b[0m\n\u001b[1;32m    428\u001b[0m \u001b[0;34m\u001b[0m\u001b[0m\n\u001b[0;32m--> 429\u001b[0;31m         \u001b[0mresponse\u001b[0m \u001b[0;34m=\u001b[0m \u001b[0mself\u001b[0m\u001b[0;34m.\u001b[0m\u001b[0m_open\u001b[0m\u001b[0;34m(\u001b[0m\u001b[0mreq\u001b[0m\u001b[0;34m,\u001b[0m \u001b[0mdata\u001b[0m\u001b[0;34m)\u001b[0m\u001b[0;34m\u001b[0m\u001b[0m\n\u001b[0m\u001b[1;32m    430\u001b[0m \u001b[0;34m\u001b[0m\u001b[0m\n\u001b[1;32m    431\u001b[0m         \u001b[0;31m# post-process response\u001b[0m\u001b[0;34m\u001b[0m\u001b[0;34m\u001b[0m\u001b[0m\n",
      "\u001b[0;32m/home/janton/anaconda2/lib/python2.7/urllib2.pyc\u001b[0m in \u001b[0;36m_open\u001b[0;34m(self, req, data)\u001b[0m\n\u001b[1;32m    445\u001b[0m         \u001b[0mprotocol\u001b[0m \u001b[0;34m=\u001b[0m \u001b[0mreq\u001b[0m\u001b[0;34m.\u001b[0m\u001b[0mget_type\u001b[0m\u001b[0;34m(\u001b[0m\u001b[0;34m)\u001b[0m\u001b[0;34m\u001b[0m\u001b[0m\n\u001b[1;32m    446\u001b[0m         result = self._call_chain(self.handle_open, protocol, protocol +\n\u001b[0;32m--> 447\u001b[0;31m                                   '_open', req)\n\u001b[0m\u001b[1;32m    448\u001b[0m         \u001b[0;32mif\u001b[0m \u001b[0mresult\u001b[0m\u001b[0;34m:\u001b[0m\u001b[0;34m\u001b[0m\u001b[0m\n\u001b[1;32m    449\u001b[0m             \u001b[0;32mreturn\u001b[0m \u001b[0mresult\u001b[0m\u001b[0;34m\u001b[0m\u001b[0m\n",
      "\u001b[0;32m/home/janton/anaconda2/lib/python2.7/urllib2.pyc\u001b[0m in \u001b[0;36m_call_chain\u001b[0;34m(self, chain, kind, meth_name, *args)\u001b[0m\n\u001b[1;32m    405\u001b[0m             \u001b[0mfunc\u001b[0m \u001b[0;34m=\u001b[0m \u001b[0mgetattr\u001b[0m\u001b[0;34m(\u001b[0m\u001b[0mhandler\u001b[0m\u001b[0;34m,\u001b[0m \u001b[0mmeth_name\u001b[0m\u001b[0;34m)\u001b[0m\u001b[0;34m\u001b[0m\u001b[0m\n\u001b[1;32m    406\u001b[0m \u001b[0;34m\u001b[0m\u001b[0m\n\u001b[0;32m--> 407\u001b[0;31m             \u001b[0mresult\u001b[0m \u001b[0;34m=\u001b[0m \u001b[0mfunc\u001b[0m\u001b[0;34m(\u001b[0m\u001b[0;34m*\u001b[0m\u001b[0margs\u001b[0m\u001b[0;34m)\u001b[0m\u001b[0;34m\u001b[0m\u001b[0m\n\u001b[0m\u001b[1;32m    408\u001b[0m             \u001b[0;32mif\u001b[0m \u001b[0mresult\u001b[0m \u001b[0;32mis\u001b[0m \u001b[0;32mnot\u001b[0m \u001b[0mNone\u001b[0m\u001b[0;34m:\u001b[0m\u001b[0;34m\u001b[0m\u001b[0m\n\u001b[1;32m    409\u001b[0m                 \u001b[0;32mreturn\u001b[0m \u001b[0mresult\u001b[0m\u001b[0;34m\u001b[0m\u001b[0m\n",
      "\u001b[0;32m/home/janton/anaconda2/lib/python2.7/urllib2.pyc\u001b[0m in \u001b[0;36mhttps_open\u001b[0;34m(self, req)\u001b[0m\n\u001b[1;32m   1239\u001b[0m         \u001b[0;32mdef\u001b[0m \u001b[0mhttps_open\u001b[0m\u001b[0;34m(\u001b[0m\u001b[0mself\u001b[0m\u001b[0;34m,\u001b[0m \u001b[0mreq\u001b[0m\u001b[0;34m)\u001b[0m\u001b[0;34m:\u001b[0m\u001b[0;34m\u001b[0m\u001b[0m\n\u001b[1;32m   1240\u001b[0m             return self.do_open(httplib.HTTPSConnection, req,\n\u001b[0;32m-> 1241\u001b[0;31m                 context=self._context)\n\u001b[0m\u001b[1;32m   1242\u001b[0m \u001b[0;34m\u001b[0m\u001b[0m\n\u001b[1;32m   1243\u001b[0m         \u001b[0mhttps_request\u001b[0m \u001b[0;34m=\u001b[0m \u001b[0mAbstractHTTPHandler\u001b[0m\u001b[0;34m.\u001b[0m\u001b[0mdo_request_\u001b[0m\u001b[0;34m\u001b[0m\u001b[0m\n",
      "\u001b[0;32m/home/janton/anaconda2/lib/python2.7/urllib2.pyc\u001b[0m in \u001b[0;36mdo_open\u001b[0;34m(self, http_class, req, **http_conn_args)\u001b[0m\n\u001b[1;32m   1196\u001b[0m         \u001b[0;32mexcept\u001b[0m \u001b[0msocket\u001b[0m\u001b[0;34m.\u001b[0m\u001b[0merror\u001b[0m\u001b[0;34m,\u001b[0m \u001b[0merr\u001b[0m\u001b[0;34m:\u001b[0m \u001b[0;31m# XXX what error?\u001b[0m\u001b[0;34m\u001b[0m\u001b[0m\n\u001b[1;32m   1197\u001b[0m             \u001b[0mh\u001b[0m\u001b[0;34m.\u001b[0m\u001b[0mclose\u001b[0m\u001b[0;34m(\u001b[0m\u001b[0;34m)\u001b[0m\u001b[0;34m\u001b[0m\u001b[0m\n\u001b[0;32m-> 1198\u001b[0;31m             \u001b[0;32mraise\u001b[0m \u001b[0mURLError\u001b[0m\u001b[0;34m(\u001b[0m\u001b[0merr\u001b[0m\u001b[0;34m)\u001b[0m\u001b[0;34m\u001b[0m\u001b[0m\n\u001b[0m\u001b[1;32m   1199\u001b[0m         \u001b[0;32melse\u001b[0m\u001b[0;34m:\u001b[0m\u001b[0;34m\u001b[0m\u001b[0m\n\u001b[1;32m   1200\u001b[0m             \u001b[0;32mtry\u001b[0m\u001b[0;34m:\u001b[0m\u001b[0;34m\u001b[0m\u001b[0m\n",
      "\u001b[0;31mURLError\u001b[0m: <urlopen error timed out>"
     ]
    }
   ],
   "source": [
    "html = urllib2.urlopen(req).read()"
   ]
  },
  {
   "cell_type": "code",
   "execution_count": 129,
   "metadata": {},
   "outputs": [
    {
     "data": {
      "text/plain": [
       "'SID=BaseApi-App0304_GetTerminalDetails'"
      ]
     },
     "execution_count": 129,
     "metadata": {},
     "output_type": "execute_result"
    }
   ],
   "source": [
    "param"
   ]
  },
  {
   "cell_type": "code",
   "execution_count": null,
   "metadata": {
    "collapsed": true
   },
   "outputs": [],
   "source": []
  }
 ],
 "metadata": {
  "kernelspec": {
   "display_name": "Python 2",
   "language": "python",
   "name": "python2"
  },
  "language_info": {
   "codemirror_mode": {
    "name": "ipython",
    "version": 2
   },
   "file_extension": ".py",
   "mimetype": "text/x-python",
   "name": "python",
   "nbconvert_exporter": "python",
   "pygments_lexer": "ipython2",
   "version": "2.7.13"
  }
 },
 "nbformat": 4,
 "nbformat_minor": 2
}
