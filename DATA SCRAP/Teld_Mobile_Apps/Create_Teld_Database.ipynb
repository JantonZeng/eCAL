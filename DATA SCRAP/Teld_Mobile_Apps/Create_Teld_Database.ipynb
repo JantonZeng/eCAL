{
 "cells": [
  {
   "cell_type": "code",
   "execution_count": 1,
   "metadata": {
    "collapsed": true
   },
   "outputs": [],
   "source": [
    "import psycopg2"
   ]
  },
  {
   "cell_type": "code",
   "execution_count": 3,
   "metadata": {
    "collapsed": true
   },
   "outputs": [],
   "source": [
    "def create_teld_database():\n",
    "    \"\"\"\n",
    "    Only tbl_APP_pileCode using notation \"pilecode\". All others using pillCode.\n",
    "    \"\"\"\n",
    "    conn = psycopg2.connect(database=\"db_teld\", user=\"postgres\", password=\"postgres\", host=\"127.0.0.1\", port=\"5432\")\n",
    "    cur = conn.cursor()\n",
    "    try:\n",
    "        commands = (\n",
    "#         \"\"\"\n",
    "#         CREATE EXTENSION postgis\n",
    "#         \"\"\",\n",
    "        \"\"\"\n",
    "        DROP TABLE IF EXISTS \n",
    "        tbl_app_allStations, tbl_APP_eachStations, tbl_APP_pileCode, tbl_APP_piles, tbl_APP_state\n",
    "        \"\"\",\n",
    "        \"\"\"\n",
    "        CREATE TABLE tbl_APP_allStations (\n",
    "            isInterconnection TEXT,\n",
    "            name TEXT,\n",
    "            address TEXT,\n",
    "            isFast TEXT,\n",
    "            stationType TEXT,\n",
    "            stationId TEXT PRIMARY KEY\n",
    "        )\n",
    "        \"\"\",\n",
    "        \"\"\"\n",
    "        CREATE TABLE tbl_APP_eachStations (\n",
    "            isInterconnection TEXT,\n",
    "            businessHours TEXT,\n",
    "            operatorPhone TEXT,\n",
    "            outNetworkTerminalNum TEXT,\n",
    "            usingTerminalNum TEXT,\n",
    "            advertisementHtml TEXT,\n",
    "            advertisementImg TEXT,\n",
    "            positionDesc TEXT,\n",
    "            serviceScore TEXT,\n",
    "            stationAddress TEXT,\n",
    "            fastTerminalIdleNum TEXT,\n",
    "            parkFee TEXT,\n",
    "            specialDesc TEXT,\n",
    "            isTeldPersonalTerminal TEXT,\n",
    "            fastTerminalNum TEXT,\n",
    "            specialDescV3 TEXT,\n",
    "            operatorName TEXT,\n",
    "            score TEXT,\n",
    "            slowTerminalIdleNum TEXT,\n",
    "            collected TEXT,\n",
    "            priceScore TEXT,\n",
    "            environmentScore TEXT,\n",
    "            tags TEXT,\n",
    "            payType TEXT,\n",
    "            defaultImg TEXT,\n",
    "            priceDesc TEXT,\n",
    "            hasLock TEXT,\n",
    "            stationName TEXT,\n",
    "            stationType TEXT,\n",
    "            distance TEXT,\n",
    "            isPersonalTerminal TEXT,\n",
    "            imageSize TEXT,\n",
    "            slowTerminalNum TEXT,\n",
    "            stationId TEXT PRIMARY KEY,\n",
    "            positionimgs TEXT\n",
    "        )\n",
    "        \"\"\",\n",
    "#         \"\"\"\n",
    "#         CREATE TABLE tbl_APP_userHistory (\n",
    "#             station\n",
    "#         )\n",
    "#         \"\"\",\n",
    "        \"\"\"\n",
    "        CREATE TABLE tbl_APP_pileCode (\n",
    "            pileCode Text PRIMARY KEY,\n",
    "            staID TEXT\n",
    "        )\n",
    "        \"\"\",\n",
    "        \"\"\"\n",
    "        CREATE TABLE tbl_APP_piles (\n",
    "            interconnectionId TEXT,\n",
    "            isInterconnection TEXT,\n",
    "            allowEconomyCharge TEXT,\n",
    "            isMyPersonalTerminal TEXT,\n",
    "            pillCode TEXT PRIMARY KEY,\n",
    "            tag TEXT,\n",
    "            voltage TEXT,\n",
    "            parkFee TEXT,\n",
    "            OpstateName TEXT,\n",
    "            pillID TEXT,\n",
    "            Description TEXT,\n",
    "            specialDesc TEXT,\n",
    "            notOpenOutside TEXT,\n",
    "            isMoneyNotEnough TEXT,\n",
    "            allowLimitCharge TEXT,\n",
    "            specialDescV3 TEXT,\n",
    "            OpState TEXT,\n",
    "            isTeldPersonalTerminal TEXT,\n",
    "            isFast TEXT,\n",
    "            carPark TEXT,\n",
    "            pillName TEXT,\n",
    "            allowOrderCharge TEXT,\n",
    "            allowCharge TEXT,\n",
    "            canChargeMoney TEXT,\n",
    "            orderTime TEXT,\n",
    "            ChargingPort TEXT,\n",
    "            power TEXT,\n",
    "            linkPhone TEXT,\n",
    "            payType TEXT,\n",
    "            priceDesc TEXT,\n",
    "            staName TEXT,\n",
    "            prices TEXT,\n",
    "            dataCenterLocation TEXT,\n",
    "            priceSize TEXT,\n",
    "            isPersonalTerminal TEXT,\n",
    "            powerAuxiliary TEXT,\n",
    "            hasCollected TEXT,\n",
    "            pillNameV3 TEXT,\n",
    "            terminalType TEXT,\n",
    "            isHintRecharge TEXT,\n",
    "            staID TEXT,\n",
    "            directCharge TEXT,\n",
    "            checkExist Integer\n",
    "        )\n",
    "        \"\"\",\n",
    "        \"\"\"\n",
    "        CREATE TABLE tbl_APP_state (\n",
    "            pillCode TEXT,\n",
    "            stateCode CHAR(2),\n",
    "            stateName TEXT,\n",
    "            stateCodeV3 CHAR(2),\n",
    "            stateNameV3 TEXT,\n",
    "            time TIMESTAMP WITH TIME ZONE\n",
    "        )\n",
    "        \"\"\",\n",
    "        \"\"\"\n",
    "        CREATE TABLE tbl_APP_userActivity (\n",
    "            startTime TIMESTAMP WITH TIME ZONE PRIMARY KEY,\n",
    "            pileName TEXT,\n",
    "            stationID TEXT,\n",
    "            carTypeName TEXT,\n",
    "            userNickName TEXT\n",
    "        )\n",
    "        \"\"\",\n",
    "        \"\"\"\n",
    "        SELECT AddGeometryColumn ('tbl_app_allstations','location',4326,'POINT',2)\n",
    "        \"\"\",\n",
    "        \"\"\"\n",
    "        SELECT AddGeometryColumn ('tbl_app_eachstations','location',4326,'POINT',2)\n",
    "        \"\"\"\n",
    "#         \"\"\"\n",
    "#         GRANT ALL PRIVILEGES ON TABLE \n",
    "#         tbl_APP_allStations, tbl_APP_eachStations, tbl_APP_piles, tbl_APP_state TO janton \n",
    "#         \"\"\"\n",
    "        )\n",
    "        for command in commands:\n",
    "            cur.execute(command)\n",
    "        cur.close()\n",
    "        conn.commit()\n",
    "        conn.close()\n",
    "    except (Exception, psycopg2.DatabaseError) as error:\n",
    "        print(error)            "
   ]
  },
  {
   "cell_type": "code",
   "execution_count": 4,
   "metadata": {
    "collapsed": true
   },
   "outputs": [],
   "source": [
    "#---- Below are for testing ----#"
   ]
  },
  {
   "cell_type": "code",
   "execution_count": 4,
   "metadata": {
    "collapsed": true
   },
   "outputs": [],
   "source": [
    "# import time\n",
    "# time.time()"
   ]
  },
  {
   "cell_type": "code",
   "execution_count": 5,
   "metadata": {
    "collapsed": true
   },
   "outputs": [],
   "source": [
    "# localtime = time.asctime( time.localtime(time.time()))\n"
   ]
  },
  {
   "cell_type": "code",
   "execution_count": 6,
   "metadata": {
    "collapsed": true
   },
   "outputs": [],
   "source": [
    "# from datetime import datetime\n",
    "# dt_naive = datetime.now()\n",
    "# dt_utc1 = datetime.utcnow()\n",
    "# dt_utc2 = datetime.utcnow()\n",
    "# dt_utc3 = datetime.utcnow()\n",
    "# str(dt_utc3)"
   ]
  },
  {
   "cell_type": "code",
   "execution_count": 7,
   "metadata": {
    "collapsed": true
   },
   "outputs": [],
   "source": [
    "# #---- Testing for executing order to create table ----#\n",
    "# conn = psycopg2.connect(database='test', user='janton')\n",
    "# cur = conn.cursor()\n",
    "# try:\n",
    "#     command = (\n",
    "#         \"\"\"\n",
    "#         CREATE TABLE test3 (\n",
    "#             dateTime TIMESTAMP WITH TIME ZONE NOT NULL\n",
    "#             )\n",
    "#         \"\"\")\n",
    "# except IntegrityError:\n",
    "#     conn.rollback()\n",
    "# cur.execute(command)\n",
    "# cur.close()\n",
    "# conn.commit()\n",
    "# conn.close()"
   ]
  },
  {
   "cell_type": "code",
   "execution_count": 8,
   "metadata": {
    "collapsed": true
   },
   "outputs": [],
   "source": [
    "# #---- Testing for executing order to insert data to table ----#\n",
    "# conn = psycopg2.connect(database='test', user='janton')\n",
    "# cur = conn.cursor()\n",
    "# a = \"dddddddddd\"\n",
    "# b = \"cccccc\" #not adding \n",
    "# c = \"fffff\" #adding\n",
    "# d = \"vvvvvv\" #adding\n",
    "# e = \"ggggg\" #adding\n",
    "# ceshi1 = \"ceshi1\"\n",
    "# ceshi2 = \"ceshi2\"\n",
    "# ceshi3 = \"ceshi3\"\n",
    "# command = (\n",
    "#     \"\"\"\n",
    "#     INSERT INTO test3(dateTime, random, ceshi1, ceshi2, ceshi3) \n",
    "#     SELECT %s, %s, %s, %s, %s WHERE NOT EXISTS (SELECT 1 FROM test3 where random=%s)\n",
    "#     \"\"\")\n",
    "# try:\n",
    "# #     cur.executemany(command,((dt_utc1,b,ceshi1,ceshi2,ceshi3,b),(dt_utc2,c,ceshi1,ceshi2,ceshi3,c),\n",
    "# #                              (dt_utc3,d,ceshi1,ceshi2,ceshi3,d)))\n",
    "#     cur.execute(command, (\"now\",e,ceshi1,ceshi2,ceshi3,e))\n",
    "#     conn.commit()\n",
    "#     cur.close()\n",
    "#     conn.close()\n",
    "# except (Exception, psycopg2.DatabaseError) as error:\n",
    "#     print(error)"
   ]
  },
  {
   "cell_type": "code",
   "execution_count": 9,
   "metadata": {
    "collapsed": true
   },
   "outputs": [],
   "source": [
    "# #---- Testing for executing order to insert GEO DATA to table ----#\n",
    "# conn = psycopg2.connect(database='test', user='janton')\n",
    "# cur = conn.cursor()\n",
    "# command = (\n",
    "#     \"\"\"\n",
    "#     INSERT INTO test1(geom) VALUES (ST_SetSRID(ST_MakePoint(%s,%s),4326));\n",
    "#     \"\"\")\n",
    "# longi = \"-80.1043443253471\"\n",
    "# latt = \"7.3150676015829\"\n",
    "# try:\n",
    "# #     cur.executemany(command,((dt_utc1,b,ceshi1,ceshi2,ceshi3,b),(dt_utc2,c,ceshi1,ceshi2,ceshi3,c),\n",
    "# #                              (dt_utc3,d,ceshi1,ceshi2,ceshi3,d)))\n",
    "#     cur.execute(command, (longi,latt))\n",
    "#     conn.commit()\n",
    "#     cur.close()\n",
    "#     conn.close()\n",
    "# except (Exception, psycopg2.DatabaseError) as error:\n",
    "#     print(error)"
   ]
  },
  {
   "cell_type": "code",
   "execution_count": 10,
   "metadata": {
    "collapsed": true
   },
   "outputs": [],
   "source": [
    "# #---- Testing for executing order to insert date+time data to table ----#\n",
    "# conn = psycopg2.connect(database='test', user='janton')\n",
    "# cur = conn.cursor()\n",
    "# command = (\n",
    "#     \"\"\"\n",
    "#     INSERT INTO test3(ceshi1, datetime) VALUES (%s, Now());\n",
    "#     \"\"\")\n",
    "# # longi = \"-80.1043443253471\"\n",
    "# # latt = \"7.3150676015829\"\n",
    "# ceshi1 = \"ceshi1\"\n",
    "# try:\n",
    "# #     cur.executemany(command,((dt_utc1,b,ceshi1,ceshi2,ceshi3,b),(dt_utc2,c,ceshi1,ceshi2,ceshi3,c),\n",
    "# #                              (dt_utc3,d,ceshi1,ceshi2,ceshi3,d)))\n",
    "#     cur.execute(command,(ceshi1,))\n",
    "#     conn.commit()\n",
    "#     cur.close()\n",
    "#     conn.close()\n",
    "# except (Exception, psycopg2.DatabaseError) as error:\n",
    "#     print(error)"
   ]
  },
  {
   "cell_type": "code",
   "execution_count": 11,
   "metadata": {
    "collapsed": true
   },
   "outputs": [],
   "source": [
    "# #---- Testing for executing order to select from table ----#\n",
    "# conn = psycopg2.connect(database='test', user='janton')\n",
    "# cur = conn.cursor()\n",
    "# command = (\n",
    "#     \"\"\"\n",
    "#     SELECT * from test3\n",
    "#     \"\"\")\n",
    "# try:\n",
    "#     cur.execute(command)\n",
    "#     rows = cur.fetchall()\n",
    "#     conn.close()\n",
    "# except (Exception, psycopg2.DatabaseError) as error:\n",
    "#     print(error)"
   ]
  },
  {
   "cell_type": "code",
   "execution_count": 12,
   "metadata": {
    "collapsed": true
   },
   "outputs": [],
   "source": [
    "# #---- Testing for executing order to add column to table ----#\n",
    "# conn = psycopg2.connect(database='test', user='janton')\n",
    "# cur = conn.cursor()\n",
    "# command = (\n",
    "#     \"\"\"\n",
    "#     ALTER TABLE test3 ADD COLUMN random TEXT\n",
    "#     \"\"\")\n",
    "# try:\n",
    "#     cur.execute(command)\n",
    "#     conn.commit()\n",
    "#     cur.close()\n",
    "#     conn.close()\n",
    "# except (Exception, psycopg2.DatabaseError) as error:\n",
    "#     print(error)"
   ]
  },
  {
   "cell_type": "code",
   "execution_count": 13,
   "metadata": {
    "collapsed": true
   },
   "outputs": [],
   "source": [
    "# print(rows[0][0])"
   ]
  },
  {
   "cell_type": "code",
   "execution_count": null,
   "metadata": {
    "collapsed": true
   },
   "outputs": [],
   "source": []
  },
  {
   "cell_type": "code",
   "execution_count": null,
   "metadata": {
    "collapsed": true
   },
   "outputs": [],
   "source": []
  },
  {
   "cell_type": "code",
   "execution_count": null,
   "metadata": {
    "collapsed": true
   },
   "outputs": [],
   "source": []
  }
 ],
 "metadata": {
  "kernelspec": {
   "display_name": "Python 2",
   "language": "python",
   "name": "python2"
  },
  "language_info": {
   "codemirror_mode": {
    "name": "ipython",
    "version": 2
   },
   "file_extension": ".py",
   "mimetype": "text/x-python",
   "name": "python",
   "nbconvert_exporter": "python",
   "pygments_lexer": "ipython2",
   "version": "2.7.12"
  }
 },
 "nbformat": 4,
 "nbformat_minor": 1
}
