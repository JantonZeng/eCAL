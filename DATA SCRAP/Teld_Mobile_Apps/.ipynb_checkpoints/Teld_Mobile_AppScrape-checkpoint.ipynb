{
 "cells": [
  {
   "cell_type": "code",
   "execution_count": 1,
   "metadata": {
    "scrolled": true
   },
   "outputs": [
    {
     "name": "stdout",
     "output_type": "stream",
     "text": [
      "Importing Jupyter notebook from Proxy_Gatherer.ipynb\n",
      "Importing Jupyter notebook from Init_database.ipynb\n",
      "Importing Jupyter notebook from Insert_py.ipynb\n",
      "Importing Jupyter notebook from Get_py.ipynb\n"
     ]
    }
   ],
   "source": [
    "import json\n",
    "import datetime\n",
    "import time\n",
    "import requests\n",
    "import nbimporter\n",
    "import random\n",
    "import Proxy_Gatherer as pg\n",
    "import Init_database as indb\n",
    "import Insert_py\n",
    "import Get_py\n",
    "import psycopg2"
   ]
  },
  {
   "cell_type": "code",
   "execution_count": 2,
   "metadata": {
    "collapsed": true
   },
   "outputs": [],
   "source": [
    "# #--------THIS ONLY RUNS ONE TIME TO CREATE A DATABASE FRAMEWORK--------#\n",
    "# import Create_Teld_Database as ctd\n",
    "# db_init = ctd.create_teld_database()"
   ]
  },
  {
   "cell_type": "code",
   "execution_count": 3,
   "metadata": {
    "collapsed": true
   },
   "outputs": [],
   "source": [
    "#--------INITIALIZING CONNECTION TO DATABASE--------#\n",
    "db_name=\"db_teld\"\n",
    "user_name=\"postgres\"\n",
    "password = \"postgres\"\n",
    "host=\"127.0.0.1\"\n",
    "port=\"5432\"\n",
    "conn = indb.init_db(db_name, user_name, password, host, port)"
   ]
  },
  {
   "cell_type": "code",
   "execution_count": 4,
   "metadata": {},
   "outputs": [],
   "source": [
    "##------- Specify request header ------- ##\n",
    "\n",
    "hdr = {'User-Agent':'Mozilla/5.0 Chrome/\\\n",
    "59.0.3071.115 Safari/537.36', \n",
    "        'Accept':'text/html,application/xhtml+xml,application/xml;q=0.9,image/webp,image/apng,*/*;q=0.8'}\n",
    "#------- Gathering proxies for visiting teld.cn -------##\n",
    "# gatherproxy = pg.ProxyGatherer(hdr)\n",
    "# proxies = gatherproxy.getproxies()\n",
    "# # t = time.time()\n",
    "# proxies_pool = gatherproxy.proxies_cleanup(proxies) # Could also specify timeout limit you prefer, \n",
    "#                                                                 #format--(connect time, read time)\n",
    "# print(time.time()-t)  ## usually this checking process takes a minute or so and usable proxies are around 80+.\n",
    "proxies_pool=[{'https': '221.7.153.122:8118'},\n",
    " {'http': '175.42.102.119:8118'},\n",
    " {'https': '218.15.25.153:808'},\n",
    " {'http': '106.44.81.222:8118'},\n",
    " {'https': '113.128.91.126:48888'},\n",
    " {'https': '39.82.38.99:8118'},\n",
    " {'http': '117.60.208.87:8118'},\n",
    " {'http': '113.128.90.45:48888'},\n",
    " {'http': '118.187.58.34:53281'},\n",
    " {'http': '49.70.146.211:8118'},\n",
    " {'http': '113.128.91.101:48888'},\n",
    " {'http': '61.135.217.7:80'},\n",
    " {'http': '222.141.12.83:8118'},\n",
    " {'https': '123.131.28.9:53281'},\n",
    " {'http': '222.140.5.63:9999'},\n",
    " {'http': '218.6.145.11:9797'},\n",
    " {'http': '218.28.58.150:53281'},\n",
    " {'https': '61.160.208.222:8080'},\n",
    " {'http': '111.194.152.246:9000'},\n",
    " {'https': '42.202.130.246:3128'},\n",
    " {'http': '113.200.159.155:9999'},\n",
    " {'http': '183.15.80.84:9797'},\n",
    " {'http': '116.228.221.54:80'},\n",
    " {'https': '119.90.63.3:3128'},\n",
    " {'https': '222.196.33.254:3128'},\n",
    " {'http': '125.46.0.62:53281'},\n",
    " {'http': '180.168.179.193:8080'},\n",
    " {'https': '36.249.173.63:8118'},\n",
    " {'https': '111.192.49.21:9000'},\n",
    " {'https': '113.128.90.76:48888'},\n",
    " {'https': '27.203.131.118:53281'},\n",
    " {'https': '183.66.64.120:3128'},\n",
    " {'https': '123.119.74.75:8118'},\n",
    " {'https': '144.255.229.192:8118'},\n",
    " {'https': '120.76.55.49:8088'},\n",
    " {'https': '116.196.123.38:3128'},\n",
    " {'https': '220.248.207.105:53281'},\n",
    " {'https': '220.166.64.174:3128'},\n",
    " {'https': '115.159.252.79:8080'},\n",
    " {'http': '113.128.90.168:48888'},\n",
    " {'http': '182.96.194.170:8118'},\n",
    " {'http': '49.77.61.124:8118'},\n",
    " {'http': '27.46.74.43:9999'},\n",
    " {'http': '113.128.91.13:48888'},\n",
    " {'http': '113.128.90.97:48888'},\n",
    " {'http': '116.23.136.21:9999'},\n",
    " {'http': '111.155.124.81:8123'},\n",
    " {'http': '220.165.174.9:8118'},\n",
    " {'http': '211.94.69.74:8080'},\n",
    " {'http': '112.226.233.252:8118'},\n",
    " {'http': '144.52.191.109:53281'},\n",
    " {'http': '222.141.12.83:8118'},\n",
    " {'http': '1.119.193.36:8080'},\n",
    " {'http': '125.45.87.12:9999'},\n",
    " {'http': '139.129.166.68:3128'},\n",
    " {'http': '180.168.179.193:8080'},\n",
    " {'http': '125.46.0.62:53281'},\n",
    " {'http': '61.135.217.7:80'}]"
   ]
  },
  {
   "cell_type": "code",
   "execution_count": 5,
   "metadata": {},
   "outputs": [],
   "source": [
    "# print(len(proxies_pool))\n",
    "proxies_pool=[{'http': '180.168.179.193:8080'}]"
   ]
  },
  {
   "cell_type": "code",
   "execution_count": 6,
   "metadata": {
    "collapsed": true
   },
   "outputs": [],
   "source": [
    "## ----- WEB scraping demo -----##\n",
    "# endTime = datetime.datetime.now() + datetime.timedelta(minutes=1)\n",
    "\n",
    "# while True:\n",
    "#     if datetime.datetime.now() >= endTime:\n",
    "#         break\n",
    "#     #--------GATHERING STATIONS DATA FROM APP--------#\n",
    "#     station_info = Get_py.get_allStations(hdr)\n",
    "#     #--------INSERTING STATIONS DATA--------#\n",
    "#     conn = Insert_py.insert_station_info(conn, station_info)\n",
    "#     #--------GATHERING PILE DATA FROM WEBSITE--------#\n",
    "#     for station in station_info:\n",
    "#         piles_info = Get_py.get_piles(station['code'], proxies_pool, hdr)\n",
    "#         conn = Insert_py.insert_pile_info(conn, str(station['code']), piles_info)\n",
    "#     print(\"time for a sleep zz..\")\n",
    "#     time.sleep(30)\n",
    "    "
   ]
  },
  {
   "cell_type": "code",
   "execution_count": 7,
   "metadata": {
    "collapsed": true
   },
   "outputs": [],
   "source": [
    "F = open('Error_log.txt','w') "
   ]
  },
  {
   "cell_type": "code",
   "execution_count": null,
   "metadata": {
    "scrolled": true
   },
   "outputs": [
    {
     "name": "stdout",
     "output_type": "stream",
     "text": [
      "71585\n"
     ]
    }
   ],
   "source": [
    "# ##------- Every once a while runs it update station and pile fixed info -------##\n",
    "# #--------------------------------------------#\n",
    "# #------- Gather all stations  -------#\n",
    "# station_info = Get_py.get_allStations(hdr)\n",
    "# print(len(station_info))\n",
    "# for station in station_info:\n",
    "#     stationId = str(station['id'])  \n",
    "# #     print(stationId)\n",
    "#     #------- Gather individual stations details -------#\n",
    "#     station_detailedInfo = Get_py.get_oneStation_APP(hdr, stationId)\n",
    "#     conn = Insert_py.insert_singStation_details(conn, station_detailedInfo)\n",
    "#     #------- Gather individual pile code -------#\n",
    "#     piles_info = Get_py.get_piles(stationId, proxies_pool, hdr)\n",
    "#     conn = Insert_py.insert_pilecode(conn, stationId, piles_info)\n",
    "#------- Gather inidividual pile details -------#\n",
    "#------- Request pilecode from db for states -------#\n",
    "try:\n",
    "    cur = conn.cursor()\n",
    "    cur.execute(\"select pilecode from tbl_APP_pilecode;\")\n",
    "    pilecode_list = cur.fetchall()\n",
    "    cur.close()\n",
    "except psycopg2.Error as e:\n",
    "    print(e)\n",
    "print(len(pilecode_list))\n",
    "\n",
    "reportTime = datetime.datetime.now() + datetime.timedelta(minutes=15)\n",
    "i = 0\n",
    "for pile in pilecode_list:\n",
    "    #If encounter error, try one more request with a different proxy\n",
    "    try:\n",
    "        pile_detailedInfo, proxies_pool = Get_py.get_onePile_APP(F, hdr, pile[0], None, time_out=1000)\n",
    "    except ValueError as e:\n",
    "        try:\n",
    "            pile_detailedInfo, proxies_pool = Get_py.get_onePile_APP(F, hdr, pile[0], None, time_out=1000)\n",
    "        except ValueError as e:\n",
    "            pile_detailedInfo = None\n",
    "        except (requests.exceptions.ChunkedEncodingError) as e:\n",
    "            pile_detailedInfo = None\n",
    "    except (requests.exceptions.ChunkedEncodingError) as e:\n",
    "        try:\n",
    "            pile_detailedInfo, proxies_pool = Get_py.get_onePile_APP(F, hdr, pile[0], None, time_out=1000)\n",
    "        except ValueError as e:\n",
    "            pile_detailedInfo = None\n",
    "        except (requests.exceptions.ChunkedEncodingError) as e:\n",
    "            pile_detailedInfo = None\n",
    "    if pile_detailedInfo is not None:\n",
    "        conn = Insert_py.insert_singPile_details(conn, pile_detailedInfo)\n",
    "    else:\n",
    "        print(\"Running None Func.\")\n",
    "        conn = Insert_py.insert_singPile_none(conn, pile_detailedInfo, pile[0])\n",
    "    i += 1\n",
    "    if datetime.datetime.now() >= reportTime:\n",
    "        reportTime = datetime.datetime.now() + datetime.timedelta(minutes=15) \n",
    "        print(\"Successfully run {} piles\".format(0))\n",
    "# #51 Running None Func."
   ]
  },
  {
   "cell_type": "code",
   "execution_count": 6,
   "metadata": {
    "scrolled": true
   },
   "outputs": [
    {
     "name": "stdout",
     "output_type": "stream",
     "text": [
      "{'http': '220.165.174.9:8118'}\n",
      "failed\n",
      "{'http': '175.42.102.119:8118'}\n",
      "failed\n",
      "{'http': '218.28.58.150:53281'}\n",
      "failed\n",
      "{'http': '113.128.91.101:48888'}\n",
      "failed\n",
      "{'http': '116.228.221.54:80'}\n",
      "failed\n",
      "{'http': '49.70.146.211:8118'}\n",
      "failed\n",
      "{'http': '113.128.91.13:48888'}\n",
      "failed\n",
      "{'http': '211.94.69.74:8080'}\n",
      "failed\n",
      "{'http': '49.77.61.124:8118'}\n",
      "failed\n",
      "{'http': '106.44.81.222:8118'}\n",
      "failed\n",
      "{'http': '111.155.124.81:8123'}\n",
      "failed\n",
      "{'http': '222.141.12.83:8118'}\n",
      "failed\n",
      "{'http': '116.23.136.21:9999'}\n",
      "failed\n",
      "{'http': '113.128.90.168:48888'}\n",
      "failed\n",
      "{'http': '113.128.90.45:48888'}\n",
      "failed\n",
      "{'http': '182.96.194.170:8118'}\n",
      "failed\n",
      "{'http': '144.52.191.109:53281'}\n",
      "failed\n",
      "{'http': '113.200.159.155:9999'}\n",
      "failed\n",
      "{'http': '222.141.12.83:8118'}\n",
      "failed\n",
      "{'http': '222.140.5.63:9999'}\n",
      "failed\n",
      "{'http': '113.128.90.97:48888'}\n",
      "failed\n",
      "{'http': '183.15.80.84:9797'}\n",
      "failed\n",
      "{'http': '112.226.233.252:8118'}\n",
      "failed\n",
      "{'http': '111.194.152.246:9000'}\n",
      "failed\n",
      "{'http': '118.187.58.34:53281'}\n",
      "failed\n",
      "{'http': '117.60.208.87:8118'}\n",
      "failed\n",
      "{'http': '27.46.74.43:9999'}\n",
      "failed\n",
      "{'http': '1.119.193.36:8080'}\n",
      "failed\n",
      "{'http': '139.129.166.68:3128'}\n",
      "failed\n",
      "{'http': '218.6.145.11:9797'}\n",
      "failed\n",
      "{'http': '125.45.87.12:9999'}\n",
      "failed\n",
      "{'http': '125.46.0.62:53281'}\n",
      "failed\n",
      "{'http': '125.46.0.62:53281'}\n",
      "failed\n"
     ]
    },
    {
     "ename": "NameError",
     "evalue": "name 'ChunkedEncodingError' is not defined",
     "output_type": "error",
     "traceback": [
      "\u001b[0;31m---------------------------------------------------------------------------\u001b[0m",
      "\u001b[0;31mNameError\u001b[0m                                 Traceback (most recent call last)",
      "\u001b[0;32m<ipython-input-6-17d11bb5eb55>\u001b[0m in \u001b[0;36m<module>\u001b[0;34m()\u001b[0m\n\u001b[1;32m     22\u001b[0m                 \u001b[0mF\u001b[0m\u001b[0;34m.\u001b[0m\u001b[0mwrite\u001b[0m\u001b[0;34m(\u001b[0m\u001b[0mstr\u001b[0m\u001b[0;34m(\u001b[0m\u001b[0me\u001b[0m\u001b[0;34m)\u001b[0m\u001b[0;34m)\u001b[0m\u001b[0;34m\u001b[0m\u001b[0m\n\u001b[1;32m     23\u001b[0m                 \u001b[0mF\u001b[0m\u001b[0;34m.\u001b[0m\u001b[0mwrite\u001b[0m\u001b[0;34m(\u001b[0m\u001b[0;34m'\\n'\u001b[0m\u001b[0;34m)\u001b[0m\u001b[0;34m\u001b[0m\u001b[0m\n\u001b[0;32m---> 24\u001b[0;31m         \u001b[0;32mexcept\u001b[0m \u001b[0mChunkedEncodingError\u001b[0m \u001b[0;32mas\u001b[0m \u001b[0me\u001b[0m\u001b[0;34m:\u001b[0m\u001b[0;34m\u001b[0m\u001b[0m\n\u001b[0m\u001b[1;32m     25\u001b[0m             \u001b[0mF\u001b[0m\u001b[0;34m.\u001b[0m\u001b[0mwrite\u001b[0m\u001b[0;34m(\u001b[0m\u001b[0mpile\u001b[0m\u001b[0;34m[\u001b[0m\u001b[0;36m0\u001b[0m\u001b[0;34m]\u001b[0m\u001b[0;34m)\u001b[0m\u001b[0;34m\u001b[0m\u001b[0m\n\u001b[1;32m     26\u001b[0m             \u001b[0mF\u001b[0m\u001b[0;34m.\u001b[0m\u001b[0mwrite\u001b[0m\u001b[0;34m(\u001b[0m\u001b[0mstr\u001b[0m\u001b[0;34m(\u001b[0m\u001b[0me\u001b[0m\u001b[0;34m)\u001b[0m\u001b[0;34m)\u001b[0m\u001b[0;34m\u001b[0m\u001b[0m\n",
      "\u001b[0;31mNameError\u001b[0m: name 'ChunkedEncodingError' is not defined"
     ]
    }
   ],
   "source": [
    "endTime = datetime.datetime.now() + datetime.timedelta(hours=6)\n",
    "while True:\n",
    "    t = time.time()\n",
    "    if datetime.datetime.now() >= endTime:\n",
    "        break\n",
    "    for pile in pilecode_list:\n",
    "        #If encounter error, try one more request with a different proxy\n",
    "        try:\n",
    "            pile_detailedInfo, proxies_pool = Get_py.get_onePile_APP(F, hdr, pile[0], proxies_pool, time_out=1000)\n",
    "        except ValueError as e:\n",
    "            F.write(pile[0])\n",
    "            F.write(str(e))\n",
    "            F.write('\\n')\n",
    "            try:\n",
    "                pile_detailedInfo, proxies_pool = Get_py.get_onePile_APP(F, hdr, pile[0], proxies_pool, time_out=1000)\n",
    "            except ValueError as e:\n",
    "                F.write(pile[0])\n",
    "                F.write(str(e))\n",
    "                F.write('\\n')\n",
    "                pile_detailedInfo = None\n",
    "            except (requests.exceptions.ChunkedEncodingError) as e:\n",
    "                F.write(pile[0])\n",
    "                F.write(str(e))\n",
    "                F.write('\\n')\n",
    "                pile_detailedInfo = None\n",
    "        except (requests.exceptions.ChunkedEncodingError) as e:\n",
    "            F.write(pile[0])\n",
    "            F.write(str(e))\n",
    "            F.write('\\n')\n",
    "            try:\n",
    "                pile_detailedInfo, proxies_pool = Get_py.get_onePile_APP(F, hdr, pile[0], proxies_pool, time_out=1000)\n",
    "            except ValueError as e:\n",
    "                F.write(pile[0])\n",
    "                F.write(str(e))\n",
    "                F.write('\\n')\n",
    "                pile_detailedInfo = None\n",
    "            except (requests.exceptions.ChunkedEncodingError) as e:\n",
    "                F.write(pile[0])\n",
    "                F.write(str(e))\n",
    "                F.write('\\n')\n",
    "                pile_detailedInfo = None\n",
    "        if pile_detailedInfo is not None:\n",
    "            pillCode = str(pile_detailedInfo['pillCode'])\n",
    "            stateCode = str(pile_detailedInfo['stateCode'])\n",
    "            stateCodeV3 = str(pile_detailedInfo['stateCodeV3'])\n",
    "            if pile_detailedInfo['stateName'] is not None:\n",
    "                stateName = str(pile_detailedInfo['stateName'].encode('utf-8'))\n",
    "            else:\n",
    "                stateName = ''\n",
    "            if pile_detailedInfo['stateNameV3'] is not None:\n",
    "                stateNameV3 = str(pile_detailedInfo['stateNameV3'].encode('utf-8'))\n",
    "            else:\n",
    "                stateNameV3 = ''\n",
    "            conn = Insert_py.insert_state_info(conn, pillCode, stateCode, stateName, stateCodeV3, stateNameV3)\n",
    "    print(\"time for a sleep zz..\")\n",
    "    print(\"One process runs for \"+str(time.time()-t))\n",
    "    time.sleep(600)\n",
    "F.close()"
   ]
  },
  {
   "cell_type": "code",
   "execution_count": 9,
   "metadata": {
    "scrolled": true
   },
   "outputs": [
    {
     "data": {
      "text/plain": [
       "25"
      ]
     },
     "execution_count": 9,
     "metadata": {},
     "output_type": "execute_result"
    }
   ],
   "source": [
    "len(proxies_pool)\n",
    "# F.close()"
   ]
  },
  {
   "cell_type": "code",
   "execution_count": 20,
   "metadata": {},
   "outputs": [
    {
     "data": {
      "text/plain": [
       "[{'http': '180.168.179.193:8080'}]"
      ]
     },
     "execution_count": 20,
     "metadata": {},
     "output_type": "execute_result"
    }
   ],
   "source": [
    "proxies_pool"
   ]
  },
  {
   "cell_type": "code",
   "execution_count": null,
   "metadata": {},
   "outputs": [],
   "source": [
    "# REQUEST_URL = 'http://baseapi.teld.cn/api/GetPillDetails/StaV2?pillCode='+pile[0]\n",
    "# proxy_idx = random.randint(0,len(proxies_pool)-1)\n",
    "# pile_resp = requests.get(REQUEST_URL, proxies=proxies_pool[proxy_idx], headers=hdr, timeout=1000)"
   ]
  },
  {
   "cell_type": "code",
   "execution_count": null,
   "metadata": {},
   "outputs": [],
   "source": [
    "# pilecode = '1101060314110'\n",
    "# pile_detailedInfo = Get_py.get_onePile_APP(hdr, pilecode)\n",
    "# conn = Insert_py.insert_singPile_details(conn, pile_detailedInfo)\n",
    "# REQUEST_URL = 'http://baseapi.teld.cn/api/GetPillDetails/StaV2?pillCode='+pilecode\n",
    "# pile_resp = requests.get(REQUEST_URL, headers=hdr)\n"
   ]
  },
  {
   "cell_type": "code",
   "execution_count": null,
   "metadata": {},
   "outputs": [],
   "source": [
    "# json_requestData = pile_resp.json()\n",
    "# json_requestData\n",
    "# pile_detailedInfo = json_requestData['data']['terminal']"
   ]
  },
  {
   "cell_type": "code",
   "execution_count": null,
   "metadata": {},
   "outputs": [],
   "source": [
    "# stationId = '044a0e7c-419e-477e-aafb-8d4b9eea1475'\n",
    "# piles_info = Get_py.get_piles(stationId, proxies_pool, hdr)\n",
    "# pile_detailedInfo = Get_py.get_onePile_APP(hdr, piles_info[3]['code'])"
   ]
  },
  {
   "cell_type": "code",
   "execution_count": null,
   "metadata": {},
   "outputs": [],
   "source": [
    "# pile_detailedInfo\n",
    "# conn = Insert_py.insert_singPile_details(conn, pile_detailedInfo)"
   ]
  },
  {
   "cell_type": "code",
   "execution_count": null,
   "metadata": {},
   "outputs": [],
   "source": [
    "##------- Try fetching all the data through psycopg2 -------## \n",
    "# try:\n",
    "#     cur = conn.cursor()\n",
    "#     cur.execute(\"select stationid from tbl_app_eachstations limit 10;\")\n",
    "#     exists = cur.fetchall()\n",
    "#     cur.close()\n",
    "# except psycopg2.Error as e:\n",
    "#     print(e)\n",
    "# for i in range(len(exists)):\n",
    "#     print(exists[i][0])"
   ]
  },
  {
   "cell_type": "code",
   "execution_count": null,
   "metadata": {
    "collapsed": true
   },
   "outputs": [],
   "source": [
    "# REQUEST_URL = 'https://www.teld.cn/StationNetwork/GetStationNetword?ProvinceName=&CityName=&KeyWords=&RegionName=& \\\n",
    "#                             type=&page=1&rows=10'\n",
    "# # req = urllib.request.Request(REQUEST_URL) \n",
    "# hdr = {'User-Agent':'Mozilla/5.0 (Macintosh; Intel Mac OS X 10_12_5) AppleWebKit/537.36 (KHTML, like Gecko) Chrome/ \\\n",
    "#                        59.0.3071.115 Safari/537.36', \n",
    "#        'Accept':'text/html,application/xhtml+xml,application/xml;q=0.9,image/webp,image/apng,*/*;q=0.8'}\n",
    "# response = urllib2.Request(REQUEST_URL, headers=hdr)\n",
    "\n",
    "# try:\n",
    "#     page = urllib2.urlopen(response)\n",
    "# except urllib2.HTTPError, e:\n",
    "#     print e.fp.read()\n",
    "    \n",
    "# content = json.load(page)\n",
    "# print(content['rows'][0])\n",
    "# response_data = urllib.request.urlopen(REQUEST_URL)\n",
    "# d = json.load(response_data)\n",
    "# print('number of results %d' % (len(d)))\n",
    "# type(response_data)"
   ]
  },
  {
   "cell_type": "code",
   "execution_count": null,
   "metadata": {
    "collapsed": true
   },
   "outputs": [],
   "source": []
  },
  {
   "cell_type": "code",
   "execution_count": null,
   "metadata": {
    "collapsed": true
   },
   "outputs": [],
   "source": []
  }
 ],
 "metadata": {
  "kernelspec": {
   "display_name": "Python 2",
   "language": "python",
   "name": "python2"
  },
  "language_info": {
   "codemirror_mode": {
    "name": "ipython",
    "version": 2
   },
   "file_extension": ".py",
   "mimetype": "text/x-python",
   "name": "python",
   "nbconvert_exporter": "python",
   "pygments_lexer": "ipython2",
   "version": "2.7.12"
  }
 },
 "nbformat": 4,
 "nbformat_minor": 1
}
