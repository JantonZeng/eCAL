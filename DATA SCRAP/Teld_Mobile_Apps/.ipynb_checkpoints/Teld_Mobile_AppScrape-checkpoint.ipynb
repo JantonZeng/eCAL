{
 "cells": [
  {
   "cell_type": "code",
   "execution_count": 1,
   "metadata": {
    "scrolled": true
   },
   "outputs": [
    {
     "name": "stdout",
     "output_type": "stream",
     "text": [
      "Importing Jupyter notebook from Proxy_Gatherer.ipynb\n",
      "Importing Jupyter notebook from Init_database.ipynb\n",
      "Importing Jupyter notebook from Insert_py.ipynb\n",
      "Importing Jupyter notebook from Get_py.ipynb\n"
     ]
    }
   ],
   "source": [
    "import json\n",
    "import datetime\n",
    "import time\n",
    "import requests\n",
    "import nbimporter\n",
    "import random\n",
    "import Proxy_Gatherer as pg\n",
    "import Init_database as indb\n",
    "import Insert_py\n",
    "import Get_py\n",
    "import psycopg2\n",
    "from multiprocessing import Process"
   ]
  },
  {
   "cell_type": "code",
   "execution_count": 2,
   "metadata": {
    "collapsed": true
   },
   "outputs": [],
   "source": [
    "# #--------THIS ONLY RUNS ONE TIME TO CREATE A DATABASE FRAMEWORK--------#\n",
    "# import Create_Teld_Database as ctd\n",
    "# db_init = ctd.create_teld_database()"
   ]
  },
  {
   "cell_type": "code",
   "execution_count": 2,
   "metadata": {
    "collapsed": true
   },
   "outputs": [],
   "source": [
    "#--------INITIALIZING CONNECTION TO DATABASE--------#\n",
    "db_name=\"db_teld\"\n",
    "user_name=\"postgres\"\n",
    "password = \"postgres\"\n",
    "host=\"127.0.0.1\"\n",
    "port=\"5432\"\n",
    "conn = indb.init_db(db_name, user_name, password, host, port)"
   ]
  },
  {
   "cell_type": "code",
   "execution_count": 3,
   "metadata": {
    "collapsed": true
   },
   "outputs": [],
   "source": [
    "##------- Specify request header ------- ##\n",
    "hdr = {\n",
    "    'accept': \"*/*\",\n",
    "    'user-agent': \"Teld/3.4.0 (iPhone; iOS 10.3.3; Scale/2.00)\",\n",
    "    'cookie': \"TELDAppID=\",\n",
    "    'content-length': \"111\",\n",
    "    'connection': \"keep-alive\",\n",
    "    'accept-encoding': \"gzip, deflate\",\n",
    "    'device': \"app_version=3.4.0&os_version=10.3.3&client=ios&device_name=iPhone 6s (A1633/A1688/A1691/A1700)&device_id=38CD294C-CC36-4998-9074-C7F798EE6087&city_code=4403&city_name=%E6%B7%B1%E5%9C%B3&lat=0.000000&lng=0.000000&network=wifi&location_city_name=\",\n",
    "    'host': \"basesg.teld.cn\",\n",
    "    'content-type': \"application/x-www-form-urlencoded\",\n",
    "    'cache-control': \"no-cache\",\n",
    "    'postman-token': \"4dd0a429-35ad-1863-c8f5-18e0f7805f60\"\n",
    "    }"
   ]
  },
  {
   "cell_type": "code",
   "execution_count": 5,
   "metadata": {
    "collapsed": true
   },
   "outputs": [],
   "source": [
    "#------- Gathering proxies for visiting teld.cn -------##\n",
    "# gatherproxy = pg.ProxyGatherer(hdr)\n",
    "# proxies = gatherproxy.getproxies()\n",
    "# # t = time.time()\n",
    "# proxies_pool = gatherproxy.proxies_cleanup(proxies) # Could also specify timeout limit you prefer, \n",
    "#                                                                 #format--(connect time, read time)\n",
    "# print(time.time()-t)  ## usually this checking process takes a minute or so and usable proxies are around 80+.\n",
    "# proxies_pool=[{'https': '221.7.153.122:8118'},\n",
    "#  {'http': '175.42.102.119:8118'},\n",
    "#  {'https': '218.15.25.153:808'},\n",
    "#  {'http': '106.44.81.222:8118'},\n",
    "#  {'https': '113.128.91.126:48888'},\n",
    "#  {'https': '39.82.38.99:8118'},\n",
    "#  {'http': '117.60.208.87:8118'},\n",
    "#  {'http': '113.128.90.45:48888'},\n",
    "#  {'http': '118.187.58.34:53281'},\n",
    "#  {'http': '49.70.146.211:8118'},\n",
    "#  {'http': '113.128.91.101:48888'},\n",
    "#  {'http': '61.135.217.7:80'},\n",
    "#  {'http': '222.141.12.83:8118'},\n",
    "#  {'https': '123.131.28.9:53281'},\n",
    "#  {'http': '222.140.5.63:9999'},\n",
    "#  {'http': '218.6.145.11:9797'},\n",
    "#  {'http': '218.28.58.150:53281'},\n",
    "#  {'https': '61.160.208.222:8080'},\n",
    "#  {'http': '111.194.152.246:9000'},\n",
    "#  {'https': '42.202.130.246:3128'},\n",
    "#  {'http': '113.200.159.155:9999'},\n",
    "#  {'http': '183.15.80.84:9797'},\n",
    "#  {'http': '116.228.221.54:80'},\n",
    "#  {'https': '119.90.63.3:3128'},\n",
    "#  {'https': '222.196.33.254:3128'},\n",
    "#  {'http': '125.46.0.62:53281'},\n",
    "#  {'http': '180.168.179.193:8080'},\n",
    "#  {'https': '36.249.173.63:8118'},\n",
    "#  {'https': '111.192.49.21:9000'},\n",
    "#  {'https': '113.128.90.76:48888'},\n",
    "#  {'https': '27.203.131.118:53281'},\n",
    "#  {'https': '183.66.64.120:3128'},\n",
    "#  {'https': '123.119.74.75:8118'},\n",
    "#  {'https': '144.255.229.192:8118'},\n",
    "#  {'https': '120.76.55.49:8088'},\n",
    "#  {'https': '116.196.123.38:3128'},\n",
    "#  {'https': '220.248.207.105:53281'},\n",
    "#  {'https': '220.166.64.174:3128'},\n",
    "#  {'https': '115.159.252.79:8080'},\n",
    "#  {'http': '113.128.90.168:48888'},\n",
    "#  {'http': '182.96.194.170:8118'},\n",
    "#  {'http': '49.77.61.124:8118'},\n",
    "#  {'http': '27.46.74.43:9999'},\n",
    "#  {'http': '113.128.91.13:48888'},\n",
    "#  {'http': '113.128.90.97:48888'},\n",
    "#  {'http': '116.23.136.21:9999'},\n",
    "#  {'http': '111.155.124.81:8123'},\n",
    "#  {'http': '220.165.174.9:8118'},\n",
    "#  {'http': '211.94.69.74:8080'},\n",
    "#  {'http': '112.226.233.252:8118'},\n",
    "#  {'http': '144.52.191.109:53281'},\n",
    "#  {'http': '222.141.12.83:8118'},\n",
    "#  {'http': '1.119.193.36:8080'},\n",
    "#  {'http': '125.45.87.12:9999'},\n",
    "#  {'http': '139.129.166.68:3128'},\n",
    "#  {'http': '180.168.179.193:8080'},\n",
    "#  {'http': '125.46.0.62:53281'},\n",
    "#  {'http': '61.135.217.7:80'}]"
   ]
  },
  {
   "cell_type": "code",
   "execution_count": 6,
   "metadata": {
    "collapsed": true
   },
   "outputs": [],
   "source": [
    "## ----- WEB scraping demo -----##\n",
    "# endTime = datetime.datetime.now() + datetime.timedelta(minutes=1)\n",
    "\n",
    "# while True:\n",
    "#     if datetime.datetime.now() >= endTime:\n",
    "#         break\n",
    "#     #--------GATHERING STATIONS DATA FROM APP--------#\n",
    "#     station_info = Get_py.get_allStations(hdr)\n",
    "#     #--------INSERTING STATIONS DATA--------#\n",
    "#     conn = Insert_py.insert_station_info(conn, station_info)\n",
    "#     #--------GATHERING PILE DATA FROM WEBSITE--------#\n",
    "#     for station in station_info:\n",
    "#         piles_info = Get_py.get_piles(station['code'], proxies_pool, hdr)\n",
    "#         conn = Insert_py.insert_pile_info(conn, str(station['code']), piles_info)\n",
    "#     print(\"time for a sleep zz..\")\n",
    "#     time.sleep(30)\n",
    "    "
   ]
  },
  {
   "cell_type": "code",
   "execution_count": 7,
   "metadata": {
    "collapsed": true
   },
   "outputs": [],
   "source": [
    "# F = open('Error_log.txt','w') "
   ]
  },
  {
   "cell_type": "code",
   "execution_count": 4,
   "metadata": {
    "collapsed": true
   },
   "outputs": [],
   "source": [
    "def pillState_scrap(F, conn, hdr, pillcode, proxies_pool): \n",
    "    #If encounter error, try one more request with a different proxy\n",
    "    try:\n",
    "        pill_detailedInfo, proxies_pool = Get_py.get_onePill_APP(F, hdr, pillcode, proxies_pool, time_out=1000)\n",
    "    except ValueError as e:\n",
    "        if F is not None:\n",
    "            F.write(pile[0])\n",
    "            F.write(str(e))\n",
    "            F.write('\\n')\n",
    "        try:\n",
    "            pill_detailedInfo, proxies_pool = Get_py.get_onePill_APP(F, hdr, pillcode, proxies_pool, time_out=1000)\n",
    "        except ValueError as e:\n",
    "            if F is not None:\n",
    "                F.write(pile[0])\n",
    "                F.write(str(e))\n",
    "                F.write('\\n')\n",
    "            pill_detailedInfo = None\n",
    "        except (requests.exceptions.ChunkedEncodingError) as e:\n",
    "            if F is not None:\n",
    "                F.write(pile[0])\n",
    "                F.write(str(e))\n",
    "                F.write('\\n')\n",
    "            pill_detailedInfo = None\n",
    "    except (requests.exceptions.ChunkedEncodingError) as e:\n",
    "        if F is not None:\n",
    "            F.write(pile[0])\n",
    "            F.write(str(e))\n",
    "            F.write('\\n')\n",
    "        try:\n",
    "            pill_detailedInfo, proxies_pool = Get_py.get_onePill_APP(F, hdr, pillcode, proxies_pool, time_out=1000)\n",
    "        except ValueError as e:\n",
    "            if F is not None:\n",
    "                F.write(pile[0])\n",
    "                F.write(str(e))\n",
    "                F.write('\\n')\n",
    "            pill_detailedInfo = None\n",
    "        except (requests.exceptions.ChunkedEncodingError) as e:\n",
    "            if F is not None:\n",
    "                F.write(pile[0])\n",
    "                F.write(str(e))\n",
    "                F.write('\\n')\n",
    "            pill_detailedInfo = None\n",
    "    if pill_detailedInfo is not None:\n",
    "        pillCode = str(pill_detailedInfo['pillCode'])\n",
    "        stateCode = str(pill_detailedInfo['stateCode'])\n",
    "        stateCodeV3 = str(pill_detailedInfo['stateCodeV3'])\n",
    "        if pill_detailedInfo['stateName'] is not None:\n",
    "            stateName = str(pill_detailedInfo['stateName'].encode('utf-8'))\n",
    "        else:\n",
    "            stateName = ''\n",
    "        if pill_detailedInfo['stateNameV3'] is not None:\n",
    "            stateNameV3 = str(pill_detailedInfo['stateNameV3'].encode('utf-8'))\n",
    "        else:\n",
    "            stateNameV3 = ''\n",
    "        conn = Insert_py.insert_state_info(conn, pillCode, stateCode, stateName, stateCodeV3, stateNameV3)"
   ]
  },
  {
   "cell_type": "code",
   "execution_count": 5,
   "metadata": {
    "scrolled": true
   },
   "outputs": [
    {
     "name": "stdout",
     "output_type": "stream",
     "text": [
      "71585\n"
     ]
    }
   ],
   "source": [
    "# ##------- Every once a while runs it update station and pile fixed info -------##\n",
    "# #--------------------------------------------#\n",
    "# #------- Gather all stations  -------#\n",
    "# station_info = Get_py.get_allStations(hdr)\n",
    "# print(len(station_info))\n",
    "# for station in station_info:\n",
    "#     stationId = str(station['id'])  \n",
    "# #     print(stationId)\n",
    "#     #------- Gather individual stations details -------#\n",
    "#     station_detailedInfo = Get_py.get_oneStation_APP(hdr, stationId)\n",
    "#     conn = Insert_py.insert_singStation_details(conn, station_detailedInfo)\n",
    "#     #------- Gather individual pile code -------#\n",
    "#     piles_info = Get_py.get_piles(stationId, proxies_pool, hdr)\n",
    "#     conn = Insert_py.insert_pilecode(conn, stationId, piles_info)\n",
    "# #------- Gather inidividual pile details -------#\n",
    "# #------- Request pilecode from db for states -------#\n",
    "try:\n",
    "    cur = conn.cursor()\n",
    "    cur.execute(\"select pilecode from tbl_APP_pilecode;\")\n",
    "    pillcode_list = cur.fetchall()\n",
    "    cur.close()\n",
    "except psycopg2.Error as e:\n",
    "    print(e)\n",
    "print(len(pillcode_list))\n",
    "\n",
    "# reportTime = datetime.datetime.now() + datetime.timedelta(minutes=15)\n",
    "# i = 0\n",
    "# for pile in pilecode_list:\n",
    "#     #If encounter error, try one more request with a different proxy\n",
    "#     try:\n",
    "#         pile_detailedInfo, proxies_pool = Get_py.get_onePile_APP(F, hdr, pile[0], proxies_pool, time_out=1000)\n",
    "#     except ValueError as e:\n",
    "#         try:\n",
    "#             pile_detailedInfo, proxies_pool = Get_py.get_onePile_APP(F, hdr, pile[0], proxies_pool, time_out=1000)\n",
    "#         except ValueError as e:\n",
    "#             pile_detailedInfo = None\n",
    "#         except (requests.exceptions.ChunkedEncodingError) as e:\n",
    "#             pile_detailedInfo = None\n",
    "#     except (requests.exceptions.ChunkedEncodingError) as e:\n",
    "#         try:\n",
    "#             pile_detailedInfo, proxies_pool = Get_py.get_onePile_APP(F, hdr, pile[0], proxies_pool, time_out=1000)\n",
    "#         except ValueError as e:\n",
    "#             pile_detailedInfo = None\n",
    "#         except (requests.exceptions.ChunkedEncodingError) as e:\n",
    "#             pile_detailedInfo = None\n",
    "#     if pile_detailedInfo is not None:\n",
    "#         conn = Insert_py.insert_singPile_details(conn, pile_detailedInfo)\n",
    "#     else:\n",
    "#         print(\"Running None Func.\")\n",
    "#         conn = Insert_py.insert_singPile_none(conn, pile_detailedInfo, pile[0])\n",
    "#     i += 1\n",
    "#     if datetime.datetime.now() >= reportTime:\n",
    "#         reportTime = datetime.datetime.now() + datetime.timedelta(minutes=15) \n",
    "#         print(\"Successfully run {} piles\".format(i))\n",
    "# #211 Running None Func.\n",
    "# #71585 piles."
   ]
  },
  {
   "cell_type": "code",
   "execution_count": 6,
   "metadata": {},
   "outputs": [
    {
     "data": {
      "text/plain": [
       "4000"
      ]
     },
     "execution_count": 6,
     "metadata": {},
     "output_type": "execute_result"
    }
   ],
   "source": [
    "tmp_pilllist = pillcode_list[:4000]\n",
    "loop_no = len(pillcode_list)//950\n",
    "rest_no = len(pillcode_list)%950\n",
    "len(tmp_pilllist)"
   ]
  },
  {
   "cell_type": "code",
   "execution_count": 8,
   "metadata": {
    "scrolled": true
   },
   "outputs": [],
   "source": [
    "# proxies_pool = None\n",
    "# if __name__ == '__main__':\n",
    "#     proc_record = []\n",
    "#     conn_list = []\n",
    "#     for i in range(len(tmp_pilllist)):\n",
    "#         conn = indb.init_db(db_name, user_name, password, host, port)\n",
    "#         conn_list.append(conn)\n",
    "#         p = Process(target=pillState_scrap, args=(None, conn, hdr, tmp_pilllist[i][0], proxies_pool,))\n",
    "#         p.start()\n",
    "#         proc_record.append(p)\n",
    "#     for p in proc_record:\n",
    "#         p.join()\n",
    "#     for conn in conn_list:\n",
    "#         conn.close()\n",
    "#     print(\"success\")\n",
    "                                                                                                                                                                    "
   ]
  },
  {
   "cell_type": "code",
   "execution_count": null,
   "metadata": {
    "collapsed": true,
    "scrolled": true
   },
   "outputs": [],
   "source": [
    "def main():\n",
    "    \"\"\"The main process\"\"\"\n",
    "    global displaytime\n",
    "    global endTime \n",
    "    global max_proc\n",
    "    global loop_no \n",
    "    global rest_no\n",
    "    proxies_pool = None\n",
    "    while True:\n",
    "        if datetime.datetime.now() >= endTime:\n",
    "            break\n",
    "        for loopNo in range(loop_no):\n",
    "            tmp_pilllist = pillcode_list[loopNo*max_proc:(loopNo+1)*max_proc]\n",
    "            proc_record = []\n",
    "            conn_list = []                \n",
    "            for i in range(len(tmp_pilllist)):\n",
    "                conn = indb.init_db(db_name, user_name, password, host, port)\n",
    "                conn_list.append(conn)\n",
    "                p = Process(target=pillState_scrap, args=(None, conn, hdr, tmp_pilllist[i][0], proxies_pool,))\n",
    "                p.start()\n",
    "                proc_record.append(p)\n",
    "            for p in proc_record:\n",
    "                p.join()\n",
    "            for conn in conn_list:\n",
    "                conn.close()\n",
    "            if datetime.datetime.now() >= displaytime:\n",
    "                print(\"successfully looped {} times\".format(loopNo+1))\n",
    "                displaytime += datetime.timedelta(hours=1)\n",
    "        tmp_pilllist = pillcode_list[loop_no*max_proc:]\n",
    "        proc_record = []\n",
    "        conn_list = [] \n",
    "        for i in range(len(tmp_pilllist)):\n",
    "            conn = indb.init_db(db_name, user_name, password, host, port)\n",
    "            conn_list.append(conn)\n",
    "            p = Process(target=pillState_scrap, args=(None, conn, hdr, tmp_pilllist[i][0], proxies_pool,))\n",
    "            p.start()\n",
    "            proc_record.append(p)\n",
    "        for p in proc_record:\n",
    "            p.join()\n",
    "        for conn in conn_list:\n",
    "            conn.close()\n",
    "        print(\"time for a sleep zz..\")\n",
    "        print(\"One process runs for \"+str(time.time()-t))\n",
    "        time.sleep(600)\n",
    "\n",
    "if __name__ == '__main__':\n",
    "    displaytime = datetime.datetime.now() + datetime.timedelta(hours=1)\n",
    "    endTime = datetime.datetime.now() + datetime.timedelta(hours=12)\n",
    "    max_proc = 4000\n",
    "    loop_no = len(pillcode_list)//max_proc\n",
    "    rest_no = len(pillcode_list)%max_proc\n",
    "    main()"
   ]
  },
  {
   "cell_type": "code",
   "execution_count": null,
   "metadata": {
    "collapsed": true,
    "scrolled": true
   },
   "outputs": [],
   "source": [
    "len(proxies_pool)\n",
    "# F.close()"
   ]
  },
  {
   "cell_type": "code",
   "execution_count": null,
   "metadata": {
    "collapsed": true
   },
   "outputs": [],
   "source": [
    "proxies_pool"
   ]
  },
  {
   "cell_type": "code",
   "execution_count": null,
   "metadata": {
    "collapsed": true
   },
   "outputs": [],
   "source": [
    "# REQUEST_URL = 'http://baseapi.teld.cn/api/GetPillDetails/StaV2?pillCode='+pile[0]\n",
    "# proxy_idx = random.randint(0,len(proxies_pool)-1)\n",
    "# pile_resp = requests.get(REQUEST_URL, proxies=proxies_pool[proxy_idx], headers=hdr, timeout=1000)"
   ]
  },
  {
   "cell_type": "code",
   "execution_count": null,
   "metadata": {
    "collapsed": true
   },
   "outputs": [],
   "source": [
    "# pilecode = '1101060314110'\n",
    "# pile_detailedInfo = Get_py.get_onePile_APP(hdr, pilecode)\n",
    "# conn = Insert_py.insert_singPile_details(conn, pile_detailedInfo)\n",
    "# REQUEST_URL = 'http://baseapi.teld.cn/api/GetPillDetails/StaV2?pillCode='+pilecode\n",
    "# pile_resp = requests.get(REQUEST_URL, headers=hdr)\n"
   ]
  },
  {
   "cell_type": "code",
   "execution_count": null,
   "metadata": {
    "collapsed": true
   },
   "outputs": [],
   "source": [
    "# json_requestData = pile_resp.json()\n",
    "# json_requestData\n",
    "# pile_detailedInfo = json_requestData['data']['terminal']"
   ]
  },
  {
   "cell_type": "code",
   "execution_count": null,
   "metadata": {
    "collapsed": true
   },
   "outputs": [],
   "source": [
    "# stationId = '044a0e7c-419e-477e-aafb-8d4b9eea1475'\n",
    "# piles_info = Get_py.get_piles(stationId, proxies_pool, hdr)\n",
    "# pile_detailedInfo = Get_py.get_onePile_APP(hdr, piles_info[3]['code'])"
   ]
  },
  {
   "cell_type": "code",
   "execution_count": null,
   "metadata": {
    "collapsed": true
   },
   "outputs": [],
   "source": [
    "# pile_detailedInfo\n",
    "# conn = Insert_py.insert_singPile_details(conn, pile_detailedInfo)"
   ]
  },
  {
   "cell_type": "code",
   "execution_count": null,
   "metadata": {
    "collapsed": true
   },
   "outputs": [],
   "source": [
    "##------- Try fetching all the data through psycopg2 -------## \n",
    "# try:\n",
    "#     cur = conn.cursor()\n",
    "#     cur.execute(\"select stationid from tbl_app_eachstations limit 10;\")\n",
    "#     exists = cur.fetchall()\n",
    "#     cur.close()\n",
    "# except psycopg2.Error as e:\n",
    "#     print(e)\n",
    "# for i in range(len(exists)):\n",
    "#     print(exists[i][0])"
   ]
  },
  {
   "cell_type": "code",
   "execution_count": null,
   "metadata": {
    "collapsed": true
   },
   "outputs": [],
   "source": [
    "# REQUEST_URL = 'https://www.teld.cn/StationNetwork/GetStationNetword?ProvinceName=&CityName=&KeyWords=&RegionName=& \\\n",
    "#                             type=&page=1&rows=10'\n",
    "# # req = urllib.request.Request(REQUEST_URL) \n",
    "# hdr = {'User-Agent':'Mozilla/5.0 (Macintosh; Intel Mac OS X 10_12_5) AppleWebKit/537.36 (KHTML, like Gecko) Chrome/ \\\n",
    "#                        59.0.3071.115 Safari/537.36', \n",
    "#        'Accept':'text/html,application/xhtml+xml,application/xml;q=0.9,image/webp,image/apng,*/*;q=0.8'}\n",
    "# response = urllib2.Request(REQUEST_URL, headers=hdr)\n",
    "\n",
    "# try:\n",
    "#     page = urllib2.urlopen(response)\n",
    "# except urllib2.HTTPError, e:\n",
    "#     print e.fp.read()\n",
    "    \n",
    "# content = json.load(page)\n",
    "# print(content['rows'][0])\n",
    "# response_data = urllib.request.urlopen(REQUEST_URL)\n",
    "# d = json.load(response_data)\n",
    "# print('number of results %d' % (len(d)))\n",
    "# type(response_data)"
   ]
  },
  {
   "cell_type": "code",
   "execution_count": null,
   "metadata": {
    "collapsed": true
   },
   "outputs": [],
   "source": []
  },
  {
   "cell_type": "code",
   "execution_count": null,
   "metadata": {
    "collapsed": true
   },
   "outputs": [],
   "source": []
  }
 ],
 "metadata": {
  "kernelspec": {
   "display_name": "Python 2",
   "language": "python",
   "name": "python2"
  },
  "language_info": {
   "codemirror_mode": {
    "name": "ipython",
    "version": 2
   },
   "file_extension": ".py",
   "mimetype": "text/x-python",
   "name": "python",
   "nbconvert_exporter": "python",
   "pygments_lexer": "ipython2",
   "version": "2.7.12"
  }
 },
 "nbformat": 4,
 "nbformat_minor": 1
}
