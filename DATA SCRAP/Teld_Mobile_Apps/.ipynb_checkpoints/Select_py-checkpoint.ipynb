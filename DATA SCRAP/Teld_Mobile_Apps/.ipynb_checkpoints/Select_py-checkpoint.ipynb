{
 "cells": [
  {
   "cell_type": "code",
   "execution_count": 1,
   "metadata": {},
   "outputs": [
    {
     "name": "stdout",
     "output_type": "stream",
     "text": [
      "Importing Jupyter notebook from Insert_py.ipynb\n",
      "Importing Jupyter notebook from Get_py.ipynb\n",
      "Importing Jupyter notebook from Tor.ipynb\n",
      "Importing Jupyter notebook from Proxy_Gatherer.ipynb\n",
      "Importing Jupyter notebook from Init_database.ipynb\n"
     ]
    }
   ],
   "source": [
    "import json\n",
    "import datetime\n",
    "import time\n",
    "import urllib2\n",
    "import nbimporter\n",
    "import random\n",
    "import os\n",
    "import psutil\n",
    "import psycopg2\n",
    "import Insert_py\n",
    "import Get_py\n",
    "import Tor\n",
    "import Proxy_Gatherer as pg\n",
    "import Init_database as indb\n",
    "import warnings\n",
    "warnings.filterwarnings(\"ignore\")"
   ]
  },
  {
   "cell_type": "code",
   "execution_count": 2,
   "metadata": {
    "collapsed": true
   },
   "outputs": [],
   "source": []
  },
  {
   "cell_type": "code",
   "execution_count": null,
   "metadata": {
    "collapsed": true
   },
   "outputs": [],
   "source": []
  }
 ],
 "metadata": {
  "kernelspec": {
   "display_name": "Python 2",
   "language": "python",
   "name": "python2"
  },
  "language_info": {
   "codemirror_mode": {
    "name": "ipython",
    "version": 2
   },
   "file_extension": ".py",
   "mimetype": "text/x-python",
   "name": "python",
   "nbconvert_exporter": "python",
   "pygments_lexer": "ipython2",
   "version": "2.7.13"
  }
 },
 "nbformat": 4,
 "nbformat_minor": 1
}
