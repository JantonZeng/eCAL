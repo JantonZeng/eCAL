{
 "cells": [
  {
   "cell_type": "code",
   "execution_count": 11,
   "metadata": {},
   "outputs": [],
   "source": [
    "import os\n",
    "import requests\n",
    "# import requesocks\n",
    "import time\n",
    "import socket\n",
    "import socks\n",
    "import nbimporter\n",
    "import Get_py"
   ]
  },
  {
   "cell_type": "code",
   "execution_count": 12,
   "metadata": {
    "collapsed": true
   },
   "outputs": [],
   "source": [
    "def getip_requests(url):\n",
    "    try:\n",
    "        print \"(+) Sending request with plain requests ...\"\n",
    "        r = requests.get(url)\n",
    "        print \"(+) IP is: \" + r.text.replace(\"\\n\", \"\")\n",
    "        return r.text.replace(\"\\n\", \"\")\n",
    "    except Exception, e:\n",
    "        print Exception, e\n",
    "        return -1"
   ]
  },
  {
   "cell_type": "code",
   "execution_count": 13,
   "metadata": {
    "collapsed": true
   },
   "outputs": [],
   "source": [
    "def getip_requesocks(url):\n",
    "    try:\n",
    "        print \"(+) Sending request with requesocks ...\"\n",
    "        session = requesocks.session()\n",
    "        session.proxies = {\n",
    "            'http':'socks5://127.0.0.1:9050',\n",
    "            'https':'socks5://127.0.0.1:9050'\n",
    "        }\n",
    "        r = session.get(url, timeout=30)\n",
    "        print \"(+) IP is: \" + r.text.replace(\"\\n\", \"\")\n",
    "        return r.text.replace(\"\\n\", \"\")\n",
    "    except Exception, e:\n",
    "        print Exception, e\n",
    "        return -1"
   ]
  },
  {
   "cell_type": "code",
   "execution_count": 14,
   "metadata": {
    "collapsed": true
   },
   "outputs": [],
   "source": [
    "def Ip_checkConn(num):\n",
    "    \"\"\"Check connections with tor if successful\"\"\"\n",
    "    while(num):\n",
    "        num -= 1\n",
    "        url = \"http://api.ipify.org?format=json\"\n",
    "        print (\"Checking IP before and after tor ...\")\n",
    "        my_ip = getip_requests(url)\n",
    "        tor_ip = getip_requesocks(url)\n",
    "        if (my_ip == tor_ip or my_ip == -1 or tor_ip == -1):\n",
    "            os.system(\"\"\"(echo authenticate '\"mypassword\"'; echo signal newnym; echo quit) | nc localhost 9051\"\"\")\n",
    "            time.sleep(3)\n",
    "        if (my_ip != tor_ip and my_ip != -1 and tor_ip != -1):\n",
    "            print(\"Connect to tor successfully\")\n",
    "            return 1\n",
    "    print \"Failed to connect to tor\"\n",
    "    return 0"
   ]
  },
  {
   "cell_type": "code",
   "execution_count": 15,
   "metadata": {
    "collapsed": true
   },
   "outputs": [],
   "source": [
    "# check = Ip_checkConn(2)"
   ]
  },
  {
   "cell_type": "code",
   "execution_count": 16,
   "metadata": {
    "collapsed": true
   },
   "outputs": [],
   "source": [
    "def connectTor():\n",
    "    socks.set_default_proxy(socks.SOCKS5, \"127.0.0.1\", 9050)\n",
    "    socket.socket = socks.socksocket"
   ]
  },
  {
   "cell_type": "code",
   "execution_count": 17,
   "metadata": {
    "collapsed": true
   },
   "outputs": [],
   "source": [
    "def renewTor():\n",
    "    os.system(\"\"\"(echo authenticate '\"mypassword\"'; echo signal newnym; echo quit) | nc localhost 9051\"\"\")"
   ]
  },
  {
   "cell_type": "code",
   "execution_count": 18,
   "metadata": {
    "collapsed": true
   },
   "outputs": [],
   "source": [
    "def showmyIp():\n",
    "    url = \"http://api.ipify.org?format=json\"\n",
    "    r = requests.get(url)\n",
    "    print(r.text.replace(\"\\n\", \"\"))"
   ]
  },
  {
   "cell_type": "code",
   "execution_count": 19,
   "metadata": {
    "collapsed": true
   },
   "outputs": [],
   "source": [
    "def main():\n",
    "    pillCode= '1101160075101'\n",
    "    hdr = {\n",
    "        'accept': \"*/*\",\n",
    "        'user-agent': \"Teld/3.4.0 (iPhone; iOS 10.3.3; Scale/2.00)\",\n",
    "        'cookie': \"TELDAppID=\",\n",
    "        'content-length': \"111\",\n",
    "        'connection': \"keep-alive\",\n",
    "        'accept-encoding': \"gzip, deflate\",\n",
    "        'device': \"app_version=3.4.0&os_version=10.3.3&client=ios&device_name=iPhone 6s (A1633/A1688/A1691/A1700)&device_id=38CD294C-CC36-4998-9074-C7F798EE6087&city_code=4403&city_name=%E6%B7%B1%E5%9C%B3&lat=0.000000&lng=0.000000&network=wifi&location_city_name=\",\n",
    "        'host': \"basesg.teld.cn\",\n",
    "        'content-type': \"application/x-www-form-urlencoded\",\n",
    "        'cache-control': \"no-cache\"\n",
    "    }\n",
    "    renewTor()\n",
    "    connectTor()\n",
    "    showmyIp()\n",
    "    pill_detailedInfo = Get_py.get_onePill_APP(hdr, pillCode)\n",
    "    print(pill_detailedInfo)"
   ]
  },
  {
   "cell_type": "code",
   "execution_count": 20,
   "metadata": {},
   "outputs": [],
   "source": [
    "# if __name__ == '__main__':\n",
    "#     main()"
   ]
  },
  {
   "cell_type": "code",
   "execution_count": null,
   "metadata": {
    "collapsed": true
   },
   "outputs": [],
   "source": []
  }
 ],
 "metadata": {
  "kernelspec": {
   "display_name": "Python 2",
   "language": "python",
   "name": "python2"
  },
  "language_info": {
   "codemirror_mode": {
    "name": "ipython",
    "version": 2
   },
   "file_extension": ".py",
   "mimetype": "text/x-python",
   "name": "python",
   "nbconvert_exporter": "python",
   "pygments_lexer": "ipython2",
   "version": "2.7.13"
  }
 },
 "nbformat": 4,
 "nbformat_minor": 2
}
