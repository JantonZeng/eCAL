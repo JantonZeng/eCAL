{
 "cells": [
  {
   "cell_type": "code",
   "execution_count": 1,
   "metadata": {},
   "outputs": [
    {
     "name": "stdout",
     "output_type": "stream",
     "text": [
      "Importing Jupyter notebook from Insert_py.ipynb\n",
      "Importing Jupyter notebook from Get_py.ipynb\n",
      "Importing Jupyter notebook from Tor.ipynb\n",
      "Importing Jupyter notebook from Proxy_Gatherer.ipynb\n",
      "Importing Jupyter notebook from Init_database.ipynb\n"
     ]
    }
   ],
   "source": [
    "import json\n",
    "import datetime\n",
    "import time\n",
    "import requests\n",
    "import nbimporter\n",
    "import random\n",
    "import os\n",
    "import psutil\n",
    "import psycopg2\n",
    "from multiprocessing import Process, Pool\n",
    "import Insert_py\n",
    "import Get_py\n",
    "import Tor\n",
    "import Proxy_Gatherer as pg\n",
    "import Init_database as indb"
   ]
  },
  {
   "cell_type": "code",
   "execution_count": 2,
   "metadata": {
    "collapsed": true
   },
   "outputs": [],
   "source": [
    "#--------INITIALIZING CONNECTION TO DATABASE--------#\n",
    "db_name=\"db_teld\"\n",
    "user_name=\"postgres\"\n",
    "password = \"postgres\"\n",
    "host=\"127.0.0.1\"\n",
    "port=\"5432\"\n",
    "conn = indb.init_db(db_name, user_name, password, host, port)"
   ]
  },
  {
   "cell_type": "code",
   "execution_count": 3,
   "metadata": {
    "collapsed": true
   },
   "outputs": [],
   "source": [
    "def write_error(error_log, pillcode, error_msg):\n",
    "    \"\"\"\n",
    "        Input:\n",
    "            error_log - file, write error messages into designated file\n",
    "    \"\"\"\n",
    "    error_log.write(pillcode)\n",
    "    error_log.write(str(error_msg))\n",
    "    error_log.write('\\n')"
   ]
  },
  {
   "cell_type": "code",
   "execution_count": 4,
   "metadata": {
    "collapsed": true
   },
   "outputs": [],
   "source": [
    "def pillState_scrap(pillcode): \n",
    "    \"\"\"\n",
    "        Input:\n",
    "            pillCode - string, each charging pile has its own pile code\n",
    "        Output:\n",
    "            pill_detailedInfo - dictionary of pill state details\n",
    "    \"\"\"\n",
    "    hdr = {\n",
    "            'accept': \"*/*\",\n",
    "            'user-agent': \"Teld/3.3.0 (iPhone; iOS 10.3.3; Scale/2.00)\",\n",
    "            'cookie': \"TELDAppID=\",\n",
    "            'content-length': \"111\",\n",
    "            'connection': \"keep-alive\",\n",
    "            'accept-encoding': \"gzip, deflate\",\n",
    "            'device': \"app_version=3.3.0&os_version=10.3.3&client=ios&device_name=iPhone 6s (A1633/A1688/A1691/A1700)&device_id=38CD294C-CC36-4998-9074-C7F798EE6087&city_code=4403&city_name=%E6%B7%B1%E5%9C%B3&lat=0.000000&lng=0.000000&network=wifi&location_city_name=\",\n",
    "            'host': \"basesg.teld.cn\",\n",
    "            'content-type': \"application/x-www-form-urlencoded\",\n",
    "            'cache-control': \"no-cache\",\n",
    "            'postman-token': \"4dd0a429-35ad-1863-c8f5-18e0f7805f60\"\n",
    "        }\n",
    "    time_out = 200\n",
    "    F = None\n",
    "    proxies_pool = None\n",
    "    #If encounter error, try one more request with a different proxy\n",
    "    try:\n",
    "        pill_detailedInfo, proxies_pool = Get_py.get_onePill_APP(hdr, pillcode, F, proxies_pool, time_out=time_out)\n",
    "    except ValueError as e:\n",
    "        if F is not None:\n",
    "            write_error(F, pillcode, e)\n",
    "        try:\n",
    "            pill_detailedInfo, proxies_pool = Get_py.get_onePill_APP(hdr, pillcode, F, proxies_pool, time_out=time_out)\n",
    "        except ValueError as e:\n",
    "            if F is not None:\n",
    "                write_error(F, pillcode, e)\n",
    "            pill_detailedInfo = None\n",
    "        except (requests.exceptions.ChunkedEncodingError) as e:\n",
    "            if F is not None:\n",
    "                write_error(F, pillcode, e)\n",
    "#             else:\n",
    "            pill_detailedInfo = None\n",
    "    except (requests.exceptions.ChunkedEncodingError) as e:\n",
    "        if F is not None:\n",
    "            write_error(F, pillcode, e)\n",
    "        try:\n",
    "            pill_detailedInfo, proxies_pool = Get_py.get_onePill_APP(hdr, pillcode, F, proxies_pool, time_out=time_out)\n",
    "        except ValueError as e:\n",
    "            if F is not None:\n",
    "                write_error(F, pillcode, e)\n",
    "            pill_detailedInfo = None\n",
    "        except (requests.exceptions.ChunkedEncodingError) as e:\n",
    "            if F is not None:\n",
    "                write_error(F, pillcode, e)\n",
    "#         else:\n",
    "            pill_detailedInfo = None\n",
    "#     return pill_detailedInfo, proxies_pool\n",
    "    return pill_detailedInfo"
   ]
  },
  {
   "cell_type": "code",
   "execution_count": 5,
   "metadata": {
    "collapsed": true
   },
   "outputs": [],
   "source": [
    "def insert_state(outputs):\n",
    "    for pill_detailedInfo in outputs:\n",
    "        if pill_detailedInfo is not None:\n",
    "            db_name=\"db_teld\"\n",
    "            user_name=\"postgres\"\n",
    "            password = \"postgres\"\n",
    "            host=\"127.0.0.1\"\n",
    "            port=\"5432\"\n",
    "            conn = indb.init_db(db_name, user_name, password, host, port)\n",
    "            pillCode = str(pill_detailedInfo['pillCode'])\n",
    "            stateCode = str(pill_detailedInfo['stateCode'])\n",
    "            stateCodeV3 = str(pill_detailedInfo['stateCodeV3'])\n",
    "            if pill_detailedInfo['stateName'] is not None:\n",
    "                stateName = str(pill_detailedInfo['stateName'].encode('utf-8'))\n",
    "            else:\n",
    "                stateName = ''\n",
    "            if pill_detailedInfo['stateNameV3'] is not None:\n",
    "                stateNameV3 = str(pill_detailedInfo['stateNameV3'].encode('utf-8'))\n",
    "            else:\n",
    "                stateNameV3 = ''\n",
    "            conn = Insert_py.insert_state_info(conn, pillCode, stateCode, stateName, stateCodeV3, stateNameV3)\n",
    "            conn.close()"
   ]
  },
  {
   "cell_type": "code",
   "execution_count": 6,
   "metadata": {},
   "outputs": [
    {
     "name": "stdout",
     "output_type": "stream",
     "text": [
      "3128\n",
      "6\n",
      "8866\n"
     ]
    }
   ],
   "source": [
    "# ##------- Every once a while runs it update station and pile fixed info -------##\n",
    "# #--------------------------------------------#\n",
    "# #------- Gather all stations  -------# ****NEED TO BE FIXED 09.17.2017\n",
    "# station_info = Get_py.get_allStations(hdr)\n",
    "# print(len(station_info))\n",
    "# for station in station_info:\n",
    "#     stationId = str(station['id'])  \n",
    "# #     print(stationId)\n",
    "#     #------- Gather individual stations details -------#\n",
    "#     station_detailedInfo = Get_py.get_oneStation_APP(hdr, stationId)\n",
    "#     conn = Insert_py.insert_singStation_details(conn, station_detailedInfo)\n",
    "#     #------- Gather individual pile code -------#\n",
    "#     piles_info = Get_py.get_piles(stationId, proxies_pool, hdr)\n",
    "#     conn = Insert_py.insert_pilecode(conn, stationId, piles_info)\n",
    "# #------- Gather inidividual pile details -------#\n",
    "# #------- Request stationid which has user activities from db -------#\n",
    "try:\n",
    "    cur = conn.cursor()\n",
    "    cur.execute(\"select distinct stationid from tbl_app_useractivity;\")\n",
    "    stationWithAct_list = cur.fetchall()\n",
    "    cur.close()\n",
    "except psycopg2.Error as e:\n",
    "    print(e)\n",
    "print(len(stationWithAct_list))\n",
    "# #------- Request pilecode from db for states -------#\n",
    "staid_list = []\n",
    "for staid in stationWithAct_list:\n",
    "    staid_list.append(staid[0])\n",
    "try:\n",
    "    cur = conn.cursor()\n",
    "#     sta_list = ['dd4a3ddc-e1b0-4e2e-b7ca-faef627f4e66']\n",
    "    #1. beijing hangkong jingmi jixie yanjiusuo chongdianzhan --'2b3a35d4-cb94-4b8f-a47a-bbb054754066',\n",
    "    #2. beijing xijiao bingguan chongdianzhan -- '1d02640a-7f14-4fc3-baaf-60754a38fff7\n",
    "    #3. beijing yangguanglicheng jiudian chongdianzhan --'ac6cb946-5fff-491b-859e-55cc5f701657',\n",
    "    #4. beijing rongtao gongsi chongdianzhan -- '32d317a9-3d0c-4458-8357-89a2b3b1cf94'\n",
    "#     stmt = \"select pilecode from tbl_APP_pilecode where staid in %s\"\n",
    "#     cur.execute(stmt, (tuple(sta_list),))\n",
    "    \n",
    "    stmt = \"select pilecode from tbl_APP_pilecode where staid = 'dd4a3ddc-e1b0-4e2e-b7ca-faef627f4e66'\"\n",
    "    cur.execute(stmt)\n",
    "#     cur.execute(\"select pilecode from tbl_APP_pilecode\")\n",
    "    pillcode_list = cur.fetchall()\n",
    "    cur.close()\n",
    "except psycopg2.Error as e:\n",
    "    print(e)\n",
    "print(len(pillcode_list))\n",
    "\n",
    "# # ------- Requests stationID from db for user charging activities -------#\n",
    "try:\n",
    "    cur = conn.cursor()\n",
    "    cur.execute(\"select stationid from tbl_app_eachstations;\")\n",
    "    station_list = cur.fetchall()\n",
    "    cur.close()\n",
    "except psycopg2.Error as e:\n",
    "    print(e)\n",
    "print(len(station_list))\n",
    "\n",
    "# reportTime = datetime.datetime.now() + datetime.timedelta(minutes=15)\n",
    "# i = 0\n",
    "# for pile in pilecode_list:\n",
    "#     #If encounter error, try one more request with a different proxy\n",
    "#     try:\n",
    "#         pile_detailedInfo, proxies_pool = Get_py.get_onePile_APP(F, hdr, pile[0], proxies_pool, time_out=1000)\n",
    "#     except ValueError as e:\n",
    "#         try:\n",
    "#             pile_detailedInfo, proxies_pool = Get_py.get_onePile_APP(F, hdr, pile[0], proxies_pool, time_out=1000)\n",
    "#         except ValueError as e:\n",
    "#             pile_detailedInfo = None\n",
    "#         except (requests.exceptions.ChunkedEncodingError) as e:\n",
    "#             pile_detailedInfo = None\n",
    "#     except (requests.exceptions.ChunkedEncodingError) as e:\n",
    "#         try:\n",
    "#             pile_detailedInfo, proxies_pool = Get_py.get_onePile_APP(F, hdr, pile[0], proxies_pool, time_out=1000)\n",
    "#         except ValueError as e:\n",
    "#             pile_detailedInfo = None\n",
    "#         except (requests.exceptions.ChunkedEncodingError) as e:\n",
    "#             pile_detailedInfo = None\n",
    "#     if pile_detailedInfo is not None:\n",
    "#         conn = Insert_py.insert_singPile_details(conn, pile_detailedInfo)\n",
    "#     else:\n",
    "#         print(\"Running None Func.\")\n",
    "#         conn = Insert_py.insert_singPile_none(conn, pile_detailedInfo, pile[0])\n",
    "#     i += 1\n",
    "#     if datetime.datetime.now() >= reportTime:\n",
    "#         reportTime = datetime.datetime.now() + datetime.timedelta(minutes=15) \n",
    "#         print(\"Successfully run {} piles\".format(i))\n",
    "# #211 Running None Func.\n",
    "# #71585 piles."
   ]
  },
  {
   "cell_type": "code",
   "execution_count": 7,
   "metadata": {
    "collapsed": true,
    "scrolled": true
   },
   "outputs": [],
   "source": [
    "## ----- Test for single looping of multiprocessing post_request and insert -----##\n",
    "\n",
    "# pid = os.getpid()\n",
    "# py = psutil.Process(pid)\n",
    "# memoryUse = py.memory_info()[0]/2.**20 #in MB\n",
    "# print('Before runnning script, memory use:', memoryUse, 'MB')\n",
    "# # loop_num = 1\n",
    "# # max_proc =10000\n",
    "# pool = Pool(200)\n",
    "# t = time.time()\n",
    "# if __name__ == '__main__':\n",
    "#     results = [pool.apply_async(pillState_scrap, (pillcode[0],)) for pillcode in pillcode_list]\n",
    "#     print(len(results))\n",
    "#     outputs = [p.get() for p in results]\n",
    "# print(\"success, time costs is \" + str(time.time()-t)) \n",
    "\n",
    "# pid = os.getpid()\n",
    "# py = psutil.Process(pid)\n",
    "# memoryUse = py.memory_info()[0]/2.**20 #in MB\n",
    "# print('After runnning script,memory use:', memoryUse, 'MB')"
   ]
  },
  {
   "cell_type": "code",
   "execution_count": 7,
   "metadata": {},
   "outputs": [
    {
     "name": "stdout",
     "output_type": "stream",
     "text": [
      "1101160216102\n",
      "1101160216101\n",
      "1101160216103\n",
      "1101160216104\n",
      "1101160216106\n",
      "1101160216105\n"
     ]
    }
   ],
   "source": [
    "for pillcode in pillcode_list:\n",
    "    print(pillcode[0])"
   ]
  },
  {
   "cell_type": "code",
   "execution_count": 9,
   "metadata": {
    "scrolled": true
   },
   "outputs": [
    {
     "name": "stdout",
     "output_type": "stream",
     "text": [
      "{\"ip\":\"51.15.70.226\"}\n"
     ]
    },
    {
     "ename": "NameError",
     "evalue": "name 'hdr' is not defined",
     "output_type": "error",
     "traceback": [
      "\u001b[0;31m---------------------------------------------------------------------------\u001b[0m",
      "\u001b[0;31mNameError\u001b[0m                                 Traceback (most recent call last)",
      "\u001b[0;32m<ipython-input-9-7fb8bfa79eef>\u001b[0m in \u001b[0;36m<module>\u001b[0;34m()\u001b[0m\n\u001b[1;32m     12\u001b[0m \u001b[0;31m#     outputs = [p.get() for p in results]\u001b[0m\u001b[0;34m\u001b[0m\u001b[0;34m\u001b[0m\u001b[0m\n\u001b[1;32m     13\u001b[0m     \u001b[0;32mfor\u001b[0m \u001b[0mpillcode\u001b[0m \u001b[0;32min\u001b[0m \u001b[0mpillcode_list\u001b[0m\u001b[0;34m:\u001b[0m\u001b[0;34m\u001b[0m\u001b[0m\n\u001b[0;32m---> 14\u001b[0;31m         \u001b[0mpill_detailedInfo\u001b[0m \u001b[0;34m=\u001b[0m \u001b[0mGet_py\u001b[0m\u001b[0;34m.\u001b[0m\u001b[0mget_onePill_APP\u001b[0m\u001b[0;34m(\u001b[0m\u001b[0mhdr\u001b[0m\u001b[0;34m,\u001b[0m \u001b[0mpillCode\u001b[0m\u001b[0;34m[\u001b[0m\u001b[0;36m0\u001b[0m\u001b[0;34m]\u001b[0m\u001b[0;34m)\u001b[0m\u001b[0;34m\u001b[0m\u001b[0m\n\u001b[0m\u001b[1;32m     15\u001b[0m         \u001b[0moutputs\u001b[0m\u001b[0;34m.\u001b[0m\u001b[0mappend\u001b[0m\u001b[0;34m(\u001b[0m\u001b[0mpill_detailedInfo\u001b[0m\u001b[0;34m)\u001b[0m\u001b[0;34m\u001b[0m\u001b[0m\n\u001b[1;32m     16\u001b[0m     \u001b[0minsert_state\u001b[0m\u001b[0;34m(\u001b[0m\u001b[0moutputs\u001b[0m\u001b[0;34m)\u001b[0m\u001b[0;34m\u001b[0m\u001b[0m\n",
      "\u001b[0;31mNameError\u001b[0m: name 'hdr' is not defined"
     ]
    }
   ],
   "source": [
    "# pool = Pool(processes=2)\n",
    "endTime = datetime.datetime.now() + datetime.timedelta(hours=12)\n",
    "hdr = {\n",
    "        'accept': \"*/*\",\n",
    "        'user-agent': \"Teld/3.3.0 (iPhone; iOS 10.3.3; Scale/2.00)\",\n",
    "        'cookie': \"TELDAppID=\",\n",
    "        'content-length': \"111\",\n",
    "        'connection': \"keep-alive\",\n",
    "        'accept-encoding': \"gzip, deflate\",\n",
    "        'device': \"app_version=3.3.0&os_version=10.3.3&client=ios&device_name=iPhone 6s (A1633/A1688/A1691/A1700)&device_id=38CD294C-CC36-4998-9074-C7F798EE6087&city_code=4403&city_name=%E6%B7%B1%E5%9C%B3&lat=0.000000&lng=0.000000&network=wifi&location_city_name=\",\n",
    "        'host': \"basesg.teld.cn\",\n",
    "        'content-type': \"application/x-www-form-urlencoded\",\n",
    "        'cache-control': \"no-cache\"\n",
    "        }\n",
    "while True:\n",
    "    if datetime.datetime.now() >= endTime:\n",
    "            break\n",
    "    Tor.renewTor()\n",
    "    Tor.connectTor()\n",
    "    Tor.showmyIp()\n",
    "    t = time.time()\n",
    "    outputs=[]\n",
    "#     results = [pool.apply_async(pillState_scrap, (pillcode[0],)) for pillcode in pillcode_list]\n",
    "#     outputs = [p.get() for p in results]\n",
    "    for pillcode in pillcode_list:\n",
    "        pill_detailedInfo = Get_py.get_onePill_APP(hdr, pillCode[0])\n",
    "        outputs.append(pill_detailedInfo)\n",
    "    insert_state(outputs)\n",
    "    print(\"Takes \"+str(time.time()-t)+\" seconds\")\n",
    "    print(\"sleeping...\")\n",
    "    time.sleep(random.randint(600, 900))\n",
    "    print(\"waking up!\")"
   ]
  },
  {
   "cell_type": "code",
   "execution_count": null,
   "metadata": {
    "collapsed": true
   },
   "outputs": [],
   "source": [
    "pid = os.getpid()\n",
    "py = psutil.Process(pid)\n",
    "memoryUse = py.memory_info()[0]/2.**20 #in MB\n",
    "print('Before runnning script, memory use:', memoryUse, 'MB')\n",
    "pool = Pool(100)\n",
    "t = time.time()\n",
    "if __name__ == '__main__':\n",
    "    results = [pool.apply_async(insert_state, (pill_detailedInfo,)) for pill_detailedInfo in outputs]\n",
    "    print(len(results))\n",
    "    outputs = [p.get() for p in results]\n",
    "print(\"success, time costs is \" + str(time.time()-t)) \n",
    "pid = os.getpid()\n",
    "py = psutil.Process(pid)\n",
    "memoryUse = py.memory_info()[0]/2.**20 #in MB\n",
    "print('After runnning script, memory use:', memoryUse, 'MB')"
   ]
  }
 ],
 "metadata": {
  "kernelspec": {
   "display_name": "Python 2",
   "language": "python",
   "name": "python2"
  },
  "language_info": {
   "codemirror_mode": {
    "name": "ipython",
    "version": 2
   },
   "file_extension": ".py",
   "mimetype": "text/x-python",
   "name": "python",
   "nbconvert_exporter": "python",
   "pygments_lexer": "ipython2",
   "version": "2.7.13"
  }
 },
 "nbformat": 4,
 "nbformat_minor": 2
}
