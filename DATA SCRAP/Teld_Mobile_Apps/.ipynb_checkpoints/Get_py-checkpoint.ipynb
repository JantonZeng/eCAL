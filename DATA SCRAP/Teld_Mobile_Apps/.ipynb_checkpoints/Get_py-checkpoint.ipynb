{
 "cells": [
  {
   "cell_type": "code",
   "execution_count": 2,
   "metadata": {
    "collapsed": true
   },
   "outputs": [],
   "source": [
    "import requests\n",
    "import random"
   ]
  },
  {
   "cell_type": "code",
   "execution_count": 2,
   "metadata": {
    "collapsed": false
   },
   "outputs": [],
   "source": [
    "def get_station(header, start_page=1, end_page=2, row_nmb=10):\n",
    "    \"\"\"\n",
    "    return a list of dictionaries that contains charging station info\n",
    "    \"\"\"\n",
    "    curr_page = start_page #specify starting page to scrape, usually it is page 1.\n",
    "    page_end = end_page  #specify the page wanted to end scraping. Don't worry if number is too large, \n",
    "                                                                                        #we ends when page is empty.\n",
    "    row_nmb = row_nmb  #specify how many rows per request returns.\n",
    "    station_info = []  #summarizing all the station location data.\n",
    "    \n",
    "    #Starting iteration going over website to scrape station locations\n",
    "    while curr_page <= page_end:\n",
    "        REQUEST_URL = 'https://www.teld.cn/StationNetwork/GetStationNetword?ProvinceName=&CityName=&KeyWords=&\\\n",
    "RegionName=&type=&page={}'.format(curr_page) + '&rows={}'.format(row_nmb)\n",
    "        resp = requests.get(REQUEST_URL, headers=header)\n",
    "        curr_page += 1\n",
    "        json_requestData = resp.json()\n",
    "        station_info = station_info + json_requestData['rows']\n",
    "    return station_info"
   ]
  },
  {
   "cell_type": "code",
   "execution_count": 3,
   "metadata": {
    "collapsed": false
   },
   "outputs": [],
   "source": [
    "def get_piles(station_code, proxies_pool, header, time_out=20):\n",
    "    \"\"\"\n",
    "    return json object containing piles information\n",
    "    \"pile code\" format - string, station_info[0]['code']\n",
    "    \"\"\"\n",
    "    STATION_URL = 'https://www.teld.cn/StationNetwork/GetChargingStationByCodeList?StationNo='+ station_code\n",
    "    proxy_idx = random.randint(0,len(proxies_pool)-1)\n",
    "#     print(proxy_idx)\n",
    "#     try:\n",
    "    resp = requests.get(STATION_URL, proxies=proxies_pool[proxy_idx], headers=header, timeout=time_out)\n",
    "#     except Exception, e:\n",
    "      \n",
    "    pile_info = resp.json()\n",
    "    return pile_info"
   ]
  },
  {
   "cell_type": "code",
   "execution_count": 99,
   "metadata": {
    "collapsed": false
   },
   "outputs": [],
   "source": [
    "#-----GET ALL THE STATONS IN ONE LIST-----#\n",
    "def get_allStations(hdr):\n",
    "    \"\"\"\n",
    "    Input:\n",
    "        hdr - dictionary, detailed spec for headers\n",
    "    Output:\n",
    "        stations_list - list, containing all stations info from website, each in format of dict\n",
    "    Each station has seven attribute: isInterconnection, name, address, \n",
    "                                isFast, stationType, lat, lng, id\n",
    "    \"\"\"\n",
    "    REQUEST_URL = 'http://baseapi.teld.cn/api/GetAllStations/StaV3?coordinateType=gaode'\n",
    "    stations_resp = requests.get(REQUEST_URL, headers=hdr)\n",
    "    json_requestData = stations_resp.json()\n",
    "    stations_list = json_requestData['data']['stations']\n",
    "    return stations_list"
   ]
  },
  {
   "cell_type": "code",
   "execution_count": 131,
   "metadata": {
    "collapsed": true
   },
   "outputs": [],
   "source": [
    "hdr = {'User-Agent':'Mozilla/5.0 (Macintosh; Intel Mac OS X 10_12_5) AppleWebKit/537.36 (KHTML, like Gecko) Chrome/\\\n",
    "59.0.3071.115 Safari/537.36', \n",
    "       'Accept':'text/html,application/xhtml+xml,application/xml;q=0.9,image/webp,image/apng,*/*;q=0.8'}\n",
    "REQUEST_URL = 'http://baseapi.teld.cn/api/GetAllStations/StaV3?coordinateType=gaode'\n",
    "# files = {'file': open('teld_app_test.txt', 'rb')}\n",
    "stations_resp = requests.get(REQUEST_URL, headers=hdr)\n",
    "json_requestData = stations_resp.json()"
   ]
  },
  {
   "cell_type": "code",
   "execution_count": 136,
   "metadata": {
    "collapsed": false
   },
   "outputs": [
    {
     "name": "stdout",
     "output_type": "stream",
     "text": [
      "isInterconnection       N\n",
      "name       北京经开荣京道充电站\n",
      "address       北京市市辖区大兴区经济技术开发区地盛北街1号地下二层停车场\n",
      "isFast       Y\n",
      "stationType       公共站\n",
      "lat       39.785593\n",
      "lng       116.497084\n",
      "id       96854d4a-344f-44a1-bcaf-ae73fa82d114\n"
     ]
    }
   ],
   "source": [
    "for i in json_requestData['data']['stations'][1].keys():\n",
    "    print i, '     ', json_requestData['data']['stations'][1][i]"
   ]
  },
  {
   "cell_type": "code",
   "execution_count": 143,
   "metadata": {
    "collapsed": false
   },
   "outputs": [
    {
     "data": {
      "text/plain": [
       "'\\xe5\\x85\\xac\\xe5\\x85\\xb1\\xe7\\xab\\x99'"
      ]
     },
     "execution_count": 143,
     "metadata": {},
     "output_type": "execute_result"
    }
   ],
   "source": [
    "str(json_requestData['data']['stations'][1]['stationType'].encode('utf-8'))"
   ]
  },
  {
   "cell_type": "code",
   "execution_count": 106,
   "metadata": {
    "collapsed": false
   },
   "outputs": [],
   "source": [
    "# json_requestData['data']['stations'][7000]"
   ]
  },
  {
   "cell_type": "code",
   "execution_count": 144,
   "metadata": {
    "collapsed": false
   },
   "outputs": [],
   "source": [
    "#-----GET ONE STATION DETAILS-----#\n",
    "def get_oneStation_APP(hdr, stationId):\n",
    "    \"\"\"\n",
    "    Input: \n",
    "        hdr - dictionary, detailed spec for headers\n",
    "        stationId - string, each station's own station code\n",
    "    Output:\n",
    "        station_detailedInfo - dictionary, containing detailed station information, 37 keys\n",
    "    \"\"\"\n",
    "    REQUEST_URL = 'http://baseapi.teld.cn/api/GetStationDetails/StaV3?coordinateType=gaode\\\n",
    "    &lat=0.000000&lng=0.000000&stationId='+ stationId\n",
    "    terminal_resp = requests.get(REQUEST_URL, headers=hdr)\n",
    "    json_requestData = terminal_resp.json()\n",
    "    station_detailedInfo = json_requestData['data']\n",
    "    return station_detailedInfo"
   ]
  },
  {
   "cell_type": "code",
   "execution_count": 259,
   "metadata": {
    "collapsed": false
   },
   "outputs": [],
   "source": [
    "hdr = {'User-Agent':'Mozilla/5.0 (Macintosh; Intel Mac OS X 10_12_5) AppleWebKit/537.36 (KHTML, like Gecko) Chrome/\\\n",
    "59.0.3071.115 Safari/537.36', \n",
    "       'Accept':'text/html,application/xhtml+xml,application/xml;q=0.9,image/webp,image/apng,*/*;q=0.8'}\n",
    "REQUEST_URL = 'http://baseapi.teld.cn/api/GetStationDetails/StaV3?\\\n",
    "coordinateType=gaode&lat=0.000000&lng=0.000000&\\\n",
    "stationId=c09327a9-fe5b-4b4e-9bff-0e50097000e9'\n",
    "terminal_resp = requests.get(REQUEST_URL, headers=hdr)\n",
    "json_requestData = terminal_resp.json()\n",
    "station_detailedInfo = json_requestData['data']"
   ]
  },
  {
   "cell_type": "code",
   "execution_count": 251,
   "metadata": {
    "collapsed": false
   },
   "outputs": [
    {
     "name": "stdout",
     "output_type": "stream",
     "text": [
      "isInterconnection   -----   False\n",
      "businessHours   -----   周一至周日00:00-24:00\n",
      "operatorPhone   -----   4001-300-001\n",
      "outNetworkTerminalNum   -----   0\n",
      "usingTerminalNum   -----   1\n",
      "advertisementHtml   -----   \n",
      "advertisementImg   -----   \n",
      "positionDesc   -----   靠近江边5号楼地下负一层（只限对业主和访客开放）\n",
      "serviceScore   -----   3.0\n",
      "stationAddress   -----   广东省深圳市龙岗区深汕公路与深汕高速交汇处（双龙站B出口转同乐方向）\n",
      "fastTerminalIdleNum   -----   0\n",
      "lng   -----   114.302623\n",
      "parkFee   -----   \n",
      "specialDesc   -----   \n",
      "isTeldPersonalTerminal   -----   True\n",
      "fastTerminalNum   -----   0\n",
      "specialDescV3   -----   \n",
      "operatorName   -----   深圳特来电新能源有限公司\n",
      "score   -----   3.8\n",
      "slowTerminalIdleNum   -----   1\n",
      "collected   -----   N\n",
      "priceScore   -----   3.6\n",
      "environmentScore   -----   3.7\n",
      "tags   -----   [{u'tagLabel': u'\\u81ea\\u8425', u'tagColor': u'00a6ca'}]\n",
      "payType   -----   本APP，特来电微信公众号\n",
      "defaultImg   -----   https://resource.teld.cn/teldimage/115/57be2b78b95f4e24941c68c5e190a3b4.jpg\n",
      "priceDesc   -----   电费0.2794-1.0759元/度,服务费0.7000元/度\n",
      "hasLock   -----   N\n",
      "stationName   -----   深圳中骏四季阳光充电站\n",
      "stationType   -----   公共站\n",
      "lat   -----   22.721982\n",
      "distance   -----   \n",
      "isPersonalTerminal   -----   False\n",
      "imageSize   -----   2\n",
      "slowTerminalNum   -----   2\n",
      "stationId   -----   c09327a9-fe5b-4b4e-9bff-0e50097000e9\n",
      "positionimgs   -----   []\n"
     ]
    }
   ],
   "source": [
    "# for i in station_detailedInfo.keys():\n",
    "#     print i, ' = str(station_detailedInfo[\\'%s\\'])' % (i)\n",
    "# for i in station_detailedInfo.keys():\n",
    "#     print i+',',\n",
    "for i in station_detailedInfo.keys():\n",
    "    print i,'  -----  ', station_detailedInfo[i]\n",
    "# print str(station_detailedInfo['payType'].encode('utf-8'))\n",
    "# if station_detailedInfo['specialDesc'] is None :\n",
    "#     print 1\n",
    "# else:\n",
    "#     print 2\n",
    "# collected  = str(station_detailedInfo['specialDesc'].encode('utf-8'))\n",
    "# print(collected)"
   ]
  },
  {
   "cell_type": "code",
   "execution_count": 243,
   "metadata": {
    "collapsed": false
   },
   "outputs": [
    {
     "name": "stdout",
     "output_type": "stream",
     "text": [
      "c09327a9-fe5b-4b4e-9bff-0e50097000e9\n"
     ]
    }
   ],
   "source": [
    "print(json_requestData['data']['stationId'])"
   ]
  },
  {
   "cell_type": "code",
   "execution_count": 139,
   "metadata": {
    "collapsed": false
   },
   "outputs": [],
   "source": [
    "#------GET PILES ID FROM TERMINAL-----#\n",
    "# hdr = {'User-Agent':'Mozilla/5.0 (Macintosh; Intel Mac OS X 10_12_5) AppleWebKit/537.36 (KHTML, like Gecko) Chrome/\\\n",
    "# 59.0.3071.115 Safari/537.36', \n",
    "#        'Accept':'text/html,application/xhtml+xml,application/xml;q=0.9,image/webp,image/apng,*/*;q=0.8'}\n",
    "# #        'Host':'baseapi.teld.cn',\n",
    "# #        'Content-Type':'application/x-www-form-urlencoded',\n",
    "# #        'Accept':'*/*',\n",
    "# #        'Connection':'keep-alive',\n",
    "# #        'Device':'app_version=3.3.0&os_version=10.3.3&client=iso&device_name=iphone 6s',\n",
    "# #        'User-Agent':'Teld/3.3.0 (iPhone; ios 10.3.3; Scale/2.00)',\n",
    "# #        'Accept-Language':'en-US;q=1, zh-Hans-US;q=0.9, ko-KR;q=0.8, zh-Hant-US;q=0.7',\n",
    "# #        'Content-Length':'64',\n",
    "# #        'Accept-Encoding':'gzip,deflate'}\n",
    "# REQUEST_URL = 'http://baseapi.teld.cn/api/GetTerminalOfStation/StaV3?keyword=&orderBy=&stationId=045725c3-1b23-4108-837d-77dfb6b53e7d'\n",
    "# pile_resp = requests.post(REQUEST_URL, headers=hdr)\n",
    "# json_requestData = pile_resp.json()"
   ]
  },
  {
   "cell_type": "code",
   "execution_count": 97,
   "metadata": {
    "collapsed": false
   },
   "outputs": [],
   "source": [
    "#-----GET ONE CHARGING PILE DETAILS FROM TERMINAL-----#\n",
    "def get_onePile_APP(header, pileCode):\n",
    "    \"\"\"\n",
    "    Input:\n",
    "        hdr - dictionary, detailed spec for headers\n",
    "        pileCode - string, each charging pile has its own pile code\n",
    "    Output:\n",
    "        pile_detailedInfo - dictionary, containing detailed station information, 49 keys\n",
    "    \"\"\"\n",
    "    REQUEST_URL = 'http://baseapi.teld.cn/api/GetPillDetails/StaV2?pillCode='+pileCode\n",
    "    pile_resp = requests.get(REQUEST_URL, headers=hdr)\n",
    "    json_requestData = pile_resp.json()\n",
    "    pile_detailedInfo = json_requestData['data']['terminal']\n",
    "    return pile_detailedInfo"
   ]
  },
  {
   "cell_type": "code",
   "execution_count": 258,
   "metadata": {
    "collapsed": false
   },
   "outputs": [],
   "source": [
    "hdr = {'User-Agent':'Mozilla/5.0 (Macintosh; Intel Mac OS X 10_12_5) AppleWebKit/537.36 (KHTML, like Gecko) Chrome/\\\n",
    "59.0.3071.115 Safari/537.36', \n",
    "       'Accept':'text/html,application/xhtml+xml,application/xml;q=0.9,image/webp,image/apng,*/*;q=0.8'}\n",
    "REQUEST_URL = 'http://baseapi.teld.cn/api/GetPillDetails/StaV2?\\\n",
    "pillCode=4403070007101'\n",
    "pile_resp = requests.get(REQUEST_URL, headers=hdr)\n",
    "json_requestData = pile_resp.json()"
   ]
  },
  {
   "cell_type": "code",
   "execution_count": 255,
   "metadata": {
    "collapsed": false
   },
   "outputs": [
    {
     "name": "stdout",
     "output_type": "stream",
     "text": [
      "interconnectionId   -----   \n",
      "isInterconnection   -----   N\n",
      "allowEconomyCharge   -----   False\n",
      "isMyPersonalTerminal   -----   False\n",
      "stateName   -----   空闲\n",
      "pillCode   -----   4403070007101\n",
      "tag   -----   国标2011 60kW\n",
      "voltage   -----   200V-500V\n",
      "parkFee   -----   免费（以场站方公告为准）\n",
      "OpstateName   -----   运营中\n",
      "pillID   -----   f7e89e19-4b62-4537-96fd-6c06488fd2dc\n",
      "Description   -----   00:00~24:00:0.700000:00~24:00:1.0500\n",
      "specialDesc   -----   \n",
      "notOpenOutside   -----   N\n",
      "isMoneyNotEnough   -----   False\n",
      "allowLimitCharge   -----   False\n",
      "specialDescV3   -----   \n",
      "OpState   -----   3\n",
      "isTeldPersonalTerminal   -----   True\n",
      "isFast   -----   Y\n",
      "carPark   -----   无\n",
      "pillName   -----   101号直流\n",
      "allowOrderCharge   -----   False\n",
      "allowCharge   -----   True\n",
      "canChargeMoney   -----   0\n",
      "orderTime   -----   \n",
      "ChargingPort   -----   国标2011 \n",
      "power   -----   15kW-60kW\n",
      "stateNameV3   -----   空闲\n",
      "chargeApplyTime   -----   95\n",
      "linkPhone   -----   4001300001\n",
      "payType   -----   本APP，特来电微信公众号\n",
      "priceDesc   -----   电费:00:00~24:00:1.0500;服务费:00:00~24:00:0.7000\n",
      "staName   -----   深圳市大鹏海舍假日充电站\n",
      "prices   -----   [{u'servicePrice': u'0.7000', u'timeRange': u'00:00-24:00', u'electricPrice': u'1.0500', u'startTime': u'00:00'}]\n",
      "chargeUserId   -----   \n",
      "dataCenterLocation   -----   BJ\n",
      "stateCodeV3   -----   01\n",
      "priceSize   -----   1\n",
      "isPersonalTerminal   -----   False\n",
      "powerAuxiliary   -----   12V\n",
      "hasCollected   -----   N\n",
      "chargeUserName   -----   \n",
      "pillNameV3   -----   101号\n",
      "terminalType   -----   直流快充\n",
      "isHintRecharge   -----   False\n",
      "staID   -----   45b19eef-e36d-483c-96f4-ba86487d0f9b\n",
      "directCharge   -----   N\n",
      "stateCode   -----   02\n"
     ]
    }
   ],
   "source": [
    "for i in json_requestData['data']['terminal'].keys():\n",
    "    print i, '  -----  ', json_requestData['data']['terminal'][i]"
   ]
  },
  {
   "cell_type": "code",
   "execution_count": 240,
   "metadata": {
    "collapsed": false
   },
   "outputs": [
    {
     "data": {
      "text/plain": [
       "10"
      ]
     },
     "execution_count": 240,
     "metadata": {},
     "output_type": "execute_result"
    }
   ],
   "source": [
    "len(json_requestData['data']['terminal']['linkPhone'])"
   ]
  },
  {
   "cell_type": "code",
   "execution_count": 241,
   "metadata": {
    "collapsed": false
   },
   "outputs": [
    {
     "name": "stdout",
     "output_type": "stream",
     "text": [
      "c09327a9-fe5b-4b4e-9bff-0e50097000e9\n"
     ]
    }
   ],
   "source": [
    "print(json_requestData['data']['terminal']['staID'])"
   ]
  },
  {
   "cell_type": "code",
   "execution_count": 121,
   "metadata": {
    "collapsed": false
   },
   "outputs": [
    {
     "name": "stdout",
     "output_type": "stream",
     "text": [
      "0497f693-096b-499d-9969-d5b0326084c7\n"
     ]
    }
   ],
   "source": [
    "print(json_requestData['data']['terminal']['pillID'])"
   ]
  },
  {
   "cell_type": "code",
   "execution_count": 300,
   "metadata": {
    "collapsed": false
   },
   "outputs": [],
   "source": [
    "hdr = {'User-Agent':'Mozilla/5.0 (Macintosh; Intel Mac OS X 10_12_5) AppleWebKit/537.36 (KHTML, like Gecko) Chrome/\\\n",
    "59.0.3071.115 Safari/537.36', \n",
    "       'Accept':'*/*',\n",
    "       'User-Agent':'Teld/3.3.0(iPhone;iOS 10.3.3;Scale/2.00)',\n",
    "       'Cookie':'TELDSID=5a27131b-9d4f-453d-be37-aba843162dfe'}\n",
    "REQUEST_URL = 'http://baseapi.teld.cn/api/GetChargeListBySta/StaV3?itemNumPerPage=200&\\\n",
    "pageNum=1&staID=d4035b02-5f27-4ae9-b0b1-dd10010f5b7e'\n",
    "pile_resp = requests.get(REQUEST_URL, headers=hdr)\n",
    "json_requestData = pile_resp.json()\n",
    "chargelist = json_requestData['data']['items']"
   ]
  },
  {
   "cell_type": "code",
   "execution_count": 315,
   "metadata": {
    "collapsed": false
   },
   "outputs": [
    {
     "data": {
      "text/plain": [
       "[u'PileName',\n",
       " u'hasCertificate',\n",
       " u'carTypeName',\n",
       " u'userNickName',\n",
       " u'chargeTime']"
      ]
     },
     "execution_count": 315,
     "metadata": {},
     "output_type": "execute_result"
    }
   ],
   "source": [
    "chargelist[1].keys()"
   ]
  },
  {
   "cell_type": "code",
   "execution_count": 314,
   "metadata": {
    "collapsed": false
   },
   "outputs": [
    {
     "name": "stdout",
     "output_type": "stream",
     "text": [
      "101号 ---- 1***8 ---- 55分钟前\n",
      "102号 ---- 一***安 ---- 1小时前\n",
      "103号 ---- Y***O ---- 1小时前\n",
      "102号 ---- Y***O ---- 1小时前\n",
      "106号 ---- 青***人 ---- 2小时前\n",
      "103号 ---- 天***道 ---- 7小时前\n",
      "105号 ---- 1***3 ---- 12小时前\n",
      "103号 ---- 要***电 ---- 14小时前\n",
      "102号 ---- 朱*** ---- 15小时前\n",
      "104号 ---- 1***6 ---- 15小时前\n",
      "103号 ---- 陈***浩 ---- 16小时前\n",
      "105号 ---- 1***3 ---- 18小时前\n",
      "102号 ---- 1***7 ---- 18小时前\n",
      "105号 ---- 1***3 ---- 18小时前\n",
      "103号 ---- 年***人 ---- 19小时前\n",
      "104号 ---- 运***健 ---- 20小时前\n",
      "102号 ---- 萧***平 ---- 20小时前\n",
      "104号 ---- d***t ---- 20小时前\n",
      "104号 ---- 运***健 ---- 22小时前\n",
      "101号 ---- 一***安 ---- 22小时前\n",
      "102号 ---- Y***O ---- 08-14 12:51\n",
      "105号 ---- 青***人 ---- 08-14 11:47\n",
      "103号 ---- 陈***浩 ---- 08-14 11:16\n",
      "102号 ---- 1***6 ---- 08-14 09:34\n",
      "103号 ---- 天***道 ---- 08-14 06:57\n",
      "105号 ---- 1***8 ---- 08-13 20:52\n",
      "102号 ---- h***1 ---- 08-13 20:06\n",
      "104号 ---- 1***6 ---- 08-13 18:20\n",
      "103号 ---- 陈***浩 ---- 08-13 18:11\n",
      "104号 ---- 1***8 ---- 08-13 13:04\n",
      "105号 ---- 1***8 ---- 08-13 12:43\n",
      "104号 ---- 1***8 ---- 08-13 12:32\n",
      "104号 ---- 1***8 ---- 08-13 12:16\n",
      "106号 ---- 青***人 ---- 08-13 11:39\n",
      "106号 ---- 1***5 ---- 08-13 10:18\n",
      "106号 ---- 1***5 ---- 08-13 09:32\n",
      "102号 ---- 天***道 ---- 08-13 08:26\n",
      "106号 ---- 1***5 ---- 08-13 07:33\n",
      "101号 ---- 1***5 ---- 08-13 07:24\n",
      "102号 ---- 天***道 ---- 08-13 07:10\n",
      "104号 ---- 1***2 ---- 08-13 05:26\n",
      "103号 ---- 要***电 ---- 08-13 02:00\n",
      "103号 ---- 陈***浩 ---- 08-12 22:31\n",
      "102号 ---- 1***6 ---- 08-12 21:12\n",
      "101号 ---- 1***4 ---- 08-12 18:55\n",
      "102号 ---- 鬼*** ---- 08-12 18:24\n",
      "103号 ---- 1***2 ---- 08-12 16:52\n",
      "103号 ---- 一***安 ---- 08-12 13:21\n",
      "104号 ---- 行***者 ---- 08-12 12:55\n",
      "102号 ---- 1***7 ---- 08-12 12:15\n",
      "104号 ---- 1***8 ---- 08-12 12:07\n",
      "102号 ---- 1***8 ---- 08-12 11:41\n",
      "103号 ---- 青***人 ---- 08-12 11:33\n",
      "104号 ---- 1***4 ---- 08-12 11:31\n",
      "101号 ---- 陈***浩 ---- 08-12 10:53\n",
      "103号 ---- 1***6 ---- 08-12 10:43\n",
      "103号 ---- 1***7 ---- 08-12 09:07\n",
      "104号 ---- 天***道 ---- 08-12 07:13\n",
      "101号 ---- 一***安 ---- 08-11 21:33\n",
      "102号 ---- l***忠 ---- 08-11 20:59\n",
      "104号 ---- h***h ---- 08-11 20:38\n",
      "103号 ---- 1***5 ---- 08-11 18:56\n",
      "103号 ---- 萧***平 ---- 08-11 17:27\n",
      "103号 ---- 土***豆 ---- 08-11 15:40\n",
      "101号 ---- 1***3 ---- 08-11 15:28\n",
      "102号 ---- 1***2 ---- 08-11 14:38\n",
      "103号 ---- 陈***浩 ---- 08-11 13:33\n",
      "102号 ---- Y***O ---- 08-11 13:32\n",
      "102号 ---- Y***O ---- 08-11 13:20\n",
      "101号 ---- 伍***生 ---- 08-11 13:09\n",
      "105号 ---- 1***6 ---- 08-11 12:57\n",
      "102号 ---- 陈***浩 ---- 08-11 12:06\n",
      "104号 ---- 青***人 ---- 08-11 11:31\n",
      "102号 ---- 清***哥 ---- 08-11 07:31\n",
      "104号 ---- 天***道 ---- 08-11 07:25\n",
      "102号 ---- 1***7 ---- 08-10 20:17\n",
      "104号 ---- 尼***玛 ---- 08-10 19:21\n",
      "104号 ---- 1***9 ---- 08-10 16:49\n",
      "102号 ---- 小***哥 ---- 08-10 16:32\n",
      "101号 ---- 1***5 ---- 08-10 15:15\n",
      "103号 ---- 福***全 ---- 08-10 14:55\n",
      "104号 ---- 充***难 ---- 08-10 13:13\n",
      "101号 ---- 陈***浩 ---- 08-10 12:31\n",
      "103号 ---- 青***人 ---- 08-10 11:56\n",
      "101号 ---- 清***哥 ---- 08-10 07:30\n",
      "102号 ---- 天***道 ---- 08-10 07:04\n",
      "104号 ---- 1***2 ---- 08-10 03:05\n",
      "106号 ---- 1***6 ---- 08-10 02:32\n",
      "103号 ---- 1***1 ---- 08-09 22:33\n",
      "101号 ---- 陈***浩 ---- 08-09 22:11\n",
      "103号 ---- 1***1 ---- 08-09 21:26\n",
      "101号 ---- 1***6 ---- 08-09 20:49\n",
      "103号 ---- 1***2 ---- 08-09 20:35\n",
      "105号 ---- Z***e ---- 08-09 19:00\n",
      "101号 ---- 1***4 ---- 08-09 15:31\n",
      "104号 ---- 1***8 ---- 08-09 15:12\n",
      "102号 ---- 1***6 ---- 08-09 14:10\n",
      "103号 ---- 王***森 ---- 08-09 14:00\n",
      "104号 ---- 小***郑 ---- 08-09 13:34\n",
      "102号 ---- 青***人 ---- 08-09 12:05\n",
      "103号 ---- 1***6 ---- 08-09 12:03\n",
      "102号 ---- 天***道 ---- 08-09 07:00\n",
      "103号 ---- 要***电 ---- 08-09 00:57\n",
      "104号 ---- 1***9 ---- 08-09 00:13\n",
      "104号 ---- 1***0 ---- 08-08 22:48\n",
      "101号 ---- 陈***浩 ---- 08-08 22:10\n",
      "103号 ---- 充***难 ---- 08-08 20:02\n",
      "104号 ---- 1***7 ---- 08-08 19:54\n",
      "101号 ---- 你***好 ---- 08-08 18:19\n",
      "103号 ---- 1***6 ---- 08-08 17:08\n",
      "101号 ---- 1***1 ---- 08-08 15:16\n",
      "Y***O\n",
      "Y***O\n"
     ]
    },
    {
     "data": {
      "text/plain": [
       "True"
      ]
     },
     "execution_count": 314,
     "metadata": {},
     "output_type": "execute_result"
    }
   ],
   "source": [
    "for i in chargelist:\n",
    "    print i['PileName'],'----', i['userNickName'],'----',i['chargeTime']\n",
    "    \n",
    "print(str(chargelist[2]['userNickName']) )\n",
    "print(str(chargelist[3]['userNickName'].encode('utf-8')) )\n",
    "\n",
    "str(chargelist[2]['userNickName']) == str(chargelist[3]['userNickName'])"
   ]
  },
  {
   "cell_type": "code",
   "execution_count": 294,
   "metadata": {
    "collapsed": false
   },
   "outputs": [
    {
     "name": "stdout",
     "output_type": "stream",
     "text": [
      "14小时前\n",
      "1小时前\n"
     ]
    }
   ],
   "source": [
    "print(chargelist[7]['chargeTime'])\n",
    "print(chargelist[2]['chargeTime'])"
   ]
  },
  {
   "cell_type": "code",
   "execution_count": null,
   "metadata": {
    "collapsed": true
   },
   "outputs": [],
   "source": []
  }
 ],
 "metadata": {
  "kernelspec": {
   "display_name": "Python 2",
   "language": "python",
   "name": "python2"
  },
  "language_info": {
   "codemirror_mode": {
    "name": "ipython",
    "version": 2
   },
   "file_extension": ".py",
   "mimetype": "text/x-python",
   "name": "python",
   "nbconvert_exporter": "python",
   "pygments_lexer": "ipython2",
   "version": "2.7.11"
  }
 },
 "nbformat": 4,
 "nbformat_minor": 0
}
