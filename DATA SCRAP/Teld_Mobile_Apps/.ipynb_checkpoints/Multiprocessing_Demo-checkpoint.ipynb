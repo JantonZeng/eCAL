{
 "cells": [
  {
   "cell_type": "code",
   "execution_count": 1,
   "metadata": {
    "collapsed": true
   },
   "outputs": [],
   "source": [
    "from multiprocessing import Process\n",
    "import time"
   ]
  },
  {
   "cell_type": "code",
   "execution_count": 6,
   "metadata": {},
   "outputs": [
    {
     "name": "stdout",
     "output_type": "stream",
     "text": [
      "time.struct_time(tm_year=2017, tm_mon=9, tm_mday=10, tm_hour=17, tm_min=43, tm_sec=39, tm_wday=6, tm_yday=253, tm_isdst=1)\n",
      "time.struct_time(tm_year=2017, tm_mon=9, tm_mday=10, tm_hour=17, tm_min=43, tm_sec=39, tm_wday=6, tm_yday=253, tm_isdst=1)\n",
      "time.struct_time(tm_year=2017, tm_mon=9, tm_mday=10, tm_hour=17, tm_min=43, tm_sec=39, tm_wday=6, tm_yday=253, tm_isdst=1)\n",
      "time.struct_time(tm_year=2017, tm_mon=9, tm_mday=10, tm_hour=17, tm_min=43, tm_sec=39, tm_wday=6, tm_yday=253, tm_isdst=1)\n"
     ]
    }
   ],
   "source": [
    "def timetask(times):\n",
    "    time.sleep(times)\n",
    "    print(time.localtime())\n",
    "    \n",
    "if __name__ == '__main__':\n",
    "    arg = 1\n",
    "    procs = 4\n",
    "    \n",
    "    proc_record = []\n",
    "    for i in range(procs):\n",
    "        p = Process(target=timetask, args=(arg,))\n",
    "        p.start()\n",
    "        proc_record.append(p)\n",
    "#         p.join()\n",
    "    for p in proc_record:\n",
    "        p.join()"
   ]
  },
  {
   "cell_type": "code",
   "execution_count": null,
   "metadata": {
    "collapsed": true
   },
   "outputs": [],
   "source": []
  }
 ],
 "metadata": {
  "kernelspec": {
   "display_name": "Python 2",
   "language": "python",
   "name": "python2"
  },
  "language_info": {
   "codemirror_mode": {
    "name": "ipython",
    "version": 2
   },
   "file_extension": ".py",
   "mimetype": "text/x-python",
   "name": "python",
   "nbconvert_exporter": "python",
   "pygments_lexer": "ipython2",
   "version": "2.7.12"
  }
 },
 "nbformat": 4,
 "nbformat_minor": 2
}
