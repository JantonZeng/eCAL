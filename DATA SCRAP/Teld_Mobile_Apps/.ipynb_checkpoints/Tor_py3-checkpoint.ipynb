{
 "cells": [
  {
   "cell_type": "code",
   "execution_count": 10,
   "metadata": {},
   "outputs": [],
   "source": [
    "import os\n",
    "import requests\n",
    "# import requesocks\n",
    "import time\n",
    "import socket\n",
    "import socks\n",
    "import nbimporter\n",
    "import Get_py"
   ]
  },
  {
   "cell_type": "code",
   "execution_count": 11,
   "metadata": {},
   "outputs": [],
   "source": [
    "def getip_requests(url):\n",
    "    try:\n",
    "        print(\"(+) Sending request with plain requests ...\")\n",
    "        r = requests.get(url)\n",
    "        print(\"(+) IP is: \" + r.text.replace(\"\\n\", \"\"))\n",
    "        return r.text.replace(\"\\n\", \"\")\n",
    "    except Exception as e:\n",
    "        print(Exception, e)\n",
    "        return -1"
   ]
  },
  {
   "cell_type": "code",
   "execution_count": 12,
   "metadata": {
    "collapsed": true
   },
   "outputs": [],
   "source": [
    "def getip_requesocks(url):\n",
    "    try:\n",
    "        print(\"(+) Sending request with requesocks ...\")\n",
    "        session = requesocks.session()\n",
    "        session.proxies = {\n",
    "            'http':'socks5://127.0.0.1:9050',\n",
    "            'https':'socks5://127.0.0.1:9050'\n",
    "        }\n",
    "        r = session.get(url, timeout=30)\n",
    "        print(\"(+) IP is: \" + r.text.replace(\"\\n\", \"\"))\n",
    "        return r.text.replace(\"\\n\", \"\")\n",
    "    except Exception as e:\n",
    "        print(Exception, e)\n",
    "        return -1"
   ]
  },
  {
   "cell_type": "code",
   "execution_count": 13,
   "metadata": {
    "collapsed": true
   },
   "outputs": [],
   "source": [
    "def connectTor():\n",
    "    socks.set_default_proxy(socks.SOCKS5, \"127.0.0.1\", 9050)\n",
    "    socket.socket = socks.socksocket"
   ]
  },
  {
   "cell_type": "code",
   "execution_count": 14,
   "metadata": {
    "collapsed": true
   },
   "outputs": [],
   "source": [
    "def renewTor():\n",
    "    os.system(\"\"\"(echo authenticate '\"mypassword\"'; echo signal newnym; echo quit) | nc localhost 9051\"\"\")"
   ]
  },
  {
   "cell_type": "code",
   "execution_count": 17,
   "metadata": {
    "collapsed": true
   },
   "outputs": [],
   "source": [
    "def showmyIp():\n",
    "    url = \"http://api.ipify.org?format=json\"\n",
    "    r = requests.get(url)\n",
    "    print(r.text.replace(\"\\n\", \"\"))"
   ]
  },
  {
   "cell_type": "code",
   "execution_count": 18,
   "metadata": {
    "collapsed": true
   },
   "outputs": [],
   "source": [
    "def main():\n",
    "    pillCode= '1101160075101'\n",
    "    hdr = {\n",
    "        'accept': \"*/*\",\n",
    "        'user-agent': \"Teld/3.4.0 (iPhone; iOS 10.3.3; Scale/2.00)\",\n",
    "        'cookie': \"TELDAppID=\",\n",
    "        'content-length': \"111\",\n",
    "        'connection': \"keep-alive\",\n",
    "        'accept-encoding': \"gzip, deflate\",\n",
    "        'device': \"app_version=3.4.0&os_version=10.3.3&client=ios&device_name=iPhone 6s (A1633/A1688/A1691/A1700)&device_id=38CD294C-CC36-4998-9074-C7F798EE6087&city_code=4403&city_name=%E6%B7%B1%E5%9C%B3&lat=0.000000&lng=0.000000&network=wifi&location_city_name=\",\n",
    "        'host': \"basesg.teld.cn\",\n",
    "        'content-type': \"application/x-www-form-urlencoded\",\n",
    "        'cache-control': \"no-cache\"\n",
    "    }\n",
    "    renewTor()\n",
    "    connectTor()\n",
    "    showmyIp()\n",
    "    pill_detailedInfo = Get_py.get_onePill_APP(hdr, pillCode)\n",
    "    print(pill_detailedInfo)"
   ]
  },
  {
   "cell_type": "code",
   "execution_count": 19,
   "metadata": {},
   "outputs": [
    {
     "name": "stdout",
     "output_type": "stream",
     "text": [
      "{\"ip\":\"213.61.149.100\"}\n",
      "({'allowCharge': True, 'directCharge': 'N', 'lat': '40.336079', 'parkFee': '免费', 'specialDesc': '', 'powerAuxiliary': '12V', 'allowOrderCharge': False, 'orderTime': '', 'voltage': '200V-500V', 'allowLimitCharge': False, 'carPark': '无', 'chargeUserName': '', 'inBusinessHour': True, 'chargeApplyTime': '95', 'specialDescV3': '', 'stateCode': '02', 'interconnectionId': '', 'Description': '00:00~24:00:0.640000:00~24:00:0.0000', 'pillName': '101号直流', 'power': '30kW-30kW', 'OpstateName': '运营中', 'stateName': '空闲', 'allowEconomyCharge': False, 'canChargeMoney': '10', 'staName': '北京怀柔环保局充电站', 'chargeUserId': '', 'staID': '045725c3-1b23-4108-837d-77dfb6b53e7d', 'isHintRecharge': False, 'businessHourDesc': '00:00-24:00', 'isInterconnection': 'N', 'tag': '国标2011 30kW', 'ChargingPort': '国标2011 ', 'stateNameV3': '空闲', 'inMaintenance': False, 'notOpenOutside': 'Y', 'OpState': '3', 'stateCodeV3': '01', 'payType': '本APP，特来电微信公众号', 'prices': [{'startTime': '00:00', 'timeRange': '00:00-24:00', 'servicePrice': '0.6400', 'electricPrice': '0.0000'}], 'isPersonalTerminal': False, 'hasCollected': 'N', 'linkPhone': '4001300001', 'pillCode': '1101160075101', 'isMyPersonalTerminal': False, 'pillID': '5b403bca-7912-4540-8f06-6c3edd5f430a', 'dataCenterLocation': 'BJ', 'priceDesc': '电费:00:00~24:00:0.0000;服务费:00:00~24:00:0.6400', 'lng': '116.636150', 'isTeldPersonalTerminal': True, 'priceSize': 1, 'isFast': 'Y', 'terminalType': '直流快充', 'pillNameV3': '101号', 'isMoneyNotEnough': False}, None)\n"
     ]
    }
   ],
   "source": [
    "if __name__ == '__main__':\n",
    "    main()"
   ]
  },
  {
   "cell_type": "code",
   "execution_count": null,
   "metadata": {
    "collapsed": true
   },
   "outputs": [],
   "source": []
  }
 ],
 "metadata": {
  "kernelspec": {
   "display_name": "Python 3",
   "language": "python",
   "name": "python3"
  },
  "language_info": {
   "codemirror_mode": {
    "name": "ipython",
    "version": 3
   },
   "file_extension": ".py",
   "mimetype": "text/x-python",
   "name": "python",
   "nbconvert_exporter": "python",
   "pygments_lexer": "ipython3",
   "version": "3.5.4"
  }
 },
 "nbformat": 4,
 "nbformat_minor": 2
}
