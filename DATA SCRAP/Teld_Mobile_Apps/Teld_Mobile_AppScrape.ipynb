{
 "cells": [
  {
   "cell_type": "code",
   "execution_count": 1,
   "metadata": {},
   "outputs": [
    {
     "name": "stdout",
     "output_type": "stream",
     "text": [
      "Importing Jupyter notebook from Proxy_Gatherer.ipynb\n",
      "Importing Jupyter notebook from Init_database.ipynb\n",
      "Importing Jupyter notebook from Insert_py.ipynb\n",
      "Importing Jupyter notebook from Get_py.ipynb\n"
     ]
    }
   ],
   "source": [
    "import json\n",
    "import datetime\n",
    "import time\n",
    "import requests\n",
    "import nbimporter\n",
    "import random\n",
    "import Proxy_Gatherer as pg\n",
    "import Init_database as indb\n",
    "import Insert_py\n",
    "import Get_py\n",
    "import psycopg2"
   ]
  },
  {
   "cell_type": "code",
   "execution_count": 2,
   "metadata": {},
   "outputs": [],
   "source": [
    "# #--------THIS ONLY RUNS ONE TIME TO CREATE A DATABASE FRAMEWORK--------#\n",
    "# import Create_Teld_Database as ctd\n",
    "# db_init = ctd.create_teld_database()"
   ]
  },
  {
   "cell_type": "code",
   "execution_count": 3,
   "metadata": {
    "collapsed": true
   },
   "outputs": [],
   "source": [
    "#--------INITIALIZING CONNECTION TO DATABASE--------#\n",
    "db_name=\"db_teld\"\n",
    "user_name=\"postgres\"\n",
    "password = \"postgres\"\n",
    "host=\"127.0.0.1\"\n",
    "port=\"5432\"\n",
    "conn = indb.init_db(db_name, user_name, password, host, port)"
   ]
  },
  {
   "cell_type": "code",
   "execution_count": 4,
   "metadata": {
    "collapsed": true
   },
   "outputs": [],
   "source": [
    "##------- Specify request header ------- ##\n",
    "\n",
    "hdr = {'User-Agent':'Mozilla/5.0 Chrome/\\\n",
    "59.0.3071.115 Safari/537.36', \n",
    "        'Accept':'text/html,application/xhtml+xml,application/xml;q=0.9,image/webp,image/apng,*/*;q=0.8'}\n",
    "##------- Gathering proxies for visiting teld.cn -------##\n",
    "\n",
    "# gatherproxy = pg.ProxyGatherer(hdr)\n",
    "# proxies = gatherproxy.getproxies()\n",
    "# # t = time.time()\n",
    "# proxies_pool = gatherproxy.proxies_cleanup(proxies) # Could also specify timeout limit you prefer, \n",
    "#                                                                 #format--(connect time, read time)\n",
    "# print(time.time()-t)  ## usually this checking process takes a minute or so and usable proxies are around 80+.\n",
    "proxies_pool=[{'http': '124.239.177.85:8080'}]"
   ]
  },
  {
   "cell_type": "code",
   "execution_count": 5,
   "metadata": {
    "collapsed": true
   },
   "outputs": [],
   "source": [
    "# print(len(proxies_pool))"
   ]
  },
  {
   "cell_type": "code",
   "execution_count": 6,
   "metadata": {
    "collapsed": true
   },
   "outputs": [],
   "source": [
    "# endTime = datetime.datetime.now() + datetime.timedelta(minutes=1)\n",
    "\n",
    "# while True:\n",
    "#     if datetime.datetime.now() >= endTime:\n",
    "#         break\n",
    "#     #--------GATHERING STATIONS DATA FROM APP--------#\n",
    "#     station_info = Get_py.get_allStations(hdr)\n",
    "#     #--------INSERTING STATIONS DATA--------#\n",
    "#     conn = Insert_py.insert_station_info(conn, station_info)\n",
    "#     #--------GATHERING PILE DATA FROM WEBSITE--------#\n",
    "#     for station in station_info:\n",
    "#         piles_info = Get_py.get_piles(station['code'], proxies_pool, hdr)\n",
    "#         conn = Insert_py.insert_pile_info(conn, str(station['code']), piles_info)\n",
    "#     print(\"time for a sleep zz..\")\n",
    "#     time.sleep(30)\n",
    "    "
   ]
  },
  {
   "cell_type": "code",
   "execution_count": 7,
   "metadata": {},
   "outputs": [
    {
     "name": "stdout",
     "output_type": "stream",
     "text": [
      "duplicate key value violates unique constraint \"tbl_app_pilecode_pkey\"\n",
      "DETAIL:  Key (pilecode)=(1140290000005149001) already exists.\n",
      "\n",
      "current transaction is aborted, commands ignored until end of transaction block\n",
      "\n",
      "current transaction is aborted, commands ignored until end of transaction block\n",
      "\n",
      "current transaction is aborted, commands ignored until end of transaction block\n",
      "\n",
      "current transaction is aborted, commands ignored until end of transaction block\n",
      "\n",
      "current transaction is aborted, commands ignored until end of transaction block\n",
      "\n",
      "current transaction is aborted, commands ignored until end of transaction block\n",
      "\n",
      "current transaction is aborted, commands ignored until end of transaction block\n",
      "\n",
      "duplicate key value violates unique constraint \"tbl_app_pilecode_pkey\"\n",
      "DETAIL:  Key (pilecode)=(1101150297102) already exists.\n",
      "\n",
      "current transaction is aborted, commands ignored until end of transaction block\n",
      "\n",
      "current transaction is aborted, commands ignored until end of transaction block\n",
      "\n",
      "current transaction is aborted, commands ignored until end of transaction block\n",
      "\n",
      "current transaction is aborted, commands ignored until end of transaction block\n",
      "\n",
      "current transaction is aborted, commands ignored until end of transaction block\n",
      "\n",
      "current transaction is aborted, commands ignored until end of transaction block\n",
      "\n",
      "current transaction is aborted, commands ignored until end of transaction block\n",
      "\n",
      "current transaction is aborted, commands ignored until end of transaction block\n",
      "\n",
      "current transaction is aborted, commands ignored until end of transaction block\n",
      "\n",
      "current transaction is aborted, commands ignored until end of transaction block\n",
      "\n",
      "current transaction is aborted, commands ignored until end of transaction block\n",
      "\n",
      "current transaction is aborted, commands ignored until end of transaction block\n",
      "\n",
      "current transaction is aborted, commands ignored until end of transaction block\n",
      "\n",
      "current transaction is aborted, commands ignored until end of transaction block\n",
      "\n",
      "current transaction is aborted, commands ignored until end of transaction block\n",
      "\n",
      "current transaction is aborted, commands ignored until end of transaction block\n",
      "\n",
      "current transaction is aborted, commands ignored until end of transaction block\n",
      "\n",
      "current transaction is aborted, commands ignored until end of transaction block\n",
      "\n",
      "current transaction is aborted, commands ignored until end of transaction block\n",
      "\n"
     ]
    },
    {
     "ename": "UnicodeEncodeError",
     "evalue": "'ascii' codec can't encode character u'\\u65e0' in position 0: ordinal not in range(128)",
     "output_type": "error",
     "traceback": [
      "\u001b[0;31m---------------------------------------------------------------------------\u001b[0m",
      "\u001b[0;31mUnicodeEncodeError\u001b[0m                        Traceback (most recent call last)",
      "\u001b[0;32m<ipython-input-7-45f99b53a540>\u001b[0m in \u001b[0;36m<module>\u001b[0;34m()\u001b[0m\n\u001b[1;32m     14\u001b[0m     \u001b[0;32mfor\u001b[0m \u001b[0mpile\u001b[0m \u001b[0;32min\u001b[0m \u001b[0mpiles_info\u001b[0m\u001b[0;34m:\u001b[0m\u001b[0;34m\u001b[0m\u001b[0m\n\u001b[1;32m     15\u001b[0m         \u001b[0mpile_detailedInfo\u001b[0m \u001b[0;34m=\u001b[0m \u001b[0mGet_py\u001b[0m\u001b[0;34m.\u001b[0m\u001b[0mget_onePile_APP\u001b[0m\u001b[0;34m(\u001b[0m\u001b[0mhdr\u001b[0m\u001b[0;34m,\u001b[0m \u001b[0mpile\u001b[0m\u001b[0;34m[\u001b[0m\u001b[0;34m'code'\u001b[0m\u001b[0;34m]\u001b[0m\u001b[0;34m)\u001b[0m\u001b[0;34m\u001b[0m\u001b[0m\n\u001b[0;32m---> 16\u001b[0;31m         \u001b[0mconn\u001b[0m \u001b[0;34m=\u001b[0m \u001b[0mInsert_py\u001b[0m\u001b[0;34m.\u001b[0m\u001b[0minsert_singPile_details\u001b[0m\u001b[0;34m(\u001b[0m\u001b[0mconn\u001b[0m\u001b[0;34m,\u001b[0m \u001b[0mpile_detailedInfo\u001b[0m\u001b[0;34m)\u001b[0m\u001b[0;34m\u001b[0m\u001b[0m\n\u001b[0m",
      "\u001b[0;32m/home/janton/Documents/eCAL/eCAL/DATA SCRAP/Teld_Mobile_Apps/Insert_py.ipynb\u001b[0m in \u001b[0;36minsert_singPile_details\u001b[0;34m(connection, pile_detailedInfo)\u001b[0m\n\u001b[1;32m     17\u001b[0m    \u001b[0;34m\"outputs\"\u001b[0m\u001b[0;34m:\u001b[0m \u001b[0;34m[\u001b[0m\u001b[0;34m]\u001b[0m\u001b[0;34m,\u001b[0m\u001b[0;34m\u001b[0m\u001b[0m\n\u001b[1;32m     18\u001b[0m    \"source\": [\n\u001b[0;32m---> 19\u001b[0;31m     \u001b[0;34m\"def insert_allStation(connection, station_info): \\n\"\u001b[0m\u001b[0;34m,\u001b[0m\u001b[0;34m\u001b[0m\u001b[0m\n\u001b[0m\u001b[1;32m     20\u001b[0m     \u001b[0;34m\"    cur = connection.cursor()\\n\"\u001b[0m\u001b[0;34m,\u001b[0m\u001b[0;34m\u001b[0m\u001b[0m\n\u001b[1;32m     21\u001b[0m     \u001b[0;34m\"    for i in range(len(station_info)): \\n\"\u001b[0m\u001b[0;34m,\u001b[0m\u001b[0;34m\u001b[0m\u001b[0m\n",
      "\u001b[0;31mUnicodeEncodeError\u001b[0m: 'ascii' codec can't encode character u'\\u65e0' in position 0: ordinal not in range(128)"
     ]
    }
   ],
   "source": [
    "##------- Every once a while runs it -------##\n",
    "\n",
    "#------- Gather all stations  -------#\n",
    "station_info = Get_py.get_allStations(hdr)\n",
    "for station in station_info:\n",
    "    stationId = str(station['id'])  \n",
    "    #------- Gather individual stations details -------#\n",
    "    station_detailedInfo = Get_py.get_oneStation_APP(hdr, stationId)\n",
    "    conn = Insert_py.insert_singStation_details(conn, station_detailedInfo)\n",
    "    #------- Gather individual pile code -------#\n",
    "    piles_info = Get_py.get_piles(stationId, proxies_pool, hdr)\n",
    "    conn = Insert_py.insert_pilecode(conn, stationId, piles_info)\n",
    "    #------- Gather inidividual pile details -------#\n",
    "    for pile in piles_info:\n",
    "        pile_detailedInfo = Get_py.get_onePile_APP(hdr, pile['code'])\n",
    "        conn = Insert_py.insert_singPile_details(conn, pile_detailedInfo)"
   ]
  },
  {
   "cell_type": "code",
   "execution_count": null,
   "metadata": {},
   "outputs": [],
   "source": []
  },
  {
   "cell_type": "code",
   "execution_count": null,
   "metadata": {},
   "outputs": [],
   "source": [
    "##------- Try fetching all the data through psycopg2 -------## \n",
    "# try:\n",
    "#     cur = conn.cursor()\n",
    "#     cur.execute(\"select stationid from tbl_app_eachstations limit 10;\")\n",
    "#     exists = cur.fetchall()\n",
    "#     cur.close()\n",
    "# except psycopg2.Error as e:\n",
    "#     print e\n",
    "# exists"
   ]
  },
  {
   "cell_type": "code",
   "execution_count": null,
   "metadata": {
    "collapsed": true
   },
   "outputs": [],
   "source": [
    "# REQUEST_URL = 'https://www.teld.cn/StationNetwork/GetStationNetword?ProvinceName=&CityName=&KeyWords=&RegionName=& \\\n",
    "#                             type=&page=1&rows=10'\n",
    "# # req = urllib.request.Request(REQUEST_URL) \n",
    "# hdr = {'User-Agent':'Mozilla/5.0 (Macintosh; Intel Mac OS X 10_12_5) AppleWebKit/537.36 (KHTML, like Gecko) Chrome/ \\\n",
    "#                        59.0.3071.115 Safari/537.36', \n",
    "#        'Accept':'text/html,application/xhtml+xml,application/xml;q=0.9,image/webp,image/apng,*/*;q=0.8'}\n",
    "# response = urllib2.Request(REQUEST_URL, headers=hdr)\n",
    "\n",
    "# try:\n",
    "#     page = urllib2.urlopen(response)\n",
    "# except urllib2.HTTPError, e:\n",
    "#     print e.fp.read()\n",
    "    \n",
    "# content = json.load(page)\n",
    "# print(content['rows'][0])\n",
    "# response_data = urllib.request.urlopen(REQUEST_URL)\n",
    "# d = json.load(response_data)\n",
    "# print('number of results %d' % (len(d)))\n",
    "# type(response_data)"
   ]
  },
  {
   "cell_type": "code",
   "execution_count": null,
   "metadata": {
    "collapsed": true
   },
   "outputs": [],
   "source": [
    "# conn = Insert_py.insert_station_info(conn, station_info)"
   ]
  },
  {
   "cell_type": "code",
   "execution_count": null,
   "metadata": {
    "collapsed": true
   },
   "outputs": [],
   "source": [
    "#conn = Insert_py.insert_pile_info(conn, str(station_info[1]['code']), piles_info)"
   ]
  },
  {
   "cell_type": "code",
   "execution_count": null,
   "metadata": {
    "collapsed": true
   },
   "outputs": [],
   "source": []
  },
  {
   "cell_type": "code",
   "execution_count": null,
   "metadata": {
    "collapsed": true
   },
   "outputs": [],
   "source": []
  }
 ],
 "metadata": {
  "kernelspec": {
   "display_name": "Python 2",
   "language": "python",
   "name": "python2"
  },
  "language_info": {
   "codemirror_mode": {
    "name": "ipython",
    "version": 2
   },
   "file_extension": ".py",
   "mimetype": "text/x-python",
   "name": "python",
   "nbconvert_exporter": "python",
   "pygments_lexer": "ipython2",
   "version": "2.7.12"
  }
 },
 "nbformat": 4,
 "nbformat_minor": 1
}
