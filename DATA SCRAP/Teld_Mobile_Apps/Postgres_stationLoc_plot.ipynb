{
 "cells": [
  {
   "cell_type": "code",
   "execution_count": 1,
   "metadata": {},
   "outputs": [
    {
     "name": "stdout",
     "output_type": "stream",
     "text": [
      "Importing Jupyter notebook from Init_database.ipynb\n"
     ]
    }
   ],
   "source": [
    "import nbimporter\n",
    "import psycopg2\n",
    "import Init_database as indb"
   ]
  },
  {
   "cell_type": "code",
   "execution_count": 15,
   "metadata": {},
   "outputs": [],
   "source": [
    "db_name=\"db_teld\"\n",
    "user_name=\"postgres\"\n",
    "password = \"postgres\"\n",
    "host=\"127.0.0.1\"\n",
    "port=\"5432\"\n",
    "conn = indb.init_db(db_name, user_name, password, host, port)"
   ]
  },
  {
   "cell_type": "code",
   "execution_count": 10,
   "metadata": {},
   "outputs": [
    {
     "name": "stdout",
     "output_type": "stream",
     "text": [
      "8866\n",
      "(116.26327, 39.863907)\n"
     ]
    }
   ],
   "source": [
    "try:\n",
    "    cur = conn.cursor()\n",
    "    stmt1 = \"select ST_AsText(location) from tbl_app_eachstations\"\n",
    "    cur.execute(stmt1)\n",
    "    station_loc1 = cur.fetchall()\n",
    "    stmt2 = \"select ST_X(location), ST_Y(location) from tbl_app_eachstations\"\n",
    "    cur.execute(stmt2)\n",
    "    station_loc2 = cur.fetchall()\n",
    "    cur.close()\n",
    "except psycopg2.Error as e:\n",
    "    print(e)\n",
    "print(len(station_loc1))\n",
    "print(station_loc2[0])"
   ]
  },
  {
   "cell_type": "code",
   "execution_count": 9,
   "metadata": {},
   "outputs": [
    {
     "name": "stdout",
     "output_type": "stream",
     "text": [
      "03bdb986-e834-48ba-85e3-80fa3382f566\n"
     ]
    }
   ],
   "source": [
    "try:\n",
    "    cur = conn.cursor()\n",
    "    stm3 = \"select stationid from tbl_app_eachstations\"\n",
    "    cur.execute(stm3)\n",
    "    stationId = cur.fetchall()\n",
    "    cur.close()\n",
    "except psycopg2.Error as e:\n",
    "    print(e)"
   ]
  },
  {
   "cell_type": "code",
   "execution_count": 16,
   "metadata": {
    "scrolled": true
   },
   "outputs": [
    {
     "name": "stdout",
     "output_type": "stream",
     "text": [
      "8866\n"
     ]
    }
   ],
   "source": [
    "try:\n",
    "    count_list = []\n",
    "    for i, stationid in enumerate(stationId):\n",
    "        conn = indb.init_db(db_name, user_name, password, host, port)\n",
    "        cur = conn.cursor()\n",
    "        stm4 = \"select count(*) from tbl_app_state where pillcode in (select pillcode from tbl_app_piles where staid = %s)\"\n",
    "        cur.execute(stm4, (stationid[0],))\n",
    "        count = cur.fetchall()\n",
    "        count_list.append(count)\n",
    "        cur.close()\n",
    "except psycopg2.Error as e:\n",
    "    print(e)\n",
    "print(len(count_list))"
   ]
  },
  {
   "cell_type": "code",
   "execution_count": 21,
   "metadata": {
    "collapsed": true
   },
   "outputs": [],
   "source": [
    "countList = []\n",
    "for i, count in enumerate(count_list):\n",
    "    countList.append(int(count[0][0]))\n",
    "import json\n",
    "with open('session_count.txt', 'w') as outfile:\n",
    "    json.dump(countList, outfile)"
   ]
  },
  {
   "cell_type": "code",
   "execution_count": 23,
   "metadata": {
    "collapsed": true,
    "scrolled": true
   },
   "outputs": [],
   "source": [
    "import xlwt\n",
    "book = xlwt.Workbook(encoding=\"utf-8\")\n",
    "sheet1 = book.add_sheet(\"Station Geo Location\")\n",
    "sheet1.write(0,0, \"longitude\")\n",
    "sheet1.write(0,1, \"latitude\")\n",
    "i = 1\n",
    "for item in station_loc2:\n",
    "    sheet1.write(i, 0, item[0])\n",
    "    sheet1.write(i, 1, item[1])\n",
    "    i+=1\n",
    "book.save(\"Station geo_info.csv\")"
   ]
  },
  {
   "cell_type": "code",
   "execution_count": 24,
   "metadata": {
    "collapsed": true
   },
   "outputs": [],
   "source": [
    "import json\n",
    "with open('data.txt', 'w') as outfile:\n",
    "    json.dump(station_loc2, outfile)"
   ]
  },
  {
   "cell_type": "code",
   "execution_count": null,
   "metadata": {
    "collapsed": true
   },
   "outputs": [],
   "source": [
    "station"
   ]
  }
 ],
 "metadata": {
  "kernelspec": {
   "display_name": "Python 2",
   "language": "python",
   "name": "python2"
  },
  "language_info": {
   "codemirror_mode": {
    "name": "ipython",
    "version": 2
   },
   "file_extension": ".py",
   "mimetype": "text/x-python",
   "name": "python",
   "nbconvert_exporter": "python",
   "pygments_lexer": "ipython2",
   "version": "2.7.12"
  }
 },
 "nbformat": 4,
 "nbformat_minor": 2
}
